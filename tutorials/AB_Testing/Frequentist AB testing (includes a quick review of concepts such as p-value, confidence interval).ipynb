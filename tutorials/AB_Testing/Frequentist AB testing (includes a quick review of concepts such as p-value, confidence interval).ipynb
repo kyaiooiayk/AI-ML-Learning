{
 "cells": [
  {
   "cell_type": "markdown",
   "metadata": {},
   "source": [
    "# Introduction"
   ]
  },
  {
   "cell_type": "markdown",
   "metadata": {},
   "source": [
    "<div class=\"alert alert-block alert-warning\">\n",
    "<font color=black><br>\n",
    "\n",
    "**What?** Frequentist AB testing (includes a quick review of concepts such as p-value, confidence interval)\n",
    "\n",
    "<br></font>\n",
    "</div>"
   ]
  },
  {
   "cell_type": "markdown",
   "metadata": {},
   "source": [
    "# Import modules"
   ]
  },
  {
   "cell_type": "code",
   "execution_count": 1,
   "metadata": {
    "ExecuteTime": {
     "end_time": "2021-04-01T04:02:25.061827Z",
     "start_time": "2021-04-01T04:02:23.769063Z"
    }
   },
   "outputs": [],
   "source": [
    "import numpy as np\n",
    "import pandas as pd\n",
    "import seaborn as sns\n",
    "import scipy.stats as stats\n",
    "import matplotlib.pyplot as plt\n",
    "from statsmodels.stats.proportion import proportions_ztest\n",
    "from statsmodels.stats.proportion import proportions_chisquare"
   ]
  },
  {
   "cell_type": "code",
   "execution_count": 2,
   "metadata": {
    "ExecuteTime": {
     "end_time": "2021-04-01T04:02:25.092513Z",
     "start_time": "2021-04-01T04:02:25.065345Z"
    }
   },
   "outputs": [],
   "source": [
    "# setup the look and feel of the notebook\n",
    "plt.rcParams['figure.figsize'] = 8, 6\n",
    "sns.set_context('notebook', font_scale = 1.5, rc = {'lines.linewidth': 2.5})\n",
    "sns.set_style('whitegrid')\n",
    "sns.set_palette('deep')\n",
    "\n",
    "# Create a couple of colors to use throughout the notebook\n",
    "red = sns.xkcd_rgb['vermillion']\n",
    "blue = sns.xkcd_rgb['dark sky blue']"
   ]
  },
  {
   "cell_type": "markdown",
   "metadata": {},
   "source": [
    "Statistical inference is the process of analyzing sample data to gain insight into the population from which the data was collected and to investigate differences between data samples. In data analysis, we are often interested in the characteristics of some large population, but collecting data on the entire population may be infeasible. For example, leading up to U.S. presidential elections it could be very useful to know the political leanings of every single eligible voter, but surveying every voter is not feasible. Instead, we could poll some subset of the population, such as a thousand registered voters, and use that data to make inferences about the population as a whole."
   ]
  },
  {
   "cell_type": "markdown",
   "metadata": {},
   "source": [
    "## Point Estimate"
   ]
  },
  {
   "cell_type": "markdown",
   "metadata": {},
   "source": [
    "Point estimates are estimates of population parameters based on sample data. For instance, if we wanted to know the average age of registered voters in the U.S., we could take a survey of registered voters and then use the average age of the respondents as a point estimate of the average age of the population as a whole. The average of a sample is known as the sample mean.\n",
    "The sample mean is usually not exactly the same as the population mean. This difference can be caused by many factors including poor survey design, biased sampling methods and the randomness inherent to drawing a sample from a population. Let's investigate point estimates by generating a population of random age data and then drawing a sample from it to estimate the mean:"
   ]
  },
  {
   "cell_type": "code",
   "execution_count": 3,
   "metadata": {
    "ExecuteTime": {
     "end_time": "2021-04-01T04:02:25.354580Z",
     "start_time": "2021-04-01T04:02:25.301323Z"
    }
   },
   "outputs": [
    {
     "name": "stdout",
     "output_type": "stream",
     "text": [
      "population mean: 43.002372\n"
     ]
    }
   ],
   "source": [
    "# generate some random number to serve as our population\n",
    "np.random.seed(10)\n",
    "population_ages1 = stats.poisson.rvs(loc = 18, mu = 35, size = 150000)\n",
    "population_ages2 = stats.poisson.rvs(loc = 18, mu = 10, size = 100000)\n",
    "population_ages = np.concatenate((population_ages1, population_ages2))\n",
    "print('population mean:', np.mean(population_ages))"
   ]
  },
  {
   "cell_type": "code",
   "execution_count": 4,
   "metadata": {
    "ExecuteTime": {
     "end_time": "2021-04-01T04:02:25.382052Z",
     "start_time": "2021-04-01T04:02:25.357565Z"
    }
   },
   "outputs": [
    {
     "name": "stdout",
     "output_type": "stream",
     "text": [
      "sample mean: 42.388\n"
     ]
    }
   ],
   "source": [
    "np.random.seed(6)\n",
    "sample_ages = np.random.choice(population_ages, size = 500)\n",
    "print('sample mean:', np.mean(sample_ages))"
   ]
  },
  {
   "cell_type": "markdown",
   "metadata": {},
   "source": [
    "The experiment tells us that we'd expect the distribution of the population to be a similar shape to that of the sample, so we can assume that the mean of the sample and the population should have the same value. Note that we can't say that they exactly match, but it's the best estimate we can make.\n",
    "\n",
    "The population mean is often denoted as $\\mu$, the estimated population mean as $\\hat{\\mu}$, mean of the sample $\\bar{x}$. So here we're basically saying $\\hat{\\mu} = \\bar{x}$, where we're using the sample mean to estimate the mean of the population and usually the larger the size of our sample, the more accurate our point estimator for the estimated population mean is going to be."
   ]
  },
  {
   "cell_type": "markdown",
   "metadata": {},
   "source": [
    "## Sampling Distributions and The Central Limit Theorem"
   ]
  },
  {
   "cell_type": "markdown",
   "metadata": {},
   "source": [
    "Many statistical procedures assume that data follows a normal distribution, because the normal distribution has nice properties like being symmetric and having the majority of the data clustered within a few standard deviations of the mean. Unfortunately, real world data is often not normally distributed and the distribution of a sample tends to mirror the distribution of the population. This means a sample taken from a population with a skewed distribution will also tend to be skewed."
   ]
  },
  {
   "cell_type": "code",
   "execution_count": 5,
   "metadata": {
    "ExecuteTime": {
     "end_time": "2021-04-01T04:02:29.959328Z",
     "start_time": "2021-04-01T04:02:26.735542Z"
    }
   },
   "outputs": [
    {
     "data": {
      "image/png": "[encoded data removed]",
      "text/plain": [
       "<Figure size 864x432 with 2 Axes>"
      ]
     },
     "metadata": {},
     "output_type": "display_data"
    }
   ],
   "source": [
    "fig = plt.figure(figsize = (12, 6))\n",
    "plt.subplot(1, 2, 1)\n",
    "plt.hist(population_ages)\n",
    "plt.title('Population')\n",
    "plt.subplot(1, 2, 2)\n",
    "plt.hist(sample_ages)\n",
    "plt.title('Sample')\n",
    "plt.show()"
   ]
  },
  {
   "cell_type": "markdown",
   "metadata": {},
   "source": [
    "The plot reveals the data is clearly not normal: instead of one symmetric bell curve, it has as bimodal distribution with two high density peaks. Because of this, the sample we drew from this population should have roughly the same shape and skew.\n",
    "\n",
    "The sample has roughly the same shape as the underlying population. This suggests that we can't apply techniques that assume a normal distribution to this data set, since it is not normal. This leads to our next topic, the **central limit theorem**.\n",
    "\n",
    "The central limit theorem is one of the most important results of probability theory and serves as the foundation of many methods of statistical analysis. At a high level, the theorem states the distribution of many sample means, known as a sampling distribution, will be normally distributed. This rule holds even if the underlying distribution itself is not normally distributed. As a result we can treat the sample mean as if it were drawn normal distribution. To illustrate, let's create a sampling distribution by taking 200 samples from our population and then making 200 point estimates of the mean:"
   ]
  },
  {
   "cell_type": "code",
   "execution_count": 6,
   "metadata": {
    "ExecuteTime": {
     "end_time": "2021-04-01T04:02:30.494666Z",
     "start_time": "2021-04-01T04:02:29.961677Z"
    }
   },
   "outputs": [
    {
     "data": {
      "image/png": "[encoded data removed]",
      "text/plain": [
       "<Figure size 576x432 with 1 Axes>"
      ]
     },
     "metadata": {},
     "output_type": "display_data"
    }
   ],
   "source": [
    "np.random.seed(10)\n",
    "samples = 200\n",
    "point_estimates = [np.random.choice(population_ages, size = 500).mean()\n",
    "                   for _ in range(samples)]\n",
    "\n",
    "plt.hist(point_estimates)\n",
    "plt.show()"
   ]
  },
  {
   "cell_type": "markdown",
   "metadata": {},
   "source": [
    "The sampling distribution appears to be roughly normal, despite the bimodal population distribution that the samples were drawn from. In addition, the mean of the sampling distribution approaches the true population mean:"
   ]
  },
  {
   "cell_type": "code",
   "execution_count": 7,
   "metadata": {
    "ExecuteTime": {
     "end_time": "2021-04-01T04:02:30.523049Z",
     "start_time": "2021-04-01T04:02:30.496517Z"
    }
   },
   "outputs": [
    {
     "data": {
      "text/plain": [
       "-0.08440799999999626"
      ]
     },
     "execution_count": 7,
     "metadata": {},
     "output_type": "execute_result"
    }
   ],
   "source": [
    "population_ages.mean() - np.mean(point_estimates)"
   ]
  },
  {
   "cell_type": "markdown",
   "metadata": {},
   "source": [
    "To hit the notion home, Central Limit Theorem states that that if we collect \"a large number\" of different samples mean from the population, the sampling distribution, the distribution of the samples mean you collected, will approximately take the shape of a normal distribution around the population mean no matter what the orginal population distribution is.\n",
    "\n",
    "Knowing that the sampling distribution will take the shape of a normal distribution is what makes the theorem so powerful, as it is the foundation of concepts such as confidence intervals and margins of error in frequentist statistics."
   ]
  },
  {
   "cell_type": "markdown",
   "metadata": {},
   "source": [
    "## Confidence Interval"
   ]
  },
  {
   "cell_type": "markdown",
   "metadata": {},
   "source": [
    "A point estimate can give us a rough idea of a population parameter like the mean, but estimates are prone to error. A confidence interval is a range of values above and below a point estimate that captures the true population parameter at some predetermined confidence level. For example, if you want to have a 95% chance of capturing the true population parameter with a point estimate and a corresponding confidence interval, we'd set our confidence level to 95%. Higher confidence levels result in a wider confidence intervals.\n",
    "\n",
    "The interval is computed using the formula: \n",
    "\n",
    "$$\n",
    "\\begin{align}\n",
    "\\text{point estimate} \\pm z * SE\n",
    "\\end{align}\n",
    "$$\n",
    "\n",
    "Where\n",
    "\n",
    "- $z$ is called the **critical value** and it corresponds to the **confidence level** that we chose. Critical value is the number of standard deviations we'd have to go from the mean of the normal distribution to capture the proportion of the data associated with the desired confidence level. For instance, we know that roughly 95% of the data in a normal distribution lies within 2 standard deviations from the mean, so we could use 2 as the z-critical value for a 95% confidence interval (although it is more exact to get z-critical values with `stats.norm.ppf()`)\n",
    "- $SE$ represents the **standard error**. Generally the standard error for a point estimate is estimated from the data and computed using a formula. For example, the standard error for the sample mean is $\\frac{s}{ \\sqrt{n} }$, where $s$ is the standard deviation and $n$ is the number of samples.\n",
    "- The value $z * SE$ is called the **margin of error**.\n",
    "- Note that this constructing confidence intervals framework can be easily adapted for any estimator that has a nearly normal sampling distribution. e.g. sample mean, two sample mean, sample proportion and two sample proportion (we'll later see). All we have to do this is change the way that we're calculating the standard error."
   ]
  },
  {
   "cell_type": "code",
   "execution_count": 38,
   "metadata": {
    "ExecuteTime": {
     "end_time": "2021-04-01T04:02:30.554460Z",
     "start_time": "2021-04-01T04:02:30.524982Z"
    }
   },
   "outputs": [
    {
     "name": "stdout",
     "output_type": "stream",
     "text": [
      "z-critical value: 1.959963984540054\n",
      "point esimate: 42.523\n",
      "Confidence interval: (41.70306406882683, 43.34293593117317)\n"
     ]
    }
   ],
   "source": [
    "np.random.seed(10)\n",
    "sample_size = 1000\n",
    "sample = np.random.choice(population_ages, size = sample_size)\n",
    "sample_mean = sample.mean()\n",
    "\n",
    "confidence = 0.95\n",
    "z_critical = stats.norm.ppf(q = confidence + (1 - confidence) / 2)\n",
    "print('z-critical value:', z_critical)                     \n",
    "\n",
    "pop_stdev = population_ages.std()\n",
    "margin_of_error = z_critical * (pop_stdev / np.sqrt(sample_size))\n",
    "confint = sample_mean - margin_of_error, sample_mean + margin_of_error\n",
    "print('point esimate:', sample_mean)\n",
    "print('Confidence interval:', confint)"
   ]
  },
  {
   "cell_type": "markdown",
   "metadata": {},
   "source": [
    "Notice that the confidence interval we calculated captures the true population mean of 43.0023.\n",
    "Let's create several confidence intervals and plot them to get a better sense of what it means to \"capture\" the true mean:"
   ]
  },
  {
   "cell_type": "code",
   "execution_count": 9,
   "metadata": {
    "ExecuteTime": {
     "end_time": "2021-04-01T04:02:31.386544Z",
     "start_time": "2021-04-01T04:02:30.557753Z"
    }
   },
   "outputs": [
    {
     "data": {
      "image/png": "[encoded data removed]",
      "text/plain": [
       "<Figure size 720x576 with 1 Axes>"
      ]
     },
     "metadata": {},
     "output_type": "display_data"
    }
   ],
   "source": [
    "np.random.seed(12)\n",
    "confidence = 0.95\n",
    "sample_size = 1000\n",
    "\n",
    "intervals = []\n",
    "sample_means = []\n",
    "for sample in range(25):\n",
    "    sample = np.random.choice(population_ages, size = sample_size)\n",
    "    sample_mean = sample.mean()\n",
    "    sample_means.append(sample_mean)\n",
    "\n",
    "    z_critical = stats.norm.ppf(q = confidence + (1 - confidence) / 2)                    \n",
    "    pop_std = population_ages.std()\n",
    "    margin_error = z_critical * (pop_stdev / np.sqrt(sample_size))\n",
    "    confint = sample_mean - margin_error, sample_mean + margin_error \n",
    "    intervals.append(confint)\n",
    "    \n",
    "\n",
    "plt.figure(figsize = (10, 8))\n",
    "plt.errorbar(x = np.arange(0.1, 25, 1), y = sample_means, \n",
    "             yerr = [(top - bot) / 2 for top, bot in intervals], fmt = 'o')\n",
    "\n",
    "plt.hlines(xmin = 0, xmax = 25,\n",
    "           y = population_ages.mean(), \n",
    "           linewidth = 2.0, color = red)\n",
    "plt.show()"
   ]
  },
  {
   "cell_type": "markdown",
   "metadata": {},
   "source": [
    "Notice that in the plot above, all but one of the 95% confidence intervals overlap the red line marking the true mean. This is to be expected: since a 95% confidence interval captures the true mean 95% of the time, we'd expect our interval to miss the true mean 5% of the time.\n",
    "\n",
    "More formally, the definition of a 95% confidence interval means that **95% of confidence intervals, created based on random samples of the same size from the same population will contain the true population parameter**."
   ]
  },
  {
   "cell_type": "markdown",
   "metadata": {},
   "source": [
    "##  Hypothesis Testing"
   ]
  },
  {
   "cell_type": "markdown",
   "metadata": {},
   "source": [
    "Lets starts off with a motivating example that asks the question \"If you toss a coin 30 times and see 22 heads, is it a fair coin?\"\n",
    "\n",
    "We all know that a fair coin should come up heads roughly 15 out of 30 tosses, give or take, so it does seem unlikely to see so many heads. However, the skeptic might argue that even a fair coin could show 22 heads in 30 tosses from time-to-time. This could just be a chance event. So, the question would then be \"how can you determine if we're tossing a fair coin?\"\n",
    "\n",
    "Let's start by first considering the probability of a single coin flip coming up heads and work our way up to 22 out of 30.\n",
    "\n",
    "$$\n",
    "\\begin{align}\n",
    "P(H) = \\frac{1}{2}\n",
    "\\end{align}\n",
    "$$\n",
    "\n",
    "As our equation shows, the probability of a single coin toss turning up heads is exactly 50% since there is an equal chance of either heads or tails turning up. Taking this one step further, to determine the probability of getting 2 heads in a row with 2 coin tosses, we would need to multiply the probability of getting heads by the probability of getting heads again since the two events are independent of one another.\n",
    "\n",
    "$$\n",
    "\\begin{align}\n",
    "P(HH) = P(H) \\cdot P(H) = P(H)^2 = \\left(\\frac{1}{2}\\right)^2 = \\frac{1}{4}\n",
    "\\end{align}\n",
    "$$\n",
    "\n",
    "Let's now take a look at a slightly different scenario and calculate the probability of getting 2 heads and 1 tails with 3 coin tosses. To get the actual probability of tossing 2 heads and 1 tails we will have to add the probabilities for all of the possible permutations, of which there are exactly three: HHT, HTH, and THH.\n",
    "\n",
    "$$\n",
    "\\begin{align}\n",
    "P(2H,1T) = P(HHT) + P(HTH) + P(THH) = \\frac{1}{8} + \\frac{1}{8} + \\frac{1}{8} = \\frac{3}{8}\n",
    "\\end{align}\n",
    "$$\n",
    "\n",
    "Another way we could do this is to use the binomial distribution:\n",
    "\n",
    "$$\n",
    "\\begin{align}\n",
    "P(N_H,N_T) = \\binom{n}{k} p^{k} \\left( 1 - p \\right)^{n - k}\n",
    "\\end{align}\n",
    "$$\n",
    "\n",
    "Where \n",
    "\n",
    "- $n$ is number of coin flips\n",
    "- $p$ is the probability of getting heads on each flip\n",
    "\n",
    "The $\\binom{n}{k}$ tells us how many ways are there to get $k$ heads our of $n$ total number of coin flips?\" and the $p^k(1-p)^{n-k}$ answers the question \"how likely is any given $k$ heads and $n-k$ tails?\", multiply them together and we get the probability of getting exactly $k$ heads.\n",
    "\n",
    "Now that we understand the classic method, let's use it to test whether we are actually tossing a fair coin."
   ]
  },
  {
   "cell_type": "code",
   "execution_count": 10,
   "metadata": {
    "ExecuteTime": {
     "end_time": "2021-04-01T04:02:32.669687Z",
     "start_time": "2021-04-01T04:02:31.389385Z"
    }
   },
   "outputs": [
    {
     "data": {
      "image/png": "[encoded data removed]",
      "text/plain": [
       "<Figure size 576x432 with 1 Axes>"
      ]
     },
     "metadata": {},
     "output_type": "display_data"
    }
   ],
   "source": [
    "# Calculate the probability for every possible outcome\n",
    "# of tossing a fair coin 30 k_range\n",
    "\n",
    "k_range = range(1, 31)  # number of heads appearing\n",
    "n = 30  # number of k_range tossing the coin\n",
    "p = 0.5  # probability of coin appearing up as head\n",
    "\n",
    "prob = stats.binom(n = n, p = p).pmf(k = k_range)\n",
    "\n",
    "# Plot the probability distribution using the probabilities list \n",
    "# we created above.\n",
    "plt.step(k_range, prob, where = 'mid', color = blue)\n",
    "plt.xlabel('Number of heads')\n",
    "plt.ylabel('Probability')\n",
    "plt.plot((22, 22), (0, 0.1599), color = red)\n",
    "plt.annotate('0.8%', xytext = (25, 0.08), xy = (22, 0.08), \n",
    "             va = 'center', color = red, size = 'large',\n",
    "             arrowprops = {'arrowstyle': '<|-', 'lw': 2,\n",
    "                           'color': red, 'shrinkA': 10})\n",
    "plt.show()"
   ]
  },
  {
   "cell_type": "markdown",
   "metadata": {},
   "source": [
    "The visualization above shows the probability distribution for flipping a fair coin 30 times. Using this visualization we can now determine the probability of getting, say for example, 12 heads in 30 flips, which looks to be about 8%. Notice that we've labeled our example of 22 heads as 0.8%. If we look at the probability of flipping exactly 22 heads, it looks likes to be a little less than 0.8%, in fact if we calculate it using the function from above, we get 0.5%."
   ]
  },
  {
   "cell_type": "code",
   "execution_count": 11,
   "metadata": {
    "ExecuteTime": {
     "end_time": "2021-04-01T04:02:32.701525Z",
     "start_time": "2021-04-01T04:02:32.672087Z"
    }
   },
   "outputs": [
    {
     "name": "stdout",
     "output_type": "stream",
     "text": [
      "Probability of flipping 22 heads: 0.5%\n"
     ]
    }
   ],
   "source": [
    "prob = stats.binom(n = n, p = p).pmf(k = 22)\n",
    "print('Probability of flipping 22 heads: {:0.1f}%'.format(prob * 100))"
   ]
  },
  {
   "cell_type": "markdown",
   "metadata": {},
   "source": [
    "So, then why do we have 0.8% labeled in our probability distribution above? Well, that's because we are showing the probability of getting at least 22 heads, which is also known as the **p-value**.\n",
    "\n",
    "Let's pull back from our example and discuss formally about hypothesis testing. In standard frequentist statistic's hypothesis testing, we start with a null hypothesis that we usually call $H_0$ (pronouced as H naught), which represents our status quo. On the other hand, we also have an alternative hypothesis our $H_1$ that represents the question that we wish to answer, i.e. what we’re testing for.\n",
    "\n",
    "After setting up our null and alternative hypothesis, we conduct a hypothesis test under the assumption that the null hypothesis is true. If the test results suggest that the data do not provide convincing evidence for the alternative hypothesis, we stick with the null hypothesis. If they do, then we reject the null hypothesis in favor of the alternative.\n",
    "\n",
    "Frequentist statistic's hypothesis testing uses a p-value to weigh the strength of the evidence (what the data is telling you about the population). p-value is defined as **the probability of obtaining the observed or more extreme outcome, given that the null hypothesis is true (not the probability that the alternative hypthesis is true)**. It is a number between 0 and 1 and interpreted in the following way:\n",
    "\n",
    "- A small p-value (typically <= 0.05, 0.05 is a commonly used threshold, the threshold is often denoted as $\\alpha$) indicates strong evidence against the null hypothesis, so we reject the null hypothesis. This means that something interesting is going on and it’s not just noise!\n",
    "- A large p-value (> 0.05) indicates weak evidence against the null hypothesis, so we fail to reject the null hypothesis. Although p-value is still in our favor, we cannot conclusively say that it was not due to random noise.\n",
    "- p-values very close to the cutoff (0.05) are considered to be marginal (could go either way). If you carefully read good papers on these kind of topics, you will always see the p-values being reported so that the readers can draw their own conclusions.\n",
    "\n",
    "**Example:**\n",
    "\n",
    "Let's say that a pizza place claims their delivery times are 30 minutes or less on average. Now we think it's actually takes more than 30 minutes. We conduct a hypothesis test because we believe the null hypothesis, that the mean delivery time is 30 minutes maximum, is incorrect. This means that our alternative hypothesis is the mean time is greater than 30 minutes. We randomly sample some delivery times and run the data through the hypothesis test, and our p-value turns out to be 0.01, which is much less than 0.05.\n",
    "\n",
    "In real terms, there is a probability of 0.01 that we will mistakenly reject the pizza place's claim that their delivery time is less than or equal to 30 minutes. Since typically we are willing to reject the null hypothesis when this probability is less than 0.05, we conclude that the pizza place is wrong; their delivery times are in fact more than 30 minutes on average."
   ]
  },
  {
   "cell_type": "markdown",
   "metadata": {},
   "source": [
    "Back with our coin toss example, the null hypothesis assumes we have a fair coin, and the way we determine if this hypothesis is true or not is by calculating how often flipping this fair coin 30 times would result in 22 or more heads. If we then take the number of times that we got 22 or more heads and divide that number by the total of all possible permutations of 30 coin tosses, we get the probability of tossing 22 or more heads with a fair coin. This probability is essentially our p-value."
   ]
  },
  {
   "cell_type": "code",
   "execution_count": 12,
   "metadata": {
    "ExecuteTime": {
     "end_time": "2021-04-01T04:02:32.736892Z",
     "start_time": "2021-04-01T04:02:32.706352Z"
    }
   },
   "outputs": [
    {
     "name": "stdout",
     "output_type": "stream",
     "text": [
      "P-value: 0.8%\n"
     ]
    }
   ],
   "source": [
    "def compute_pvalue(n, k, p):\n",
    "    \"\"\"Returns the p-value for binomial distribution\"\"\"\n",
    "    k_range = range(k, n + 1)\n",
    "    pvalue = stats.binom(n = n, p = p).pmf(k = k_range).sum()\n",
    "    return pvalue\n",
    "\n",
    "\n",
    "pvalue = compute_pvalue(n = 30, k = 22, p = 0.5)\n",
    "print('P-value: {:0.1f}%'.format(pvalue * 100))"
   ]
  },
  {
   "cell_type": "markdown",
   "metadata": {},
   "source": [
    "The role of p-value is used to check the validity of the null hypothesis. The way this is done is by agreeing upon some predetermined upper limit for our p-value, below which we will assume that our null hypothesis is false.\n",
    "\n",
    "In other words, if our null hypothesis were true, and 22 heads in 30 flips could happen often enough by chance, we would expect to see it happen more often than the given threshold percentage of times. So, for example, if we chose 10% as our p-value threshold, then we would expect to see 22 or more heads show up at least 10% of the time to determine that this is a chance occurrence and not due to some bias in the coin. Historically, the generally accepted threshold has been 5%, and so if our p-value is less than 5%, we can then make the assumption that our coin may not be fair.\n",
    "\n",
    "Running the code above gives us a p-value of roughly 0.8%, which matches the value in our probability distribution above and is also less than the 5% threshold needed to reject our null hypothesis, so it does look like we may have a biased coin."
   ]
  },
  {
   "cell_type": "code",
   "execution_count": 13,
   "metadata": {
    "ExecuteTime": {
     "end_time": "2021-04-01T04:02:32.769785Z",
     "start_time": "2021-04-01T04:02:32.739966Z"
    }
   },
   "outputs": [
    {
     "name": "stdout",
     "output_type": "stream",
     "text": [
      "P-value: 0.8%\n"
     ]
    }
   ],
   "source": [
    "# we can also use the binom_test function from scipy to\n",
    "# perform the hypothesis testing\n",
    "pvalue = stats.binom_test(x = 22, n = 30, p = 0.5, alternative = 'greater')\n",
    "print('P-value: {:0.1f}%'.format(pvalue * 100))"
   ]
  },
  {
   "cell_type": "markdown",
   "metadata": {},
   "source": [
    "## Simulation"
   ]
  },
  {
   "cell_type": "markdown",
   "metadata": {},
   "source": [
    "Instead of using the statistical approach, the code below seeks to answer the same question of whether or not our coin is fair by running a large number of simulated coin flips and calculating the proportion of these experiments that resulted in at least 22 heads or more."
   ]
  },
  {
   "cell_type": "code",
   "execution_count": 14,
   "metadata": {
    "ExecuteTime": {
     "end_time": "2021-04-01T04:02:34.993555Z",
     "start_time": "2021-04-01T04:02:33.672906Z"
    }
   },
   "outputs": [
    {
     "name": "stdout",
     "output_type": "stream",
     "text": [
      "Simulated P-value: 0.8%\n"
     ]
    }
   ],
   "source": [
    "def coin_toss(n_simulation = 100000):\n",
    "    \"\"\"\n",
    "    computing a fair coin resulting in at\n",
    "    least 22 heads or more through simulation\n",
    "    \"\"\"\n",
    "    pvalue = 0\n",
    "    for i in range(n_simulation):\n",
    "        # trials: 1 denotes head, 0 denotes tail\n",
    "        trials = np.random.randint(2, size = 30)\n",
    "        if trials.sum() >= 22:\n",
    "            pvalue += 1\n",
    "\n",
    "    pvalue /= n_simulation\n",
    "    return pvalue\n",
    "\n",
    "\n",
    "pvalue = coin_toss()\n",
    "print('Simulated P-value: {:0.1f}%'.format(pvalue * 100))"
   ]
  },
  {
   "cell_type": "markdown",
   "metadata": {},
   "source": [
    "The result of our simulations is 0.8%, the exact same result we got earlier when we calculated the p-value using the classical method above."
   ]
  },
  {
   "cell_type": "markdown",
   "metadata": {},
   "source": [
    "# Frequentist A/B testing"
   ]
  },
  {
   "cell_type": "markdown",
   "metadata": {},
   "source": [
    "A/B testing is essentially a simple randomized trial. Randomized trials are (usually) considered the gold standard study design for evaluating the efficacy of new medical treatments, but they are also used much more widely in experimental research.\n",
    "\n",
    "For example, when someone visits a website, the site sends them to one of two (or possibly more) different landing or home pages, and which one they are sent to is chosen at random. The purpose is to determine which page version generates a superior outcome, e.g. which page generates more advertising revenue, or which which page leads a greater proportion of visitors to continue visiting the site.\n",
    "\n",
    "The key idea is that because we randomize which landing page (or treatment in the case of a randomized clinical trial) someone goes to, after a large number of visitors, the groups of people who visited the two pages are completely comparable in respect of all characteristics (e.g. age, gender, location, and anything else you can think of!). Because the two groups are comparable, we can compare the outcomes (e.g. amount of advertising revenue) between the two groups to obtain an unbiased, and fair, assessment of the relative effectiveness (in terms of our defined outcome) of the two designs.\n",
    "\n",
    "Suppose for the moment that we've had two visitors to our site, and one visitor has been randomized to page A, and the other visitor to page B (note that it is entirely possible, with simple randomization, that both visitors could have both been sent to page A). Suppose next that the visitor to page A generated revenue, but the visitor to page B generated no revenue. Should we conclude that page A is superior to page B, in terms of revenue generation? Of course not. Because we have only sampled two visitors, it is entirely possible that the visitor to page A would have generated revenue even if they had been sent to page B, perhaps because they are very interested in the site's content, whereas perhaps the visitor to page B was not particularly interested in the site content, and was never going to generate revenue. We can overcome this problem by running the A/B testing for a sufficiently large number of visitors, such that the probability that the scenario described above is sufficiently small.\n",
    "\n",
    "Scenario: We ran an A/B test with two different versions of a web page, a and b, for which we count the number of visitors and whether they convert or not. We can summarize this in a contingency table showing the frequency distribution of the events:"
   ]
  },
  {
   "cell_type": "code",
   "execution_count": 15,
   "metadata": {
    "ExecuteTime": {
     "end_time": "2021-04-01T04:02:35.034732Z",
     "start_time": "2021-04-01T04:02:34.995591Z"
    }
   },
   "outputs": [
    {
     "data": {
      "text/html": [
       "<div>\n",
       "<style scoped>\n",
       "    .dataframe tbody tr th:only-of-type {\n",
       "        vertical-align: middle;\n",
       "    }\n",
       "\n",
       "    .dataframe tbody tr th {\n",
       "        vertical-align: top;\n",
       "    }\n",
       "\n",
       "    .dataframe thead th {\n",
       "        text-align: right;\n",
       "    }\n",
       "</style>\n",
       "<table border=\"1\" class=\"dataframe\">\n",
       "  <thead>\n",
       "    <tr style=\"text-align: right;\">\n",
       "      <th></th>\n",
       "      <th>version</th>\n",
       "      <th>not_converted</th>\n",
       "      <th>converted</th>\n",
       "    </tr>\n",
       "  </thead>\n",
       "  <tbody>\n",
       "    <tr>\n",
       "      <th>0</th>\n",
       "      <td>A</td>\n",
       "      <td>4514</td>\n",
       "      <td>486</td>\n",
       "    </tr>\n",
       "    <tr>\n",
       "      <th>1</th>\n",
       "      <td>B</td>\n",
       "      <td>4473</td>\n",
       "      <td>527</td>\n",
       "    </tr>\n",
       "  </tbody>\n",
       "</table>\n",
       "</div>"
      ],
      "text/plain": [
       "  version  not_converted  converted\n",
       "0       A           4514        486\n",
       "1       B           4473        527"
      ]
     },
     "execution_count": 15,
     "metadata": {},
     "output_type": "execute_result"
    }
   ],
   "source": [
    "data = pd.DataFrame({\n",
    "    'version': ['A', 'B'],\n",
    "    'not_converted': [4514, 4473],\n",
    "    'converted': [486, 527]\n",
    "})[['version', 'not_converted', 'converted']]\n",
    "data"
   ]
  },
  {
   "cell_type": "markdown",
   "metadata": {},
   "source": [
    "It is trivial to compute the conversion rate of each version, 486/(486 + 4514) = 9.72% for a and 10.5% for b. With such a relatively small difference, however, can we convincingly say that the version b converts better? To test the statistical significance of a result like this, a hypothesis testing can be used."
   ]
  },
  {
   "cell_type": "markdown",
   "metadata": {},
   "source": [
    "## Comparing Two Proportions"
   ]
  },
  {
   "cell_type": "markdown",
   "metadata": {},
   "source": [
    "Let's formalize our thought process a little bit, suppose that we have obtained data from n visitors, $n_A$ of which have been (randomly) sent to page A, and $n_B$ of which have been sent to page B. Further, let $X_A$ and $X_B$ denote the number of visitors for whom we obtained a 'successful' outcome in the two groups. The proportion of successes in the two groups is then given by $\\hat{p_A} = X_A/n_A$ and $\\hat{p_B} = X_B/n_B$ respectively. The estimated difference in success rates is then give by the difference in proportions: $\\hat{p_A} - \\hat{p_B}$:\n",
    "\n",
    "To assess whether we have statistical evidence that the two pages' success rates truely differ, we can perform a hypothesis test. The null hypothesis that we want to test is that the two pages' true success rates are equal, whereas the alternative is that they differ (one is higher than the other). If $p_A$ = the proportion of the page A population whom we obtained a successful outcome and $p_B$ = the proportion of the page B population whom we obtained a successful outcome then we are interested in testing the following hypothesis:\n",
    "\n",
    "$$\n",
    "\\begin{align}\n",
    "H_0:p_A = p_B \\text{ versus } H_A: p_A \\neq p_B\n",
    "\\end{align}\n",
    "$$\n",
    "\n",
    "Or put it in another way, the null hypothesis says that the factors 'page type' and 'outcome' are statistically independent of each other. In words, this means knowing which page someone is sent to tells you nothing about the chance that they will have a successful outcome. Now that we know what hypothesis test we're interested in, we'll have to derive the appropriate test statistic.\n",
    "\n",
    "A test statistic is a single metric that can be used to evaluate the null hypothesis and the standard way to obtain this metric is to compute the z-score that measures how many standard deviations below or above the population mean a raw score is: \n",
    "\n",
    "$$\n",
    "\\begin{align}\n",
    "z = \\frac{x - \\mu}{SE}\n",
    "\\end{align}\n",
    "$$\n",
    "\n",
    "Where:\n",
    "\n",
    "- $\\mu$ denotes the mean\n",
    "- $SE$ or sometimes seen as the symbol $\\sigma$ denotes the standard error, computed by $\\frac{s}{\\sqrt{n}}$, where $s$ denotes the standard error and $n$ denotes the number of samples\n",
    "\n",
    "The following link contains an example of where this is applied in proportion hypothesis testing for those who feels uncomfortable with this concept. [Notes: Eberly College of Science STAT 414/415: Test About Proportions](https://onlinecourses.science.psu.edu/stat414/node/265)\n",
    "\n",
    "For our test the underlying metric is a binary yes/no variable (event), which means the appropriate test statistic is a test for differences in proportions:\n",
    "\n",
    "$$\n",
    "\\begin{align}\n",
    "Z = \\frac{ (\\hat{p_A} - \\hat{p_B}) - (p_A - p_B) }{SE(p_A - p_B)}\n",
    "\\end{align}\n",
    "$$\n",
    "\n",
    "The test statistic makes sense as it measuring the difference in the observed proportions and the estimated proportion, standardized by an estimate of the standard error of this quantity.\n",
    "\n",
    "To compute the test statistic, we first need to find the standard deviation/variance of $p_A - p_B$:\n",
    "\n",
    "$$\n",
    "\\begin{align}\n",
    "Var(p_A - p_B)\n",
    "&= Var(p_A) +  Var(p_B) \\\\\n",
    "&= \\frac{p_A (1 - p_A)}{n_A} + \\frac{p_B (1 - p_B)}{n_B} \\\\\n",
    "&= p (1 - p) \\left( \\frac{1}{n_A} + \\frac{1}{n_B} \\right)\n",
    "\\end{align}\n",
    "$$\n",
    "\n",
    "- The first step stems from that fact that, given that we know:\n",
    "    - The variance of a random variable X is defined as $Var(X) = E[X^2] - E[X]^2$\n",
    "    - The covariance between two random variable X and Y is defined as $Cov(X, Y) = E[(X - u_x)(y - u_y)] = E[XY] - E[X]E[Y]$\n",
    "    - When conducting hypothesis test, we know that the two groups should be independent of each other, i.e. the covariance between the two should be 0\n",
    "\n",
    "$$\n",
    "\\begin{align}\n",
    "Var(X - Y)\n",
    "&= E[(X - Y)(X - Y)] - E[X - Y]^2 \\\\\n",
    "&= E[X^2 - 2XY + Y^2] - (u_x - u_y)^2 \\\\\n",
    "&= E[X^2 - 2XY + Y^2] - u_x^2 + 2u_xu_y - u_y^2 \\\\\n",
    "&= (E[X^2] - u_x^2) + (E[Y^2] - u_y^2) - 2(E[XY] - u_xu_y) \\\\\n",
    "&= Var(X) + Var(Y) - 2 Cov(X, Y)\n",
    "\\end{align}\n",
    "$$\n",
    "\n",
    "- We're using the property that the variance of a binomial proportion is given by: $Var(p_A) = p_A (1 - p_A) / n_A$, the same can be applied for group B\n",
    "- The third step comes from the fact that if we assume that the null hypothesis, $p_A = p_B$ is true, then the population proportions equal some common value $p$, that is, $p_A = p_B = p$. Since we don't know the assumed common population proportion $p$ any more than we know the proportions $p_A$ and $p_B$ of each population, we can estimate $p$ using the proportion of \"successes\" in the two combined, $\\hat{p} = (X_A + X_B)/(n_A + n_B)$, which is commonly referred to as the **pooled probability**\n",
    "\n",
    "During the third step, we utilized that fact that if we assume that the null hypothesis is true, then $p_A = p_B$, this also means $p_A - p_B = 0$. Given all of these information, the formula for our test statistic now becomes:\n",
    "\n",
    "$$\n",
    "\\begin{align}\n",
    "Z\n",
    "&= \\frac{ (\\hat{p_A} - \\hat{p_B}) - (p_A - p_B) }{SE(p_A - p_B)} \\\\\n",
    "&= \\frac{ (\\hat{p_A} - \\hat{p_B}) - 0 }{\\sqrt{\\hat{p} (1 - \\hat{p}) \\left( \\frac{1}{n_A} + \\frac{1}{n_B} \\right)}}\n",
    "\\end{align}\n",
    "$$\n",
    "\n",
    "Where $\\hat{p} = (X_A + X_B)/(n_A + n_B)$"
   ]
  },
  {
   "cell_type": "code",
   "execution_count": 16,
   "metadata": {
    "ExecuteTime": {
     "end_time": "2021-04-01T04:02:36.680744Z",
     "start_time": "2021-04-01T04:02:36.630495Z"
    }
   },
   "outputs": [],
   "source": [
    "def two_proprotions_test(success_a, size_a, success_b, size_b):\n",
    "    \"\"\"\n",
    "    A/B test for two proportions;\n",
    "    given a success a trial size of group A and B compute\n",
    "    its zscore and pvalue\n",
    "    \n",
    "    Parameters\n",
    "    ----------\n",
    "    success_a, success_b : int\n",
    "        Number of successes in each group\n",
    "        \n",
    "    size_a, size_b : int\n",
    "        Size, or number of observations in each group\n",
    "    \n",
    "    Returns\n",
    "    -------\n",
    "    zscore : float\n",
    "        test statistic for the two proportion z-test\n",
    "\n",
    "    pvalue : float\n",
    "        p-value for the two proportion z-test\n",
    "    \"\"\"\n",
    "    prop_a = success_a / size_a\n",
    "    prop_b = success_b / size_b\n",
    "    prop_pooled = (success_a + success_b) / (size_a + size_b)\n",
    "    var = prop_pooled * (1 - prop_pooled) * (1 / size_a + 1 / size_b)\n",
    "    zscore = np.abs(prop_b - prop_a) / np.sqrt(var)\n",
    "    one_side = 1 - stats.norm(loc = 0, scale = 1).cdf(zscore)\n",
    "    pvalue = one_side * 2\n",
    "    return zscore, pvalue"
   ]
  },
  {
   "cell_type": "code",
   "execution_count": 17,
   "metadata": {
    "ExecuteTime": {
     "end_time": "2021-04-01T04:02:36.728668Z",
     "start_time": "2021-04-01T04:02:36.684042Z"
    }
   },
   "outputs": [
    {
     "name": "stdout",
     "output_type": "stream",
     "text": [
      "zscore = 1.359, pvalue = 0.174\n"
     ]
    }
   ],
   "source": [
    "success_a = 486\n",
    "size_a = 5000\n",
    "success_b = 527\n",
    "size_b = 5000\n",
    "\n",
    "zscore, pvalue = two_proprotions_test(success_a, size_a, success_b, size_b)\n",
    "print('zscore = {:.3f}, pvalue = {:.3f}'.format(zscore, pvalue))"
   ]
  },
  {
   "cell_type": "code",
   "execution_count": 18,
   "metadata": {
    "ExecuteTime": {
     "end_time": "2021-04-01T04:02:36.771986Z",
     "start_time": "2021-04-01T04:02:36.733898Z"
    }
   },
   "outputs": [
    {
     "name": "stdout",
     "output_type": "stream",
     "text": [
      "zscore = -1.359, pvalue = 0.174\n"
     ]
    }
   ],
   "source": [
    "# or we can use the implementation from statsmodels\n",
    "# where we pass in the success (they call the argument counts)\n",
    "# and the total number for each group (they call the argument nobs,\n",
    "# number of observations)\n",
    "counts = np.array([486, 527])\n",
    "nobs = np.array([5000, 5000])\n",
    "\n",
    "zscore, pvalue = proportions_ztest(counts, nobs, alternative = 'two-sided')\n",
    "print('zscore = {:.3f}, pvalue = {:.3f}'.format(zscore, pvalue))"
   ]
  },
  {
   "cell_type": "markdown",
   "metadata": {},
   "source": [
    "Based on the fact that our p-value is not smaller than the 0.05 commonly used threshold, the test statistic tells us we do not have strong evidence against our null hypothesis, i.e. we do not have strong evidence that the two pages are not equally effective.\n",
    "\n",
    "Apart from spitting out the p-value, we will also look at forming a confidence interval for $\\hat{p_A} - \\hat{p_B}$. If the number of trials in both groups is large, and the observed number of successes are not too small, we can calculate a 95% confidence interval using the formula:\n",
    "\n",
    "$$\n",
    "\\begin{align}\n",
    "\\text{point estimate} \\pm z * SE\n",
    "&= (\\hat{p_A} - \\hat{p_B}) \\pm z * \\frac{p_A (1 - p_A)}{n_A} + \\frac{p_B (1 - p_B)}{n_B}\n",
    "\\end{align}\n",
    "$$\n",
    "\n",
    "Note that when calculating the confidence interval because we no longer have the assumption that $p_A = p_B$ from our null hypothesis, thus we can't leverage this property and use the pooled probability."
   ]
  },
  {
   "cell_type": "code",
   "execution_count": 19,
   "metadata": {
    "ExecuteTime": {
     "end_time": "2021-04-01T04:02:37.206427Z",
     "start_time": "2021-04-01T04:02:37.164114Z"
    }
   },
   "outputs": [],
   "source": [
    "def two_proprotions_confint(success_a, size_a, success_b, size_b, significance = 0.05):\n",
    "    \"\"\"\n",
    "    A/B test for two proportions;\n",
    "    given a success a trial size of group A and B compute\n",
    "    its confidence interval;\n",
    "    resulting confidence interval matches R's prop.test function\n",
    "    \n",
    "    Parameters\n",
    "    ----------\n",
    "    success_a, success_b : int\n",
    "        Number of successes in each group\n",
    "        \n",
    "    size_a, size_b : int\n",
    "        Size, or number of observations in each group\n",
    "        \n",
    "    significance : float, default 0.05\n",
    "        Often denoted as alpha. Governs the chance of a false positive.\n",
    "        A significance level of 0.05 means that there is a 5% chance of\n",
    "        a false positive. In other words, our confidence level is\n",
    "        1 - 0.05 = 0.95\n",
    "        \n",
    "    Returns\n",
    "    -------\n",
    "    prop_diff : float\n",
    "        Difference between the two proportion\n",
    "    \n",
    "    confint : 1d ndarray\n",
    "        Confidence interval of the two proportion test\n",
    "    \"\"\"\n",
    "    prop_a = success_a / size_a\n",
    "    prop_b = success_b / size_b\n",
    "    var = prop_a * (1 - prop_a) / size_a + prop_b * (1 - prop_b) / size_b\n",
    "    se = np.sqrt(var)\n",
    "    \n",
    "    # z critical value\n",
    "    confidence = 1 - significance\n",
    "    z = stats.norm(loc = 0, scale = 1).ppf(confidence + significance / 2)\n",
    "\n",
    "    # standard formula for the confidence interval\n",
    "    # point-estimtate +- z * standard-error\n",
    "    prop_diff = prop_b - prop_a\n",
    "    confint = prop_diff + np.array([-1, 1]) * z * se\n",
    "    return prop_diff, confint"
   ]
  },
  {
   "cell_type": "code",
   "execution_count": 20,
   "metadata": {
    "ExecuteTime": {
     "end_time": "2021-04-01T04:02:37.239463Z",
     "start_time": "2021-04-01T04:02:37.209145Z"
    }
   },
   "outputs": [
    {
     "name": "stdout",
     "output_type": "stream",
     "text": [
      "estimate difference: 0.008199999999999999\n",
      "confidence interval: [-0.00362633  0.02002633]\n"
     ]
    }
   ],
   "source": [
    "prop_diff, confint = two_proprotions_confint(success_a, size_a, success_b, size_b)\n",
    "print('estimate difference:', prop_diff)\n",
    "print('confidence interval:', confint)"
   ]
  },
  {
   "cell_type": "markdown",
   "metadata": {},
   "source": [
    "Up till this point, we've been using the 5000 as the total number of observations/samples that are involved in the A/B testing process. The next question that we'll address is, in real world scenarios, how many obeservations do we need in order to draw a valid verdict on the test result. This leads us to our next topic **power**."
   ]
  },
  {
   "cell_type": "markdown",
   "metadata": {},
   "source": [
    "## Introducing Power"
   ]
  },
  {
   "cell_type": "markdown",
   "metadata": {},
   "source": [
    "In the world of hypothesis testing, rejecting the null hypothesis when it is actually true is called a type 1 error, often denoted as $\\alpha$. Committing a type 1 error is a false positive because we end up recommending something that does not work. Conversely, a type 2 error, often denoted as $\\beta$, occurs when we do not reject the null hypothesis when it is actually false. This is a false negative because we end up sitting on our hands when we should have taken action. We need to consider both types of errors when choosing the sample size.\n",
    "\n",
    "Two important probabilities related to type 1 and type 2 error are:\n",
    "\n",
    "- **Significance level:** Governs the chance of a false positive. A significance level of 0.05 means that there is a 5% chance of a false positive. Choosing level of significance is an arbitrary task, but for many applications, a level of 5% is chosen, for no better reason than that it is conventional\n",
    "- **Statistical power** Power of 0.80 means that there is an 80% chance that if there was an effect, we would detect it (or a 20% chance that we'd miss the effect). In other words, power is equivalent to $1 - \\beta$. There are no formal standards for power, most researchers assess the power of their tests using 0.80 for adequacy\n",
    "\n",
    "| Scenario       | $H_0$ is true                      | $H_0$ is false            |\n",
    "|:--------------:|:----------------------------------:|:-------------------------:|\n",
    "|  Accept $H_0$  |  Correct Decision                  |  Type 2 Error (1 - power) |\n",
    "|  Reject $H_0$  |  Type 1 Error (significance level) |  Correct decision         |\n",
    "\n",
    "The concepts of power and significance level can seem somewhat convoluted at first glance. A good way to get a feel for the underlying mechanics is to plot the probability distribution of $Z$ assuming that the null hypothesis is true. Then do the same assuming that the alternative hypothesis is true, and overlay the two plots.\n",
    "\n",
    "Consider the following example: $H_0: p_A = p_B, H_1: p_A > p_B$. A one-sided test was chosen here for charting-simplicity.\n",
    "\n",
    "- Total sample size, N=5,000 (assume equal sample sizes for the control and experiment groups, meaning exactly 2,500 in each group)\n",
    "- Say we've decided we need to observe a difference of 0.02 in order to for us to be satisfied the intervention worked (i.e., assuming that our original baseline, $p_B$ was 0.08, then we want $p_A = 0.10$). We will discuss how to make this decision later in the post"
   ]
  },
  {
   "cell_type": "code",
   "execution_count": 21,
   "metadata": {
    "ExecuteTime": {
     "end_time": "2021-04-01T04:02:38.844552Z",
     "start_time": "2021-04-01T04:02:38.804003Z"
    }
   },
   "outputs": [],
   "source": [
    "def plot_power(min_diff, prob_b, size_a, size_b, significance = 0.05):\n",
    "    \"\"\"illustrating power through a one-tailed hypothesis test\"\"\"\n",
    "    \n",
    "    # obtain the z-score for the minimum detectable\n",
    "    # difference using proportion_ztest\n",
    "    prob_a = prob_b + min_diff\n",
    "    count_a = size_a * prob_a\n",
    "    count_b = size_b * prob_b\n",
    "    counts = np.array([count_a, count_b])\n",
    "    nobs = np.array([size_a, size_b])\n",
    "    zscore, _ = proportions_ztest(counts, nobs, alternative = 'larger')\n",
    "\n",
    "    # distribution for the null hypothesis, h0\n",
    "    # and alternative hypothesis, h1\n",
    "    h0 = stats.norm(loc = 0, scale = 1)\n",
    "    h1 = stats.norm(loc = zscore, scale = 1)\n",
    "\n",
    "    # points that are greater than the zscore for the\n",
    "    # specified significance level\n",
    "    x = np.linspace(-5, 6, num = 100)\n",
    "    threshold = h0.ppf(1 - significance)\n",
    "    mask = x > threshold\n",
    "    \n",
    "    # power is the area after the threshold, i.e.\n",
    "    # 1 - the cumulative distribution function of that point\n",
    "    power = np.round(1 - h1.cdf(threshold), 2)\n",
    "\n",
    "    hypotheses = [h1, h0]\n",
    "    labels = ['$H_1$ is true', '$H_0$ is true']\n",
    "    for hypothesis, label in zip(hypotheses, labels):\n",
    "        y = hypothesis.pdf(x)\n",
    "        line = plt.plot(x, y, label = label)  \n",
    "        plt.fill_between(x = x[mask], y1 = 0.0, y2 = y[mask],\n",
    "                         alpha = 0.2, color = line[0].get_color())\n",
    "    \n",
    "    title = 'p1: {}, p2: {}, size1: {}, size2: {}, power: {}'\n",
    "    plt.title(title.format(prob_a, prob_b, size_a, size_b, power))\n",
    "    plt.legend()\n",
    "    plt.tight_layout()\n",
    "    plt.show()"
   ]
  },
  {
   "cell_type": "code",
   "execution_count": 22,
   "metadata": {
    "ExecuteTime": {
     "end_time": "2021-04-01T04:02:40.401828Z",
     "start_time": "2021-04-01T04:02:38.846922Z"
    }
   },
   "outputs": [
    {
     "data": {
      "image/png": "[encoded data removed]",
      "text/plain": [
       "<Figure size 576x432 with 1 Axes>"
      ]
     },
     "metadata": {},
     "output_type": "display_data"
    }
   ],
   "source": [
    "prob_b = 0.08\n",
    "min_diff = 0.02\n",
    "size_a = 2500\n",
    "size_b = 2500\n",
    "\n",
    "plot_power(min_diff, prob_b, size_a, size_b)"
   ]
  },
  {
   "cell_type": "markdown",
   "metadata": {},
   "source": [
    "The shaded green area denotes the significance region, while the shaded blue area denotes the power (note that it includes the shaded green area). Note that if we pick a smaller N, or a smaller probability difference between the control and experiment group, the power drops (the shaded blue area decreases), meaning that if there’s is in fact a change, there’s lesser percent chance that we’ll detect it."
   ]
  },
  {
   "cell_type": "code",
   "execution_count": 23,
   "metadata": {
    "ExecuteTime": {
     "end_time": "2021-04-01T04:02:41.348688Z",
     "start_time": "2021-04-01T04:02:40.406616Z"
    }
   },
   "outputs": [
    {
     "data": {
      "image/png": "[encoded data removed]",
      "text/plain": [
       "<Figure size 576x432 with 1 Axes>"
      ]
     },
     "metadata": {},
     "output_type": "display_data"
    }
   ],
   "source": [
    "# smaller N\n",
    "prob_b = 0.08\n",
    "min_diff = 0.02\n",
    "size_a = 1250\n",
    "size_b = 1250\n",
    "\n",
    "plot_power(min_diff, prob_b, size_a, size_b)"
   ]
  },
  {
   "cell_type": "code",
   "execution_count": 24,
   "metadata": {
    "ExecuteTime": {
     "end_time": "2021-04-01T04:02:42.135059Z",
     "start_time": "2021-04-01T04:02:41.350932Z"
    },
    "scrolled": true
   },
   "outputs": [
    {
     "data": {
      "image/png": "[encoded data removed]",
      "text/plain": [
       "<Figure size 576x432 with 1 Axes>"
      ]
     },
     "metadata": {},
     "output_type": "display_data"
    }
   ],
   "source": [
    "# smaller probability difference\n",
    "prob_b = 0.08\n",
    "min_diff = 0.001\n",
    "size_a = 2500\n",
    "size_b = 2500\n",
    "\n",
    "plot_power(min_diff, prob_b, size_a, size_b)"
   ]
  },
  {
   "cell_type": "markdown",
   "metadata": {},
   "source": [
    "The following link illustrates power for a two-sided hypothesis test for those interested. [Youtube: Calculating Power and the Probability of a Type II Error (A Two-Tailed Example)](https://www.youtube.com/watch?v=NbeHZp23ubs)"
   ]
  },
  {
   "cell_type": "markdown",
   "metadata": {},
   "source": [
    "## Determining Sample Size"
   ]
  },
  {
   "cell_type": "markdown",
   "metadata": {},
   "source": [
    "Say we've followed the rule of thumb and required the significance level to be 5% and the power to be 80%. This means we have now specified the two key components of a power analysis.\n",
    "\n",
    "- A decision rule of when to reject the null hypothesis. We reject the null when the p-value is less than 5%.\n",
    "- Our tolerance for committing type 2 error (1−80%=20%).\n",
    "\n",
    "To actually solve for the equation of finding the suitable sample size, we also need to specify the detectable difference, i.e. the level of impact we want to be able to detect with our test.\n",
    " \n",
    "In order to explain the dynamics behind this, we'll return to the definition of power: the power is the probability of rejecting the null hypothesis when it is false. Hence for us to calculate the power, we need to define what \"false\" means to us in the context of the study. In other words, how much impact, i.e., difference between test and control, do we need to observe in order to reject the null hypothesis and conclude that the action worked?\n",
    "\n",
    "Let's consider two illustrative examples: if we think that an event rate reduction of, say, $10^{-10}$ is enough to reject the null hypothesis, then we need a very large sample size to get a power of 80%. This is pretty easy to deduce from the charts above: if the difference in event rates between test and control is a small number like $10^{-10}$, the null and alternative probability distributions will be nearly indistinguishable. Hence we will need to increase the sample size in order to move the alternative distribution to the right and gain power. Conversely, if we only require a reduction of 0.02 in order to claim success, we can make do with a much smaller sample size. \n",
    "\n",
    "> The smaller the detectable difference, the larger the required sample size\n",
    "\n",
    "Here's how we could conduct a power test in python:"
   ]
  },
  {
   "cell_type": "code",
   "execution_count": 25,
   "metadata": {
    "ExecuteTime": {
     "end_time": "2021-04-01T04:02:42.261292Z",
     "start_time": "2021-04-01T04:02:42.141073Z"
    }
   },
   "outputs": [],
   "source": [
    "import statsmodels.stats.api as sms\n",
    "\n",
    "\n",
    "def compute_sample_size(prop1, min_diff, significance = 0.05, power = 0.8):\n",
    "    \"\"\"\n",
    "    Computes the sample sized required for a two-proportion A/B test;\n",
    "    result matches R's pwr.2p.test from the pwr package\n",
    "    \n",
    "    Parameters\n",
    "    ----------\n",
    "    prop1 : float\n",
    "        The baseline proportion, e.g. conversion rate \n",
    "        \n",
    "    min_diff : float\n",
    "        Minimum detectable difference\n",
    "        \n",
    "    significance : float, default 0.05\n",
    "        Often denoted as alpha. Governs the chance of a false positive.\n",
    "        A significance level of 0.05 means that there is a 5% chance of\n",
    "        a false positive. In other words, our confidence level is\n",
    "        1 - 0.05 = 0.95\n",
    "    \n",
    "    power : float, default 0.8\n",
    "        Often denoted as beta. Power of 0.80 means that there is an 80%\n",
    "        chance that if there was an effect, we would detect it\n",
    "        (or a 20% chance that we'd miss the effect)\n",
    "        \n",
    "    Returns\n",
    "    -------\n",
    "    sample_size : int\n",
    "        Required sample size for each group of the experiment\n",
    "\n",
    "    References\n",
    "    ----------\n",
    "    R pwr package's vignette\n",
    "    - https://cran.r-project.org/web/packages/pwr/vignettes/pwr-vignette.html\n",
    "\n",
    "    Stackoverflow: Is there a python (scipy) function to determine parameters\n",
    "    needed to obtain a target power?\n",
    "    - https://stackoverflow.com/questions/15204070/is-there-a-python-scipy-function-to-determine-parameters-needed-to-obtain-a-ta\n",
    "    \"\"\"\n",
    "    prop2 = prop1 + min_diff\n",
    "    effect_size = sms.proportion_effectsize(prop1, prop2)\n",
    "    sample_size = sms.NormalIndPower().solve_power(\n",
    "        effect_size, power = power, alpha = significance, ratio = 1)\n",
    "    \n",
    "    return sample_size"
   ]
  },
  {
   "cell_type": "code",
   "execution_count": 26,
   "metadata": {
    "ExecuteTime": {
     "end_time": "2021-04-01T04:02:42.297847Z",
     "start_time": "2021-04-01T04:02:42.263356Z"
    }
   },
   "outputs": [
    {
     "name": "stdout",
     "output_type": "stream",
     "text": [
      "sample size required per group: 3834.5957398840183\n"
     ]
    }
   ],
   "source": [
    "sample_size = compute_sample_size(prop1 = 0.1, min_diff = 0.02)\n",
    "print('sample size required per group:', sample_size)"
   ]
  },
  {
   "cell_type": "markdown",
   "metadata": {},
   "source": [
    "Note that the printed result is the sample size needed for each group!\n",
    "\n",
    "Unlike the significance level and the power, there are no plug-and-play values we can use for the detectable difference. The key is to define what \"pay off\" means for the study at hand, which depends on what the adverse event is a well as the cost of the action. Two guiding principles:\n",
    "\n",
    "- **Avoid wasteful sampling** Let’s say it takes an absolute difference of 0.02 between test and control in order for the treatment to pay off. In this case, aiming for a 0.01 detectable difference would just lead to more precision than we really need. Why have the ability to detect 0.01 if we don’t really care about a 0.01 difference? In many cases, sampling for unnecessary precision can be costly and a waste of time\n",
    "- **Avoid missed opportunities** Conversely, if we are analyzing a sensitive metric where small changes can have a large impact e.g. email campaigns, we have to aim for a small detectable difference. If we choose an insufficient sample size, we may end up sitting on our hands and missing an opportunity (type 2 error)\n",
    "\n",
    "Hence, choosing the minimum detectable difference should be a cross-functional analysis/discussion between the data scientist and the business stakeholder. Once there is a viable range for the detectable difference, we can evaluate the sample size required for each option. For example, let’s say that $p1=0.10$ and we want the detectable difference to be between 0.01 and 0.03. Clearly, we’d rather be able to detect a difference of 0.01, but it may be too costly and hence we want to evaluate more conservative options as well."
   ]
  },
  {
   "cell_type": "code",
   "execution_count": 27,
   "metadata": {
    "ExecuteTime": {
     "end_time": "2021-04-01T04:02:43.160079Z",
     "start_time": "2021-04-01T04:02:42.300059Z"
    }
   },
   "outputs": [
    {
     "data": {
      "image/png": "[encoded data removed]",
      "text/plain": [
       "<Figure size 576x432 with 1 Axes>"
      ]
     },
     "metadata": {},
     "output_type": "display_data"
    }
   ],
   "source": [
    "# calculate the the required sample size\n",
    "# for a range of minimum detectable difference\n",
    "sample_sizes = []\n",
    "min_diffs = np.arange(0.01, 0.03, 0.001)\n",
    "for min_diff in min_diffs:\n",
    "    sample_size = compute_sample_size(prop1 = 0.1, min_diff = min_diff)\n",
    "    sample_sizes.append(sample_size)\n",
    "\n",
    "plt.plot(min_diffs, sample_sizes)\n",
    "plt.title('Sample Size Required for the Minimum Detectable Difference')\n",
    "plt.ylabel('Sample Size')\n",
    "plt.xlabel('Minimum Detectable Difference')\n",
    "plt.tight_layout()\n",
    "plt.show()"
   ]
  },
  {
   "cell_type": "markdown",
   "metadata": {},
   "source": [
    "From the graph, we can see that we need roughly 10x more observations to get a detectable difference of 0.01 compared to 0.03.\n",
    "\n",
    "The following section is an alternative way of conducting a test statistic for proportional A/B test, feel free to skip it as it will not affect the understanding of later section."
   ]
  },
  {
   "cell_type": "markdown",
   "metadata": {},
   "source": [
    "## Alternative View of the Test Statistic"
   ]
  },
  {
   "cell_type": "markdown",
   "metadata": {},
   "source": [
    "There are two types of the chi-squared test, goodness of fit and test of independence, where the latter is more applicable for our use case here. We start off by converting the contingency table into a probability matrix by dividing each element with the total frequencies:"
   ]
  },
  {
   "cell_type": "code",
   "execution_count": 28,
   "metadata": {
    "ExecuteTime": {
     "end_time": "2021-04-01T04:02:43.238733Z",
     "start_time": "2021-04-01T04:02:43.163072Z"
    }
   },
   "outputs": [
    {
     "data": {
      "text/html": [
       "<div>\n",
       "<style scoped>\n",
       "    .dataframe tbody tr th:only-of-type {\n",
       "        vertical-align: middle;\n",
       "    }\n",
       "\n",
       "    .dataframe tbody tr th {\n",
       "        vertical-align: top;\n",
       "    }\n",
       "\n",
       "    .dataframe thead th {\n",
       "        text-align: right;\n",
       "    }\n",
       "</style>\n",
       "<table border=\"1\" class=\"dataframe\">\n",
       "  <thead>\n",
       "    <tr style=\"text-align: right;\">\n",
       "      <th></th>\n",
       "      <th>version</th>\n",
       "      <th>not_converted</th>\n",
       "      <th>converted</th>\n",
       "    </tr>\n",
       "  </thead>\n",
       "  <tbody>\n",
       "    <tr>\n",
       "      <th>0</th>\n",
       "      <td>A</td>\n",
       "      <td>0.4514</td>\n",
       "      <td>0.0486</td>\n",
       "    </tr>\n",
       "    <tr>\n",
       "      <th>1</th>\n",
       "      <td>B</td>\n",
       "      <td>0.4473</td>\n",
       "      <td>0.0527</td>\n",
       "    </tr>\n",
       "  </tbody>\n",
       "</table>\n",
       "</div>"
      ],
      "text/plain": [
       "  version  not_converted  converted\n",
       "0       A         0.4514     0.0486\n",
       "1       B         0.4473     0.0527"
      ]
     },
     "execution_count": 28,
     "metadata": {},
     "output_type": "execute_result"
    }
   ],
   "source": [
    "cols = ['not_converted', 'converted']\n",
    "data[cols] = data[cols] / data[cols].values.sum()\n",
    "data"
   ]
  },
  {
   "cell_type": "markdown",
   "metadata": {},
   "source": [
    "We will denote $V$ as the version of the web page ($a$ or $b$) and $C$ as the conversion result, $f$ (false did not convert) or $t$ (true did in fact convert). The table that we computed above, which this the data that we observed can then be translated into this form:\n",
    "\n",
    "\n",
    "| Version (V) | $f$ (false did not convert)  | $t$ (true did in fact convert) |\n",
    "|:-----------:|:----------------------------:|:------------------------------:|\n",
    "|    A        | $P(V = a, C = f)$            | $P(V = a, C = t)$              |\n",
    "|    B        | $P(V = b, C = f)$            | $P(V = b, C = t)$              |\n",
    "\n",
    "\n",
    "Now, our interest is whether the conversion $C$ depends on the page version $V$, and if it does, to learn which version converts better. In probability theory, the events $C$ and $V$ are said to be independent if the joint probability can be computed by $P(V, C) = P(V) \\cdot P(C)$, where $P(V)$ and $P(C)$ are marginal probabilities of $V$ and $C$, respectively. It is straightforward to compute the marginal probabilities from row and column marginals:\n",
    "\n",
    "$$P(V = a) = \\frac{4514 + 486}{10000}  \\hspace{1cm} P(V = b) = \\frac{4473 + 527}{10000}$$\n",
    "$$P(C = f) = \\frac{4514 + 4473}{10000} \\hspace{1cm} P(C = t) = \\frac{486 + 527}{10000}$$\n",
    "\n",
    "Our null hypothesis is $V$ and $C$ are independent, in which case the elements of the matrix, a.k.a the distribution that we're expecting is equivalent to:\n",
    "\n",
    "| Version (V) | $f$ (false did not convert)  | $t$ (true did in fact convert) |\n",
    "|:-----------:|:----------------------------:|:------------------------------:|\n",
    "|    A        | $P(V = a)P(C = f)$           | $P(V = a)P(C = t)$             |\n",
    "|    B        | $P(V = b)P(C = f)$           | $P(V = b)P(C = t)$             |\n",
    "\n",
    "\n",
    "The conversion $C$ is said to be dependent on the version $V$ of the web site if this null hypothesis is rejected. Hence rejecting the null hypothesis means that one version is better at converting than the other.\n",
    "\n",
    "When dealing with counts and investigating how far the observed counts are from the expected counts, we use a test statistic called the **chi-square test**. The chi-squared test compares an observed distribution $O_{ij}$ to an expected distribution $E_{ij}$:\n",
    "\n",
    "$$\n",
    "\\begin{align}\n",
    "\\chi^2 = \\sum_{i,j} \\frac{(O_{ij} - E_{ij})^2}{E_{ij}}\n",
    "\\end{align}\n",
    "$$\n",
    "\n",
    "It's calculated as the observed minus the expected for each cell squared divided by the expected counts, the division with the expected counts makes final result proportional to our expected frequency. After performing the computation for each cell, we want to sum this over all the cells (levels of the categorical variable).\n",
    "\n",
    "This $\\chi^2$ probability distribution has only one parameter, the degrees of freedom. It influences the shape, the center and the spread of the chi-square distribution."
   ]
  },
  {
   "cell_type": "code",
   "execution_count": 29,
   "metadata": {
    "ExecuteTime": {
     "end_time": "2021-04-01T04:02:44.109803Z",
     "start_time": "2021-04-01T04:02:43.241511Z"
    }
   },
   "outputs": [
    {
     "data": {
      "image/png": "[encoded data removed]",
      "text/plain": [
       "<Figure size 576x432 with 1 Axes>"
      ]
     },
     "metadata": {},
     "output_type": "display_data"
    }
   ],
   "source": [
    "# chi square distribution with varying degrees of freedom\n",
    "fig = plt.figure(figsize = (8, 6))\n",
    "x = np.linspace(0, 5, 1000)\n",
    "deg_of_freedom = [1, 2, 3, 4]\n",
    "for df in deg_of_freedom:\n",
    "    plt.plot(x, stats.chi2.pdf(x, df), label = '$df={}$'.format(df))\n",
    "\n",
    "plt.xlim(0, 5)\n",
    "plt.ylim(0, 0.5)\n",
    "plt.xlabel('$\\chi^2$')\n",
    "plt.ylabel('$f(\\chi^2)$')\n",
    "plt.title('$\\chi^2\\ \\mathrm{Distribution}$')\n",
    "plt.legend()\n",
    "plt.show()"
   ]
  },
  {
   "cell_type": "markdown",
   "metadata": {},
   "source": [
    "chi-square distribution gives a way of measuring the difference between the frequencies we observe and the frequencies we expect. The smaller the value of $\\chi^2$, the smaller the difference overall between the observed and expected frequencies. The way to compute the degree of freedom for the test of independence using a $r \\times c$ contingency matrix is:\n",
    "\n",
    "$$\n",
    "\\begin{align}\n",
    "df = (r - 1)(c - 1)\n",
    "\\end{align}\n",
    "$$\n",
    "\n",
    "Where $r$ denotes the number of rows and $c$ denotes the number of columns. The rationale behind this calculation is because degrees of freedom is the number of expected frequencies we have to calculate independently after taking into account any restrictions. The restrictions come from the row and column sum constraints, but decreased by one because the last entry in the table/matrix is determined by either the row or column sum on that row/column.\n",
    "\n",
    "Fortunately it is very straightforward to carry out this hypothesis testing using packages. All we need is to supply the function with a contingency matrix and it will return the $\\chi^2$ statistic and the corresponding p-value:"
   ]
  },
  {
   "cell_type": "code",
   "execution_count": 30,
   "metadata": {
    "ExecuteTime": {
     "end_time": "2021-04-01T04:02:44.168531Z",
     "start_time": "2021-04-01T04:02:44.113278Z"
    }
   },
   "outputs": [
    {
     "name": "stdout",
     "output_type": "stream",
     "text": [
      "chisq = 1.8464754013996965, pvalue = 0.17419388311716985\n"
     ]
    }
   ],
   "source": [
    "# we can use the proportions_chisquare function,\n",
    "# where we pass in the number of successes and\n",
    "# the total number of trials/observation\n",
    "count = np.array([486, 527])\n",
    "nobs = np.array([5000, 5000])\n",
    "\n",
    "# note that in this case (a two sample case with two sided\n",
    "# alternative), the test produces the same value as porportions_ztest\n",
    "# since the chi-square distribution is the square of a normal distribution\n",
    "chisq, pvalue, table = proportions_chisquare(count, nobs)\n",
    "print('chisq = {}, pvalue = {}'.format(chisq, pvalue))"
   ]
  },
  {
   "cell_type": "code",
   "execution_count": 31,
   "metadata": {
    "ExecuteTime": {
     "end_time": "2021-04-01T04:02:44.259097Z",
     "start_time": "2021-04-01T04:02:44.173450Z"
    }
   },
   "outputs": [
    {
     "name": "stdout",
     "output_type": "stream",
     "text": [
      "chisq = 1.8464754013996965, pvalue = 0.17419388311716985\n"
     ]
    }
   ],
   "source": [
    "# or the chi2_contingency function where we pass\n",
    "# in the observed contingency table\n",
    "observed = np.array([[4514,  486], [4473,  527]])\n",
    "\n",
    "# more about the correction = False parameter later\n",
    "result = stats.chi2_contingency(observed, correction = False)\n",
    "chisq, pvalue = result[:2]\n",
    "print('chisq = {}, pvalue = {}'.format(chisq, pvalue))"
   ]
  },
  {
   "cell_type": "markdown",
   "metadata": {},
   "source": [
    "The result for our experiment has a  $\\chi^2 = 1.74$ and $p = 0.185$. Since the p-value is greater than the standard threshold 0.05, we cannot reject the null hypothesis that the page version and the conversion is independent. Therefore the difference in the conversion rates is not statistically significant.\n",
    "\n",
    "For a 2 x 2 contingency table, Yate’s chi-squared test is commonly used. This applies a correction of the form:\n",
    "\n",
    "$$\n",
    "\\begin{align}\n",
    "\\chi^2_{Yate's} = \\sum_{i,j} \\frac{(\\big|O_{ij} - E_{ij}\\big| - 0.5)^2}{E_{ij}}\n",
    "\\end{align}\n",
    "$$\n",
    "\n",
    "to account for an error between the observed discrete distribution and the continuous chi-squared distribution (the step of -0.5 is often referred to as continuity correction)."
   ]
  },
  {
   "cell_type": "code",
   "execution_count": 32,
   "metadata": {
    "ExecuteTime": {
     "end_time": "2021-04-01T04:02:44.341279Z",
     "start_time": "2021-04-01T04:02:44.262212Z"
    }
   },
   "outputs": [
    {
     "name": "stdout",
     "output_type": "stream",
     "text": [
      "chisq = 1.7575018692680038, pvalue = 0.18493641552090323\n"
     ]
    }
   ],
   "source": [
    "# we can use the correcction form, by specifying\n",
    "# correction = True\n",
    "result = stats.chi2_contingency(observed, correction = True)\n",
    "chisq, pvalue = result[:2]\n",
    "print('chisq = {}, pvalue = {}'.format(chisq, pvalue))"
   ]
  },
  {
   "cell_type": "markdown",
   "metadata": {},
   "source": [
    "Again, our pvalue is greater than the critical value, hence we simply would not reject the null hypothesis (that there is no relationship between the categorical variables).\n",
    "\n",
    "> Side note: in practice, we want to make sure that each particular scenario or cell has at least five expected counts before employing the chi-square test."
   ]
  },
  {
   "cell_type": "markdown",
   "metadata": {},
   "source": [
    "# Frequentist A/B Testing Workflow"
   ]
  },
  {
   "cell_type": "markdown",
   "metadata": {},
   "source": [
    "After diving into the technical details of conducting a frequentist A/B testing, we will now introduce one possible template/workflow/thought-process for conducting A/B testing."
   ]
  },
  {
   "cell_type": "markdown",
   "metadata": {},
   "source": [
    "## Formulate Business Goals & Hypothesis Test"
   ]
  },
  {
   "cell_type": "markdown",
   "metadata": {},
   "source": [
    "**Define Business Goal**\n",
    "\n",
    "Every project or plan or test always starts with a goal e.g. A business objective for an online flower store is to \"Increase our sales by receiving online orders for our bouquets\"\n",
    "\n",
    "**Formulate A/B Test**\n",
    "\n",
    "The crux of A/B testing can be summarized into one sentence:\n",
    "\n",
    "> If **[Variable]**, then **[Result]**, because **[Rationale]**\n",
    "\n",
    "- **[Variable]** is the element such as call to action, media that we've modified\n",
    "- **[Result]** is basically what we expect to see, such as more clicks, more sign-ups. The effect size of [Result] will be determined by the data\n",
    "- **[Rationale]** what assumptions will be proven right/wrong after the experiment"
   ]
  },
  {
   "cell_type": "markdown",
   "metadata": {},
   "source": [
    "### Result"
   ]
  },
  {
   "cell_type": "markdown",
   "metadata": {},
   "source": [
    "We start by asking ourselves, what result are we expecting out of this test? To do this, we need to:\n",
    "\n",
    "- **Define our Key Performance Indicators.** e.g. Our flower store's business objective is to sell bouquets. Our KPI could be number of bouquets sold online.\n",
    "- **Define our target metrics.** e.g. For our imaginary flower store, we can define a monthly target of 175 bouquets sold."
   ]
  },
  {
   "cell_type": "markdown",
   "metadata": {},
   "source": [
    "### Rationale"
   ]
  },
  {
   "cell_type": "markdown",
   "metadata": {},
   "source": [
    "A lot of times, people have the idea that A/B testing is panacea, too many people think they'll just guess their way to great conversion and revenue, when truly successful tests are typically much more complicated than that.\n",
    "\n",
    "After defining the high level goal and knowing the result that we're aiming for, find out (not guess) which parts of our business are underperforming or trending and why. Ways to perform this step are:\n",
    "\n",
    "**Quantitative methods** We can start by looking at quantitative data if we have any. These methods do a much better job answering how many and how much types of questions.\n",
    "\n",
    "Say we're a website, we can take a look at our conversion funnel and examine the flow from the persuasive end (top of the funnel) and the transactional end (bottom of the funnel). e.g. We can identify problems by starting from the top 5 highest bounce rate pages. During the examination, segment to spot underlying underperformance or trends.\n",
    "\n",
    "- **Segment by source:** Separate people who arrive on your website from e-mail campaigns, google, twitter, youtube, etc. Find answers to questions like: Is there a difference between bounce rates for those segments? Is there a difference in Visitor Loyalty between those who came from Youtube versus those who came from Twitter? What products do people who come from Youtube care about more than people who come from Google?\n",
    "- **Segment by behavior:** Focus on groups of people who have similar behaviors For example, we can separate out people who visit more than ten times a month versus those that visit only twice. Do these people look for products in different price ranges? Are they from different regions? Or separate people out by the products they purchase, by order size, by people who have signed up.\n",
    "\n",
    "e.g. We're looking at our metric of total active users over time and we see a spike in one of the timelines. After confirming that this is not caused by seasonal variation, we can look at different segment of our visitors to see if one of the segment is causing the spike. Suppose we have chosen segment to be geographic, it might just happen that we’ve identify a large proportion of the traffic is generated by a specific region\n",
    "\n",
    "During the process we should ask ourselves: 1) Why is it happening? 2) How can we spread the success of other areas of the site. And it might be best for us to use qualitative methods to dig deeper and understand why, i.e. the rationale that behind the hypothesis test.\n",
    "\n",
    "**Qualitative methods:** Ideas for gathering qualitative data to understand the why a problem exists and how to potentially fix it:\n",
    "\n",
    "- Add an exit survey on our site, asking why our visitors did/didn't complete the goal\n",
    "- Track what customers are saying in social media and on review sites\n",
    "- User Experience Group (this is the preferred way as it is going really deep with a few users and ask qualitative questions such as what's holding them back from doing what we hope they'll do, e.g. converting)"
   ]
  },
  {
   "cell_type": "markdown",
   "metadata": {},
   "source": [
    "### Variable"
   ]
  },
  {
   "cell_type": "markdown",
   "metadata": {},
   "source": [
    "Upon identifying the overall business goal and the possible issue, it's time to determine the variable, which is the element that we'll be testing for. e.g. we've identified through quantitative method that less than one percent of visitors sign up for our newsletter and after conducting qualitative studies it's because the call to action wording does not resonate with the audience, then our variable will be changing the call to action's wording.\n",
    "\n",
    "Note that we may have multiple ideas for our variable, in that case we can collate all the ideas, prioritize them based on three simple metrics:\n",
    "\n",
    "- **Potential** How much potential for a conversion rate increase? We can check to see if this kind of idea worked before.\n",
    "- **Importance** How many visitors will be impacted from the test?\n",
    "- **Ease** How easy is it to implement the test? Go for the low-hanging fruit first. \n",
    "\n",
    "Every test that's developed should documented so that we can review and prioritize ideas that are inspired by winning tests. Some ideas worth experimenting are: Headlines, CTA (call to actions), check-out pages, forms and the elements include:\n",
    "\n",
    "- Wording. e.g. Call to action or value proposition.\n",
    "- Image. e.g. Replacing a general logistics image with the image of an actual employee.\n",
    "- Layout. e.g. Increased the size of the contact form or amount of content on the page.\n",
    "\n",
    "---\n",
    "\n",
    "So given all of that a strong A/B test hypothesis may be:\n",
    "\n",
    "- If the call to action text is changed to \"Complete My Order\", the conversion rates in the checkout will increase, because the copy is more specific and personalized\n",
    "- If the navigation link is removed from checkout pages, the conversation rate will increase because our website analytics shows portions of our traffic drop out of the funnel by clicking on those links"
   ]
  },
  {
   "cell_type": "markdown",
   "metadata": {},
   "source": [
    "## Quantitative A/B testing"
   ]
  },
  {
   "cell_type": "markdown",
   "metadata": {},
   "source": [
    "Suppose we're running an educational platform and your A/B testing hypothesis is : Will changing the \"Start Now\" button from orange to pink increase how many students explore the platform's courses. So in this case the metric that's use to evaluate the change's performance is the click through probability (unique visitors who click the button / unique visitors to page). Note that it is often times impractical to use metrices such as total number of students that completed the course as it often takes weeks or months before a student can do that.\n",
    "\n",
    "Next we will jot down the hypothesis that we wish to test out, in our case the null and alternative hypothesis would be:\n",
    "\n",
    "- $H_0$: The experimental and control groups have the same probability of clicking the button. Or equivalent to saying that the differences of the two groups' probability is 0\n",
    "- $H_1$: The two groups have different probability of completing a clicking the button"
   ]
  },
  {
   "cell_type": "markdown",
   "metadata": {},
   "source": [
    "### Define the Size and Duration"
   ]
  },
  {
   "cell_type": "markdown",
   "metadata": {},
   "source": [
    "After we've defined our hypothesis, the first question that comes into mind is how many tests do we need to run, or in a sense how long should the test last in order for us to make our decisions. To do that we can use a power analysis for two independent samples:\n",
    "\n",
    "Now suppose that our current baseline is 0.1, i.e. there's a 10 percent chance that people who saw the button will click it and we wish to detect a change of 2 percent in the click through rate (This change is quite high for online experiment)."
   ]
  },
  {
   "cell_type": "code",
   "execution_count": 33,
   "metadata": {
    "ExecuteTime": {
     "end_time": "2021-04-01T04:02:48.836822Z",
     "start_time": "2021-04-01T04:02:48.801468Z"
    }
   },
   "outputs": [
    {
     "name": "stdout",
     "output_type": "stream",
     "text": [
      "sample size required per group: 3834.5957398840183\n"
     ]
    }
   ],
   "source": [
    "sample_size = compute_sample_size(prop1 = 0.1, min_diff = 0.02)\n",
    "print('sample size required per group:', sample_size)"
   ]
  },
  {
   "cell_type": "markdown",
   "metadata": {},
   "source": [
    "The result shows that we need at least 3841 sample size for each scenario to detect if there will actually be a 2 percent more than baseline click through probability. Note that this is only telling us the minimum sample size required per group, we still need to decide when do we want to run the experiment and for how long.\n",
    "\n",
    "e.g. Suppose we’ve chosen the goal to increase click-through rates, which is defined by the unique number of people who click the button versus the number of users who visited the page that the button was located. But to actually use the definition, we’ll also have to address some other questions. Such as, if the same user visits the page once and comes back a week or two later, do we still only want to count that once? Thus we’ll also need to specify a time period\n",
    "\n",
    "To account for this, if 99% of our visitors convert after 1 week, then we should do the following.\n",
    "\n",
    "- Run our test for two weeks\n",
    "- Include in the test only users who show up in the first week. If a user shows up on day 13, we have not given them enough time to convert (click-through)\n",
    "- At the end of the test, if a user who showed up on day 2 converts more than 7 days after he/she first arrived, he must be counted as a non-conversion\n",
    "\n",
    "There will be more discussion about this in the A/B Test Caveats & Advice section.\n",
    "\n",
    "For this step, there is also an online calculator that non-technical audience could use. [Online Calculator: Sample Size Calculator](http://www.evanmiller.org/ab-testing/sample-size.html)"
   ]
  },
  {
   "cell_type": "markdown",
   "metadata": {},
   "source": [
    "## Define the Population"
   ]
  },
  {
   "cell_type": "markdown",
   "metadata": {},
   "source": [
    "Another consideration is what fraction of the traffic are we going to send through the experiment. The key is to identify which population of our users will be affected by our experiment, we might want to target our experiment to that traffic (e.g. changing features specific to one language’s users) so that the rest of the population won’t dilute the effect.\n",
    "\n",
    "Next, depending on the problem we're looking at, we might want to use a cohort instead of a population. A cohort makes much more sense than looking at the entire population when testing out learning effects, examining user retention or anything else that requires the users to be established for some reason.\n",
    "\n",
    "A quick note on cohort. The gist of cohort analysis is basically putting our customers into buckets so we can track their behaviours over a period of time. The term cohort stands for a group of customers grouped by the timeline (can be week, month) where they first made a purchase (can be a different action that’s valuable to the business). Having similar traits makes the two groups more comparable.\n",
    "\n",
    "e.g. You’re an educational platform has an existing course that’s already up and running. Some of the students have completed the course, some of them are midway through and there’re students who have not yet started. If you want to change the structure of of one of the lessons to see if it improves the completion rate of the entire course and they started the experiment at time X. For students who have started before the experiment initiated they may have already finished the lesson already leading to the fact that they may not even see the change. So taking the whole population of students and running the experiment on them isn’t what you want. Instead, you want to segment out the cohort, the group of customers, that started the lesson as the experiment was launched and split that into an experiment and control group."
   ]
  },
  {
   "cell_type": "markdown",
   "metadata": {},
   "source": [
    "## Evaluating Result"
   ]
  },
  {
   "cell_type": "markdown",
   "metadata": {},
   "source": [
    "Suppose we have ran the test and obtained the total number of sample sizes and the total number of successes for both groups. Given these variables we can use it to calculate whether the proportional change was due to variation or not."
   ]
  },
  {
   "cell_type": "code",
   "execution_count": 34,
   "metadata": {
    "ExecuteTime": {
     "end_time": "2021-04-01T04:02:50.240147Z",
     "start_time": "2021-04-01T04:02:50.209859Z"
    }
   },
   "outputs": [
    {
     "name": "stdout",
     "output_type": "stream",
     "text": [
      "estimate difference: 0.03727084197203194\n",
      "confidence interval: [0.02279256 0.05174912]\n"
     ]
    }
   ],
   "source": [
    "# made-up results\n",
    "success_a = 386\n",
    "size_a = 3834\n",
    "success_b = 530\n",
    "size_b = 3842\n",
    "\n",
    "prob_diff, confint = two_proprotions_confint(success_a, size_a, success_b, size_b)\n",
    "print('estimate difference:', prob_diff)\n",
    "print('confidence interval:', confint)"
   ]
  },
  {
   "cell_type": "markdown",
   "metadata": {},
   "source": [
    "In order to launch a change, the change should be larger than the minimum detectable change that we wished to detect. In our case, the value we've set was 0.02. Base on the result above, we can denote that since even the lower bound of the confidence interval is larger than the value, we'll definitely launch the newer version of the click button.\n",
    "\n",
    "There is also an online calculator that we can use to perform the proportion test. [Online Calculator: AB Testguide](https://abtestguide.com/calc/)"
   ]
  },
  {
   "cell_type": "markdown",
   "metadata": {},
   "source": [
    "## Sanity Check"
   ]
  },
  {
   "cell_type": "markdown",
   "metadata": {},
   "source": [
    "When running experiments, especially online experiments, it's a good idea to check whether the experiments were setup properly, i.e. are the users being split equally amongst the two groups. For instance, after running your experiment for a week, you've discovered that the total number of users assigned to the control group is 64454 and the total number of users assigned to the experiment group 61818. How would you figure out whether the difference is within expectation given that each user is randomly assigned to the control or experiment group with a probability of 0.5? It's usually good idea to check this.\n",
    "\n",
    "This is equivalent to saying out of a total 126272 (64454 + 61818) users, is it surprising to see if 64454 users are assigned to the control group? This is essentially a binomial distribution, thus, knowing this information, we can construct a confidence interval to test if the number lies within the confidence interval. The confidence interval can be calculated by the mean plus and minus the z-score times the standard error. \n",
    "\n",
    "\n",
    "\\begin{align}\n",
    "mean \\pm Z * \\sqrt{np(1 - p)}\n",
    "\\end{align}\n",
    "\n",
    "Where the mean is expected number of users in the control / experiment group, which is simply the total number of the two groups times 0.5, since the probability of a user falling into either group is 50%. And the standard error of a binomial distribution is $\\sqrt{np(1-p)}$."
   ]
  },
  {
   "cell_type": "code",
   "execution_count": 35,
   "metadata": {
    "ExecuteTime": {
     "end_time": "2021-04-01T04:02:51.102452Z",
     "start_time": "2021-04-01T04:02:51.076255Z"
    }
   },
   "outputs": [],
   "source": [
    "def sanity_check(size1, size2, significance = 0.05):\n",
    "    n = size1 + size2\n",
    "    confidence = 1 - significance\n",
    "    z = stats.norm.ppf(confidence + significance / 2)\n",
    "    confint = n * 0.5 + np.array([-1, 1]) * z * np.sqrt(n * 0.5 * 0.5)\n",
    "    return confint"
   ]
  },
  {
   "cell_type": "code",
   "execution_count": 36,
   "metadata": {
    "ExecuteTime": {
     "end_time": "2021-04-01T04:02:51.131641Z",
     "start_time": "2021-04-01T04:02:51.104673Z"
    }
   },
   "outputs": [
    {
     "data": {
      "text/plain": [
       "array([62787.76563631, 63484.23436369])"
      ]
     },
     "execution_count": 36,
     "metadata": {},
     "output_type": "execute_result"
    }
   ],
   "source": [
    "size1 = 64454\n",
    "size2 = 61818\n",
    "sanity_check(size1, size2)"
   ]
  },
  {
   "cell_type": "markdown",
   "metadata": {},
   "source": [
    "The result shows that 64454 does not lie within the range of the computed 95 percent confidence interval and therefore it indicates the two groups may not be split equally. \n",
    "\n",
    "When this kind of situation happens it's usually best to go back to the day by day data to get a better idea of what could be going wrong. One good thing is to check whether any particular day stands out, or it is just an overall pattern. If it is an overall pattern, then it is suggested that we should check if something went wrong with the experiment setup before proceeding on to analyzing the result."
   ]
  },
  {
   "cell_type": "markdown",
   "metadata": {},
   "source": [
    "# A/B Test Caveats & Advices"
   ]
  },
  {
   "cell_type": "markdown",
   "metadata": {},
   "source": [
    "## Avoid Biased Stopping Times"
   ]
  },
  {
   "cell_type": "markdown",
   "metadata": {},
   "source": [
    "NO PEEKING. When running an A/B test, we should avoid stopping the experiment as soon as the results \"look\" significant. Using a stopping time that is dependent upon the results of the experiment can inflate our false-positive rate substantially.\n",
    "\n",
    "Recall that in many experiments, we set the significance threshold to be 5% (or a p-value threshold of 0.05). This means that we'll accept that Variation A is better than Variation B if A beats B by a margin large enough that a false positive would only happen 5% of the time. If we, however, were to check the experiment with the intent of stopping it if it shows significance, then every time we perform the significance test, we're essentially inflating our false-positive rate. To be more explicit, every time we perform the test there's a 5% chance of false-positive, so in other words, 95% chance of drawing the right conclusion, if we perform it again then that means we need both test to be correct to draw the right conclusion, i.e. the probability of both test giving us the correct result now becomes (1 - 5%)(1 - 5%) and the probability of committing a false positive error is now: 1 - (1 - 5%)(1 - 5%)."
   ]
  },
  {
   "cell_type": "code",
   "execution_count": 37,
   "metadata": {
    "ExecuteTime": {
     "end_time": "2021-04-01T04:02:52.326261Z",
     "start_time": "2021-04-01T04:02:52.298864Z"
    }
   },
   "outputs": [
    {
     "name": "stdout",
     "output_type": "stream",
     "text": [
      "conducting the test 2 times 0.09750000000000003\n",
      "conducting the test 10 times 0.4012630607616213\n"
     ]
    }
   ],
   "source": [
    "# the false positive rate of conducting the test for n times\n",
    "significance = 0.05\n",
    "\n",
    "print('conducting the test 2 times', 1 - (1 - significance) ** 2)\n",
    "print('conducting the test 10 times', 1 - (1 - significance) ** 10)"
   ]
  },
  {
   "cell_type": "markdown",
   "metadata": {},
   "source": [
    "The easiest way to avoid this problem is to **choose a stopping time that's independent of the test results**. We could, for example, decide in advance to run the test for a fix amount of time, no matter the results we observed during the test's tenure. Thus just like in the template above, if 99% of our visitors convert after 1 week, then we should do the following.\n",
    "\n",
    "- Run your test for two weeks.\n",
    "- Include in the test only users who show up in the first week. If a user shows up on day 13, you have not given them enough time to convert.\n",
    "- At the end of the test, if a user who showed up on day 2 converts more than 7 days after he first arrived, he must be counted as a non-conversion.\n",
    "\n",
    "Or we could decide to run the test until each bucket has received more than 10,000 visitors, again ignoring the test results until that condition is met. There are tests like power tests that let's us determine how many tests we should run before we make a conclusion about the result. Although we should be very careful with this, because the truth is: It's not really the number of conversions that matters; it's whether the time frame of the test is long enough to capture variations on your site. \n",
    "\n",
    "For instance, the website traffic may behave one way during the day and another way at night (the same holds on weekdays and weekends). Then it's worth noting that there are two effects that could occur when new features are introduced: **Primacy** and **Novelty** effect.\n",
    "\n",
    "- Primacy effect occurs when we change something and experienced users may be less efficient until they get used to the new feature, thus giving inherent advantage to the control (original version)\n",
    "- Novelty effect. Meaning when users are switched to a new experience, their initial reactions may not be their long-term reactions. In other words, if we are testing a new color for a button, the user may initially love the button and click it more often, just because it's novel, but eventually he/she would get used to the new color and behave as he/she did before. It's important to run the trial long enough to get past the period of the \"shock of the new\".\n",
    "\n",
    "In summary, we should setting a results-independent stopping time (a week) is the easiest and most reliable way to avoid biased stopping times. Note that running the test for a least a week is advised since it'll make sure that the experiment captures the different user behavior of weekdays, weekends and try to avoid holidays ...."
   ]
  },
  {
   "cell_type": "markdown",
   "metadata": {},
   "source": [
    "## Do Follow Up Tests and Watch your Overall Success Rate"
   ]
  },
  {
   "cell_type": "markdown",
   "metadata": {},
   "source": [
    "If we're running a lot of A/B tests, we should run follow-up tests and pay attention to our base success rate.\n",
    "\n",
    "Let's talk about these in reverse order. Imagine that we've done everything right. We set our stopping time in advance, and keep it independent from the test results. We set a relatively high success criterion: A probability of at least 95% that the variant is better than the control (formally, $p \\leq 0.05$). We do all of that.\n",
    "\n",
    "Then We run 100 tests, each with all the rigor just described. In the end, of those 100 tests, 5 of them claims that the variant will beat the control. How many of those variants do we think are really better than the control, though? If we run 20 tests in a row in which the \"best\" variant is worse or statistically indistinguishable from the control, then we should be suspicious when our 21st test comes out positive. If a button-color test failed to elicit a winner six months ago, but did produce one today, we should be skeptical. Why now but not then?\n",
    "\n",
    "Here's an intuitive way of thinking about this problem. Let's say we have a class of students who each took a 100-item true/false test on a certain subject. Suppose each student chooses randomly on all\n",
    "questions. Each student would achieve a random score between 0 and 100, with an average of 50. \n",
    "\n",
    "Now take only the top scoring 10% of the class, and declaring them \"winners\", give them a second test, on\n",
    "which they again choose randomly. They will most likely score less on the second test than the first test. That's because, no matter what they scored on the first test they will still average 50 correct answers in the second test. This is what's called the **regression to the mean**. Meaning that tests which seem to be successful but then lose their uplift over time.\n",
    "\n",
    "It can be wise to run our A/B tests twice (a validation test). You'll find that doing so helps to eliminate illusory results. If the results of the first test aren’t robust, you’ll see noticeable decay with the second. But, if the uplift is real, you should still see uplift during the second test. This approach isn’t fail-safe but it will help check whether your results are robust. e.g. In a multiple testing, you tried out three variants, B, C, and D against the control A. Variant C won. Don't deploy it fully yet. Drive 50% of your traffic to Variant C and 50% to Variant A (or some modification on this; the percent split is not important as long as you will have reasonable statistical power within an acceptable time period). As this will give you more information about C's true performance relative to A.\n",
    "\n",
    "Given the situation above, it's better to keep a record of previous tests, when they were run, the variants that were tried, etc. Since these historical record gives you an idea of what's reasonable. Despite the fact that this information is not directly informative of the rates you should expect from future tests (The absolute numbers are extremely time dependent, so the raw numbers that you get today will be completely different than the ones you would have gotten six months later), it gives you an idea of what's plausible in terms of each test's relative performance.\n",
    "\n",
    "Also, by keeping a record of previous tests, we can avoid: \n",
    "\n",
    "- Falling into the trap of \"We already tried that\". A hypothesis can be implemented in so many different ways. If you just do one headline test and say \"we tried that,\" you’re really selling yourself short.\n",
    "- Not testing continually or not retesting after months or years. Just because you tested a variation in the past doesn’t necessarily mean that those results are going to be valid a year or two from now (Because we have the record of what we did, we can easily reproduce the test)."
   ]
  },
  {
   "cell_type": "markdown",
   "metadata": {},
   "source": [
    "## False Reporting"
   ]
  },
  {
   "cell_type": "markdown",
   "metadata": {},
   "source": [
    "Let's say we deploy a new feature to your product and wish to see if it increases the product's activation rate (or any other metric or KPI that's relevant to you). Currently the baseline of the product's activation rate is somewhere around 40%. After running the test, we realized that it WORKED, the activation went up to 50%. So we're like, YES! we just raised activation by 25%! and we sent this info to the head of product and ask for a raise. \n",
    "\n",
    "After two months, the head of product comes back to us and said \"you told me you raised the activation rate by 25%, shouldn't this mean that I should see a big jump in the overall activation? What's going on?\" Well, what's going on is, we did raised activation by 25%, but only for user who uses the product's feature. So if only 10 percent of our users use that product, then the overall increase in activation rate will probably only be around 2.5% (25% * 10%). Which is still probably very good, but the expectation that we've set by mis-reporting can get us into trouble."
   ]
  },
  {
   "cell_type": "markdown",
   "metadata": {},
   "source": [
    "## Seasonality / Not Running it Against the Correct Target"
   ]
  },
  {
   "cell_type": "markdown",
   "metadata": {},
   "source": [
    "Suppose you have different types of users (or users with different usage patterns) using your product. e.g. business user and students. Then what can happen is your A/B testing will have different result in July versus October. The reason may be in July all your student users are out on vacation (not using your product) and in October after school starts they start using it again. This is simply saying that the weighting of your user population may be different in different times of the year (seasonality). Thus, you should be clear with yourself about who you're targeting."
   ]
  },
  {
   "cell_type": "markdown",
   "metadata": {},
   "source": [
    "## Non-Randomized Bucketing"
   ]
  },
  {
   "cell_type": "markdown",
   "metadata": {},
   "source": [
    "Double check if we're actually randomly splitting you're users, this will most likely burn us if our system assigns user id to users in a systematical way. e.g. user id whose last two digits are 70 are all from a specific region.\n",
    "\n",
    "A more quintessential example of non-randomized bucketing is say we have two types of users. Casual users who spend on average 10 dollars per month, and power users who spend on average 100 dollars. When we randomly assign users to treatment or control in our A/B test there's a chance that power users and casual users will not be evenly split between the two groups. As the sample size for our experiment grows, the likelihood of these imbalances between treatment and control shrinks, but it never completely goes away.\n",
    "\n",
    "Let's say that during our A/B test we had 100 total users. 50 in Group A (Treatment) and 50 in Group B (Control), but Group A had 20 power users and 30 casual users, while Group B had 30 power users and 20 casual users.\n",
    "\n",
    "This means is that even before there was any experiment, the treatment group average spending was lower than the control groups. The pre-experiment numbers would look like this:\n",
    "\n",
    "- Treatment Average = 20 Power Users x 100 + 30 Casual Users x 10 = 2300/50 = 46 per user.\n",
    "- Control Average = 30 Power Users x 100 + 20 Casual Users x 10 = 3200/50 = 64 per user.\n",
    "- Group Difference = 46 - 64 = -18.\n",
    "\n",
    "The upshot is our treatment has to have an effect greater than 18 per user to even show that it had a positive impact. But what if it caused users to spend 12 more? We'd compare our two groups and it would look like our treatment had an effect of -6, and we'd likely make the wrong call to not launch the recommended items feature."
   ]
  },
  {
   "cell_type": "markdown",
   "metadata": {},
   "source": [
    "## Others"
   ]
  },
  {
   "cell_type": "markdown",
   "metadata": {},
   "source": [
    "Despite its useful functionality, there are still places where A/B testing isn't as useful. For example: \n",
    "\n",
    "- A/B testing can't tell us if we're missing something. Meaning it can tell you if A performs better B or vice versa, but it can't tell us that if we use C, then it will actually perform better than the former two.\n",
    "- Testing out products that people rarely buy. e.g. cars, apartments. It might be too long before the user actually decides to take actions after seeing the information and we might be unaware of the actual motivation.\n",
    "- Optimizing for the funnel, rather than the product. Understanding what the customers want so that we can make the product better. Ultimately, we can't simply test our headlines and get people to like our product more.\n",
    "- Conflicting test: Two different product teams both deployed new features on your landing page and ran the A/B test at the same period of time. This is more of a organization problem. You should probably require the product teams to register for their test, and make sure that multiple tests on the same stuff are not running at the same time, or else you might be tracking the effect of the other test.\n",
    "- Optimizing the wrong metric. The best example is probably noting that higher click through rate doesn't necessary means higher relevance. To be explicit, poor search results means people perform more searches, and thereby click on more ads. While this seems good in the short term, it's terrible in the long term, as users get more and more frustrated with the search engine. A search engine's goal should be to help users find what they want as quickly as possible, and sessions per user (increasing sessions per user means users are satisfied and returning) should probably be the key metric to showcase instead.\n",
    "- The following article also contains some nice reads regarding A/B testing. [Blog: Never start with a hypothesis](https://towardsdatascience.com/hypothesis-testing-decoded-for-movers-and-shakers-bfc2bc34da41)\n",
    "    - The crux of the article is saying we should remember that when formulating hypothesis in the real world, our default action should be the one that we find palatable under ignorance. Hence the idea of incorrectly leaving our cozy comfort zone (default action) should be more painful than the idea of incorrectly sticking to it. i.e. a Type I error should feel worse than a Type II error."
   ]
  },
  {
   "cell_type": "markdown",
   "metadata": {},
   "source": [
    "# References"
   ]
  },
  {
   "cell_type": "markdown",
   "metadata": {},
   "source": [
    "- [Youtube: Beautiful A/B Testing](https://www.youtube.com/watch?v=EvDg7ssY0M8)\n",
    "- [Notebook: Statistics for Hackers](http://nbviewer.jupyter.org/github/croach/statistics-for-hackers/blob/master/statistics-for-hackers.ipynb)\n",
    "- [Blog: What Are P-Values?](https://prateekvjoshi.com/2013/12/07/what-are-p-values/)\n",
    "- [Blog: How to work with A/B test data](https://medium.com/@carsonforter/how-to-work-with-a-b-test-data-96121b89d1a4)\n",
    "- [Blog: Interpreting A/B Test using Python](http://okomestudio.net/biboroku/?p=2375)\n",
    "- [Blog: So, You Need a Statistically Significant Sample?](http://multithreaded.stitchfix.com/blog/2015/05/26/significant-sample/)\n",
    "- [Blog: How to Build a Strong A/B Testing Plan That Gets Results](https://conversionxl.com/how-to-build-a-strong-ab-testing-plan-that-gets-results/)\n",
    "- [Blog: A/B testing and Pearson's chi-squared test of independence](http://thestatsgeek.com/2013/07/22/ab-testing/)\n",
    "- [Blog: A/B testing - confidence interval for the difference in proportions using R](http://thestatsgeek.com/2014/02/15/ab-testing-confidence-interval-for-the-difference-in-proportions-using-r/)\n",
    "- [Blog: Python for Data Analysis Part 23: Point Estimates and Confidence Intervals](http://hamelg.blogspot.com/2015/11/python-for-data-analysis-part-23-point.html)\n",
    "- [Notes: MOST winning A/B test results are illusory](http://www.qubit.com/sites/default/files/pdf/mostwinningabtestresultsareillusory_0.pdf)\n",
    "- [Notes: Eberly College of Science STAT 414/415 Comparing Two Proportions](https://onlinecourses.science.psu.edu/stat414/node/268)\n",
    "- [Quora: When should A/B testing not be trusted to make decisions?](https://www.quora.com/When-should-A-B-testing-not-be-trusted-to-make-decisions)\n",
    "- [Forbes: How To Do A/B Testing Right And Avoid The Most Common Mistakes Marketers Make](https://www.forbes.com/sites/sujanpatel/2015/10/29/how-to-do-ab-testing-right-and-avoid-the-most-common-mistakes-marketers-make/)\n",
    "- [Paper: R. Kohavi, A. Deng, B. Frasca, R. Longbotham, T. Walker, Y. Xu (2012) Trustworthy Online Controlled Experiments: Five Puzzling Outcomes Explained](http://notes.stephenholiday.com/Five-Puzzling-Outcomes.pdf)\n",
    "- [Slideshare: 4 Steps Toward Scientific A/B Testing](https://www.slideshare.net/RJMetrics/4-steps-toward-scientific-ab-testing)\n",
    "- [Code taken from here](https://github.com/ethen8181/machine-learning/blob/master/ab_tests/frequentist_ab_test.ipynb)"
   ]
  },
  {
   "cell_type": "code",
   "execution_count": null,
   "metadata": {},
   "outputs": [],
   "source": []
  }
 ],
 "metadata": {
  "hide_input": false,
  "kernelspec": {
   "display_name": "trainingAI",
   "language": "python",
   "name": "trainingai"
  },
  "language_info": {
   "codemirror_mode": {
    "name": "ipython",
    "version": 3
   },
   "file_extension": ".py",
   "mimetype": "text/x-python",
   "name": "python",
   "nbconvert_exporter": "python",
   "pygments_lexer": "ipython3",
   "version": "3.8.5"
  },
  "toc": {
   "nav_menu": {
    "height": "60px",
    "width": "252px"
   },
   "number_sections": true,
   "sideBar": true,
   "skip_h1_title": false,
   "title_cell": "Table of Contents",
   "title_sidebar": "Contents",
   "toc_cell": true,
   "toc_position": {},
   "toc_section_display": "block",
   "toc_window_display": true
  },
  "varInspector": {
   "cols": {
    "lenName": 16,
    "lenType": 16,
    "lenVar": 40
   },
   "kernels_config": {
    "python": {
     "delete_cmd_postfix": "",
     "delete_cmd_prefix": "del ",
     "library": "var_list.py",
     "varRefreshCmd": "print(var_dic_list())"
    },
    "r": {
     "delete_cmd_postfix": ") ",
     "delete_cmd_prefix": "rm(",
     "library": "var_list.r",
     "varRefreshCmd": "cat(var_dic_list()) "
    }
   },
   "types_to_exclude": [
    "module",
    "function",
    "builtin_function_or_method",
    "instance",
    "_Feature"
   ],
   "window_display": false
  }
 },
 "nbformat": 4,
 "nbformat_minor": 2
}
