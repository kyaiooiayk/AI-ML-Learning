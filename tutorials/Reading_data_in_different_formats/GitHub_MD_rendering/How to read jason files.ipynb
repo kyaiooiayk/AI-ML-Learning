{
 "cells": [
  {
   "cell_type": "markdown",
   "id": "84b00ec3",
   "metadata": {},
   "source": [
    "# Introduction\n",
    "<hr style = \"border:2px solid black\" ></hr>"
   ]
  },
  {
   "cell_type": "markdown",
   "id": "a4ed8b64",
   "metadata": {},
   "source": [
    "\n",
    "**What?** How to read an JASON file\n",
    "\n",
""   ]
  },
  {
   "cell_type": "markdown",
   "id": "3bc0aa21",
   "metadata": {},
   "source": [
    "# Difference btw jason and python dictionary\n",
    "<hr style = \"border:2px solid black\" ></hr>"
   ]
  },
  {
   "cell_type": "markdown",
   "id": "3261120b",
   "metadata": {},
   "source": [
    "\n",
    "- JSON is a file format that allows the transmission of data between systems or subsystems. Although JSON was originally invented for use by Javascript (JSON = JavaScript Object Notation), the JSON file format is language agnostic.\n",
    "\n",
    "- JSON files support a number of data types which includes a dictionary - that is a data type that supports a set of key, value pairs. Since the JSON file exists as a text file, The ability to find a key in the JSON dictionary must have a time complexity of O(n), since the only option is to do a linear search.\n",
    "\n",
    "- Using the Python language, The JSON dictionary format can be internalized in memory as a Python dictionary, and now finding a key has a time complexity of O(1) - since the Python dictionary uses hash values to make searches efficient.\n",
    "\n",
    "- One way to think about this is that a Python dictionary is a data structure in memory which can store key, value pairs, and the JSON dictionary is a method to transfer those Python dictionaries to other subsystems with a few conditions :\n",
    "    - JSON only supports strings as keys - Python supports any hashable objects as keys (including tuples, frozensets, custom classes etc)\n",
    "    - JSON values can only be of a valid JSON type (list, dictionary, string, integer, float, boolean, Null) - Python values can be anything that can be constructed in Python.\n",
    "\n",
""   ]
  },
  {
   "cell_type": "markdown",
   "id": "e6e321af",
   "metadata": {},
   "source": [
    "# Import modules\n",
    "<hr style = \"border:2px solid black\" ></hr>"
   ]
  },
  {
   "cell_type": "code",
   "execution_count": 2,
   "id": "beadbfd4",
   "metadata": {
    "ExecuteTime": {
     "end_time": "2022-03-22T06:25:02.944436Z",
     "start_time": "2022-03-22T06:25:02.941960Z"
    }
   },
   "outputs": [],
   "source": []
  },
  {
   "cell_type": "code",
   "execution_count": 11,
   "id": "2b918417",
   "metadata": {
    "ExecuteTime": {
     "end_time": "2022-03-22T06:25:27.447104Z",
     "start_time": "2022-03-22T06:25:27.443789Z"
    }
   },
   "outputs": [
    {
     "data": {
      "text/plain": [
       "{}"
      ]
     },
     "execution_count": 11,
     "metadata": {},
     "output_type": "execute_result"
    }
   ],
   "source": []
  },
  {
   "cell_type": "markdown",
   "id": "d7dd6171",
   "metadata": {},
   "source": [
    "# References\n",
    "<hr style = \"border:2px solid black\" ></hr>"
   ]
  },
  {
   "cell_type": "markdown",
   "id": "1a37bdd5",
   "metadata": {},
   "source": [
    "\n",
    "- [Difference btw jason and python dictionary](https://www.quora.com/What-is-the-difference-between-JSON-and-a-dictionary)\n",
    "\n",
""   ]
  },
  {
   "cell_type": "code",
   "execution_count": null,
   "id": "31ce33b1",
   "metadata": {},
   "outputs": [],
   "source": []
  }
 ],
 "metadata": {
  "kernelspec": {
   "display_name": "trainingAI",
   "language": "python",
   "name": "trainingai"
  },
  "language_info": {
   "codemirror_mode": {
    "name": "ipython",
    "version": 3
   },
   "file_extension": ".py",
   "mimetype": "text/x-python",
   "name": "python",
   "nbconvert_exporter": "python",
   "pygments_lexer": "ipython3",
   "version": "3.9.7"
  },
  "toc": {
   "base_numbering": 1,
   "nav_menu": {},
   "number_sections": true,
   "sideBar": true,
   "skip_h1_title": false,
   "title_cell": "Table of Contents",
   "title_sidebar": "Contents",
   "toc_cell": false,
   "toc_position": {
    "height": "calc(100% - 180px)",
    "left": "10px",
    "top": "150px",
    "width": "209.35px"
   },
   "toc_section_display": true,
   "toc_window_display": true
  },
  "varInspector": {
   "cols": {
    "lenName": 16,
    "lenType": 16,
    "lenVar": 40
   },
   "kernels_config": {
    "python": {
     "delete_cmd_postfix": "",
     "delete_cmd_prefix": "del ",
     "library": "var_list.py",
     "varRefreshCmd": "print(var_dic_list())"
    },
    "r": {
     "delete_cmd_postfix": ") ",
     "delete_cmd_prefix": "rm(",
     "library": "var_list.r",
     "varRefreshCmd": "cat(var_dic_list()) "
    }
   },
   "types_to_exclude": [
    "module",
    "function",
    "builtin_function_or_method",
    "instance",
    "_Feature"
   ],
   "window_display": false
  }
 },
 "nbformat": 4,
 "nbformat_minor": 5
}
