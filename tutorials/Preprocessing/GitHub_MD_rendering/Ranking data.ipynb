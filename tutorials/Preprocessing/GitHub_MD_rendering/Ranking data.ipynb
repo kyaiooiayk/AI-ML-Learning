{
 "cells": [
  {
   "cell_type": "code",
   "execution_count": null,
   "metadata": {},
   "outputs": [],
   "source": [
    "\"\"\"\n",
    "What?\n",
    "\n",
    "If we take nonparametric data as data that does not look Gaussian, then you can use statistical \n",
    "methods that quantify how Gaussian a sample of data is and use nonparametric methods if the data fails those tests.\n",
    "Three examples of statistical methods for normality testing, as it is called, are:\n",
    "[1] Shapiro-Wilk Test\n",
    "[2] D’Agostino’s K2 Test\n",
    "[3] Anderson-Darling Test\n",
    "\n",
    "Once you have decided to use nonparametric statistics, you must then rank your data\n",
    "\n",
    "https://machinelearningmastery.com/how-to-use-correlation-to-understand-the-relationship-between-variables/\n",
    "\"\"\""
   ]
  },
  {
   "cell_type": "code",
   "execution_count": 1,
   "metadata": {},
   "outputs": [],
   "source": [
    "# Import python modules\n",
    "from numpy.random import rand\n",
    "from numpy.random import seed\n",
    "from scipy.stats import rankdata\n",
    "from IPython.display import Markdown, display"
   ]
  },
  {
   "cell_type": "code",
   "execution_count": 2,
   "metadata": {},
   "outputs": [],
   "source": [
    "# Additional cosmetic function\n",
    "def myPrint(string, c = \"blue\"):    \n",
    "    \"\"\"My version of the python-native print command.\n",
    "    \n",
    "    Print in bold and red tect\n",
    "    \"\"\"\n",
    "    colorstr = \"<span style='color:{}'>{}</span>\".format(c, '**'+ string + '**' )    \n",
    "    display(Markdown(colorstr))"
   ]
  },
  {
   "cell_type": "code",
   "execution_count": 3,
   "metadata": {},
   "outputs": [
    {
     "name": "stdout",
     "output_type": "stream",
     "text": [
      "[4.17022005e-01 7.20324493e-01 1.14374817e-04 3.02332573e-01\n",
      " 1.46755891e-01 9.23385948e-02 1.86260211e-01 3.45560727e-01\n",
      " 3.96767474e-01 5.38816734e-01]\n",
      "[408. 721.   1. 300. 151.  93. 186. 342. 385. 535.]\n"
     ]
    }
   ],
   "source": [
    "# seed random number generator\n",
    "seed(1)\n",
    "# generate dataset\n",
    "data = rand(1000)\n",
    "# review first 10 samples\n",
    "print(data[:10])\n",
    "# rank data\n",
    "ranked = rankdata(data)\n",
    "# review first 10 ranked samples\n",
    "print(ranked[:10])"
   ]
  },
  {
   "cell_type": "code",
   "execution_count": null,
   "metadata": {},
   "outputs": [],
   "source": []
  }
 ],
 "metadata": {
  "hide_input": false,
  "kernelspec": {
   "display_name": "trainingAI",
   "language": "python",
   "name": "trainingai"
  },
  "language_info": {
   "codemirror_mode": {
    "name": "ipython",
    "version": 3
   },
   "file_extension": ".py",
   "mimetype": "text/x-python",
   "name": "python",
   "nbconvert_exporter": "python",
   "pygments_lexer": "ipython3",
   "version": "3.8.5"
  }
 },
 "nbformat": 4,
 "nbformat_minor": 2
}
