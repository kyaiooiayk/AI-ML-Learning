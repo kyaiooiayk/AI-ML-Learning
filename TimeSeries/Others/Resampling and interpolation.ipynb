{
 "cells": [
  {
   "cell_type": "markdown",
   "metadata": {},
   "source": [
    "# Introduction"
   ]
  },
  {
   "cell_type": "markdown",
   "metadata": {},
   "source": [
    "<div class=\"alert alert-block alert-warning\">\n",
    "<font color=black><br>\n",
    "\n",
    "**What?** Resampling and interpolation\n",
    "\n",
    "<br></font>\n",
    "</div>"
   ]
  },
  {
   "cell_type": "markdown",
   "metadata": {},
   "source": [
    "# Import modules"
   ]
  },
  {
   "cell_type": "code",
   "execution_count": 11,
   "metadata": {},
   "outputs": [],
   "source": [
    "from pandas import read_csv\n",
    "from datetime import datetime\n",
    "from matplotlib import pyplot"
   ]
  },
  {
   "cell_type": "markdown",
   "metadata": {},
   "source": [
    "### Reading in the dataset"
   ]
  },
  {
   "cell_type": "code",
   "execution_count": 8,
   "metadata": {
    "scrolled": true
   },
   "outputs": [
    {
     "name": "stdout",
     "output_type": "stream",
     "text": [
      "Month\n",
      "1901-01-01    266.0\n",
      "1901-02-01    145.9\n",
      "1901-03-01    183.1\n",
      "1901-04-01    119.3\n",
      "1901-05-01    180.3\n",
      "1901-06-01    168.5\n",
      "1901-07-01    231.8\n",
      "1901-08-01    224.5\n",
      "1901-09-01    192.8\n",
      "1901-10-01    122.9\n",
      "1901-11-01    336.5\n",
      "1901-12-01    185.9\n",
      "1902-01-01    194.3\n",
      "1902-02-01    149.5\n",
      "1902-03-01    210.1\n",
      "1902-04-01    273.3\n",
      "1902-05-01    191.4\n",
      "1902-06-01    287.0\n",
      "1902-07-01    226.0\n",
      "1902-08-01    303.6\n",
      "1902-09-01    289.9\n",
      "1902-10-01    421.6\n",
      "1902-11-01    264.5\n",
      "1902-12-01    342.3\n",
      "1903-01-01    339.7\n",
      "1903-02-01    440.4\n",
      "1903-03-01    315.9\n",
      "1903-04-01    439.3\n",
      "1903-05-01    401.3\n",
      "1903-06-01    437.4\n",
      "1903-07-01    575.5\n",
      "1903-08-01    407.6\n",
      "Name: Sales, dtype: float64\n"
     ]
    }
   ],
   "source": [
    "\n",
    "def parser(x):\n",
    "    return datetime.strptime('190'+x, '%Y-%m')\n",
    "\n",
    "series = read_csv('../DATASETS/shampoo.csv', header=0, index_col=0, parse_dates=True, squeeze=True, date_parser=parser)\n",
    "print(series.head(32))"
   ]
  },
  {
   "cell_type": "markdown",
   "metadata": {},
   "source": [
    "### Upsampling the data"
   ]
  },
  {
   "cell_type": "markdown",
   "metadata": {},
   "source": [
    "<div class=\"alert alert-block alert-info\">\n",
    "<font color=black><br>\n",
    "\n",
    "- The observations in the Shampoo Sales are monthly. \n",
    "- Imagine we wanted daily sales information. \n",
    "- We would have to upsample the frequency from monthly to daily and use an interpolation scheme to fill in the new daily frequency.\n",
    "\n",
    "<br></font>\n",
    "</div>"
   ]
  },
  {
   "cell_type": "code",
   "execution_count": 9,
   "metadata": {
    "scrolled": false
   },
   "outputs": [
    {
     "name": "stdout",
     "output_type": "stream",
     "text": [
      "Month\n",
      "1901-01-01    266.0\n",
      "1901-01-02      NaN\n",
      "1901-01-03      NaN\n",
      "1901-01-04      NaN\n",
      "1901-01-05      NaN\n",
      "1901-01-06      NaN\n",
      "1901-01-07      NaN\n",
      "1901-01-08      NaN\n",
      "1901-01-09      NaN\n",
      "1901-01-10      NaN\n",
      "1901-01-11      NaN\n",
      "1901-01-12      NaN\n",
      "1901-01-13      NaN\n",
      "1901-01-14      NaN\n",
      "1901-01-15      NaN\n",
      "1901-01-16      NaN\n",
      "1901-01-17      NaN\n",
      "1901-01-18      NaN\n",
      "1901-01-19      NaN\n",
      "1901-01-20      NaN\n",
      "1901-01-21      NaN\n",
      "1901-01-22      NaN\n",
      "1901-01-23      NaN\n",
      "1901-01-24      NaN\n",
      "1901-01-25      NaN\n",
      "1901-01-26      NaN\n",
      "1901-01-27      NaN\n",
      "1901-01-28      NaN\n",
      "1901-01-29      NaN\n",
      "1901-01-30      NaN\n",
      "1901-01-31      NaN\n",
      "1901-02-01    145.9\n",
      "Freq: D, Name: Sales, dtype: float64\n"
     ]
    }
   ],
   "source": [
    "upsampled = series.resample('D').mean()\n",
    "print(upsampled.head(32))"
   ]
  },
  {
   "cell_type": "markdown",
   "metadata": {},
   "source": [
    "<div class=\"alert alert-block alert-info\">\n",
    "<font color=black><br>\n",
    "\n",
    "- We can see that the resample() function has created the rows by putting NaN values in the new values. \n",
    "- We can see we still have the sales volume on the first of January and February from the original data. ext, we can interpolate the missing values at this new frequency. \n",
    "- The Series Pandas object provides an interpolate() function to interpolate missing values, and there is a nice selection of simple and more complex interpolation functions.\n",
    "\n",
    "<br></font>\n",
    "</div>"
   ]
  },
  {
   "cell_type": "code",
   "execution_count": 12,
   "metadata": {
    "scrolled": true
   },
   "outputs": [
    {
     "name": "stdout",
     "output_type": "stream",
     "text": [
      "Month\n",
      "1901-01-01    266.000000\n",
      "1901-01-02    262.125806\n",
      "1901-01-03    258.251613\n",
      "1901-01-04    254.377419\n",
      "1901-01-05    250.503226\n",
      "1901-01-06    246.629032\n",
      "1901-01-07    242.754839\n",
      "1901-01-08    238.880645\n",
      "1901-01-09    235.006452\n",
      "1901-01-10    231.132258\n",
      "1901-01-11    227.258065\n",
      "1901-01-12    223.383871\n",
      "1901-01-13    219.509677\n",
      "1901-01-14    215.635484\n",
      "1901-01-15    211.761290\n",
      "1901-01-16    207.887097\n",
      "1901-01-17    204.012903\n",
      "1901-01-18    200.138710\n",
      "1901-01-19    196.264516\n",
      "1901-01-20    192.390323\n",
      "1901-01-21    188.516129\n",
      "1901-01-22    184.641935\n",
      "1901-01-23    180.767742\n",
      "1901-01-24    176.893548\n",
      "1901-01-25    173.019355\n",
      "1901-01-26    169.145161\n",
      "1901-01-27    165.270968\n",
      "1901-01-28    161.396774\n",
      "1901-01-29    157.522581\n",
      "1901-01-30    153.648387\n",
      "1901-01-31    149.774194\n",
      "1901-02-01    145.900000\n",
      "Freq: D, Name: Sales, dtype: float64\n"
     ]
    },
    {
     "data": {
      "image/png": "[encoded data removed]",
      "text/plain": [
       "<Figure size 432x288 with 1 Axes>"
      ]
     },
     "metadata": {
      "needs_background": "light"
     },
     "output_type": "display_data"
    }
   ],
   "source": [
    "interpolated = upsampled.interpolate(method='linear') \n",
    "print(interpolated.head(32))\n",
    "interpolated.plot()\n",
    "pyplot.show()"
   ]
  },
  {
   "cell_type": "code",
   "execution_count": 14,
   "metadata": {
    "scrolled": true
   },
   "outputs": [
    {
     "name": "stdout",
     "output_type": "stream",
     "text": [
      "Month\n",
      "1901-01-01    266.000000\n",
      "1901-01-02    258.630160\n",
      "1901-01-03    251.560886\n",
      "1901-01-04    244.720748\n",
      "1901-01-05    238.109746\n",
      "1901-01-06    231.727880\n",
      "1901-01-07    225.575149\n",
      "1901-01-08    219.651553\n",
      "1901-01-09    213.957094\n",
      "1901-01-10    208.491770\n",
      "1901-01-11    203.255582\n",
      "1901-01-12    198.248529\n",
      "1901-01-13    193.470612\n",
      "1901-01-14    188.921831\n",
      "1901-01-15    184.602185\n",
      "1901-01-16    180.511676\n",
      "1901-01-17    176.650301\n",
      "1901-01-18    173.018063\n",
      "1901-01-19    169.614960\n",
      "1901-01-20    166.440993\n",
      "1901-01-21    163.496161\n",
      "1901-01-22    160.780465\n",
      "1901-01-23    158.293905\n",
      "1901-01-24    156.036481\n",
      "1901-01-25    154.008192\n",
      "1901-01-26    152.209039\n",
      "1901-01-27    150.639021\n",
      "1901-01-28    149.298139\n",
      "1901-01-29    148.186393\n",
      "1901-01-30    147.303783\n",
      "1901-01-31    146.650308\n",
      "1901-02-01    145.900000\n",
      "Freq: D, Name: Sales, dtype: float64\n"
     ]
    },
    {
     "data": {
      "image/png": "[encoded data removed]",
      "text/plain": [
       "<Figure size 432x288 with 1 Axes>"
      ]
     },
     "metadata": {
      "needs_background": "light"
     },
     "output_type": "display_data"
    }
   ],
   "source": [
    "interpolated = upsampled.interpolate(method='spline', order=2) \n",
    "print(interpolated.head(32))\n",
    "interpolated.plot()\n",
    "pyplot.show()"
   ]
  },
  {
   "cell_type": "markdown",
   "metadata": {},
   "source": [
    "# References"
   ]
  },
  {
   "cell_type": "markdown",
   "metadata": {},
   "source": [
    "<div class=\"alert alert-block alert-warning\">\n",
    "<font color=black><br>\n",
    "\n",
    "- https://machinelearningmastery.com/?s=time+series&post_type=post&submit=Search\n",
    "\n",
    "<br></font>\n",
    "</div>"
   ]
  },
  {
   "cell_type": "code",
   "execution_count": null,
   "metadata": {},
   "outputs": [],
   "source": []
  }
 ],
 "metadata": {
  "hide_input": false,
  "kernelspec": {
   "display_name": "trainingAI",
   "language": "python",
   "name": "trainingai"
  },
  "language_info": {
   "codemirror_mode": {
    "name": "ipython",
    "version": 3
   },
   "file_extension": ".py",
   "mimetype": "text/x-python",
   "name": "python",
   "nbconvert_exporter": "python",
   "pygments_lexer": "ipython3",
   "version": "3.8.5"
  }
 },
 "nbformat": 4,
 "nbformat_minor": 2
}
