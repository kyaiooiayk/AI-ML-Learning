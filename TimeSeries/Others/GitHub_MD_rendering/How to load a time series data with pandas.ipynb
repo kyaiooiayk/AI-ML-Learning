{
 "cells": [
  {
   "cell_type": "markdown",
   "metadata": {},
   "source": [
    "# Introduction"
   ]
  },
  {
   "cell_type": "markdown",
   "metadata": {},
   "source": [
    "\n",
    "**What?** How to load a time series data with pandas\n",
    "\n",
""   ]
  },
  {
   "cell_type": "markdown",
   "metadata": {},
   "source": [
    "# Import modules"
   ]
  },
  {
   "cell_type": "code",
   "execution_count": null,
   "metadata": {},
   "outputs": [],
   "source": [
    "from pandas import read_csv"
   ]
  },
  {
   "cell_type": "markdown",
   "metadata": {},
   "source": [
    "# How to load time series with pandas"
   ]
  },
  {
   "cell_type": "markdown",
   "metadata": {},
   "source": [
    "\n",
    "- **header=0**: We must specify the header information at row 0.\n",
    "- **parse dates=True**: We give the function a hint that data in the first column contains dates that need to be parsed.\n",
    "- **index col=0**: We hint that the first column contains the index information for the time series.\n",
    "- **squeeze=True**: We hint that we only have one data column and that we are interested in a Series and not a DataFrame.\n",
    "\n",
""   ]
  },
  {
   "cell_type": "code",
   "execution_count": 5,
   "metadata": {},
   "outputs": [
    {
     "name": "stdout",
     "output_type": "stream",
     "text": [
      "<class 'pandas.core.series.Series'>\n"
     ]
    }
   ],
   "source": [
    "series = read_csv('../DATASETS/daily-total-female-births.csv', header=0, index_col=0, parse_dates=True, squeeze=True)\n",
    "print(type(series))"
   ]
  },
  {
   "cell_type": "markdown",
   "metadata": {},
   "source": [
    "# Exploring Time Series Data"
   ]
  },
  {
   "cell_type": "code",
   "execution_count": 8,
   "metadata": {},
   "outputs": [
    {
     "name": "stdout",
     "output_type": "stream",
     "text": [
      "Date\n",
      "1959-01-01    35\n",
      "1959-01-02    32\n",
      "1959-01-03    30\n",
      "1959-01-04    31\n",
      "1959-01-05    44\n",
      "1959-01-06    29\n",
      "1959-01-07    45\n",
      "1959-01-08    43\n",
      "1959-01-09    38\n",
      "1959-01-10    27\n",
      "Name: Births, dtype: int64\n"
     ]
    }
   ],
   "source": [
    "# Summarize first few lines of a file\n",
    "print(series.head(10))"
   ]
  },
  {
   "cell_type": "code",
   "execution_count": 7,
   "metadata": {},
   "outputs": [
    {
     "name": "stdout",
     "output_type": "stream",
     "text": [
      "365\n"
     ]
    }
   ],
   "source": [
    "# summarize the dimensions of a time series\n",
    "print(series.size)"
   ]
  },
  {
   "cell_type": "code",
   "execution_count": 12,
   "metadata": {
    "scrolled": true
   },
   "outputs": [
    {
     "name": "stdout",
     "output_type": "stream",
     "text": [
      "Query by month:  Date\n",
      "1959-01-01    35\n",
      "1959-01-02    32\n",
      "1959-01-03    30\n",
      "1959-01-04    31\n",
      "1959-01-05    44\n",
      "1959-01-06    29\n",
      "1959-01-07    45\n",
      "1959-01-08    43\n",
      "1959-01-09    38\n",
      "1959-01-10    27\n",
      "1959-01-11    38\n",
      "1959-01-12    33\n",
      "1959-01-13    55\n",
      "1959-01-14    47\n",
      "1959-01-15    45\n",
      "1959-01-16    37\n",
      "1959-01-17    50\n",
      "1959-01-18    43\n",
      "1959-01-19    41\n",
      "1959-01-20    52\n",
      "1959-01-21    34\n",
      "1959-01-22    53\n",
      "1959-01-23    39\n",
      "1959-01-24    32\n",
      "1959-01-25    37\n",
      "1959-01-26    43\n",
      "1959-01-27    39\n",
      "1959-01-28    35\n",
      "1959-01-29    44\n",
      "1959-01-30    38\n",
      "1959-01-31    24\n",
      "Name: Births, dtype: int64\n",
      "Query by day:  35\n"
     ]
    }
   ],
   "source": [
    "# Query a dataset using a date-time index\n",
    "print(\"Query by month: \", series['1959-01'])\n",
    "print(\"Query by day: \", series['1959-01-01'])"
   ]
  },
  {
   "cell_type": "code",
   "execution_count": 13,
   "metadata": {},
   "outputs": [
    {
     "name": "stdout",
     "output_type": "stream",
     "text": [
      "count    365.000000\n",
      "mean      41.980822\n",
      "std        7.348257\n",
      "min       23.000000\n",
      "25%       37.000000\n",
      "50%       42.000000\n",
      "75%       46.000000\n",
      "max       73.000000\n",
      "Name: Births, dtype: float64\n"
     ]
    }
   ],
   "source": [
    "# Calculate descriptive statistics\n",
    "print(series.describe())"
   ]
  },
  {
   "cell_type": "markdown",
   "metadata": {},
   "source": [
    "# References"
   ]
  },
  {
   "cell_type": "markdown",
   "metadata": {},
   "source": [
    "\n",
    "- [Link to dataset](https://github.com/jbrownlee/Datasets)\n",
    "- https://machinelearningmastery.com/?s=time+series&post_type=post&submit=Search\n",
    "\n",
""   ]
  },
  {
   "cell_type": "code",
   "execution_count": null,
   "metadata": {},
   "outputs": [],
   "source": []
  }
 ],
 "metadata": {
  "hide_input": false,
  "kernelspec": {
   "display_name": "trainingAI",
   "language": "python",
   "name": "trainingai"
  },
  "language_info": {
   "codemirror_mode": {
    "name": "ipython",
    "version": 3
   },
   "file_extension": ".py",
   "mimetype": "text/x-python",
   "name": "python",
   "nbconvert_exporter": "python",
   "pygments_lexer": "ipython3",
   "version": "3.8.5"
  }
 },
 "nbformat": 4,
 "nbformat_minor": 2
}
