{
 "cells": [
  {
   "cell_type": "markdown",
   "metadata": {},
   "source": [
    "# Introduction"
   ]
  },
  {
   "cell_type": "markdown",
   "metadata": {},
   "source": [
    "<div class=\"alert alert-block alert-warning\">\n",
    "<font color=black><br>\n",
    "\n",
    "**What?** How to estimate forecast error\n",
    "\n",
    "<br></font>\n",
    "</div>"
   ]
  },
  {
   "cell_type": "markdown",
   "metadata": {},
   "source": [
    "# Import modules"
   ]
  },
  {
   "cell_type": "code",
   "execution_count": 4,
   "metadata": {},
   "outputs": [],
   "source": [
    "from math import sqrt\n",
    "import numpy as np\n",
    "from sklearn.metrics import mean_absolute_error\n",
    "from sklearn.metrics import mean_squared_error"
   ]
  },
  {
   "cell_type": "markdown",
   "metadata": {},
   "source": [
    "### Forecast Error (or Residual Forecast Error)"
   ]
  },
  {
   "cell_type": "markdown",
   "metadata": {},
   "source": [
    "<div class=\"alert alert-block alert-info\">\n",
    "<font color=black><br>\n",
    "\n",
    "- The forecast error is computed as **expected value − predicted value**\n",
    "\n",
    "<br></font>\n",
    "</div>"
   ]
  },
  {
   "cell_type": "code",
   "execution_count": 1,
   "metadata": {},
   "outputs": [
    {
     "name": "stdout",
     "output_type": "stream",
     "text": [
      "Forecast Errors: [-0.2, 0.09999999999999998, -0.1, -0.09999999999999998, -0.2]\n"
     ]
    }
   ],
   "source": [
    "expected = [0.0, 0.5, 0.0, 0.5, 0.0]\n",
    "predictions = [0.2, 0.4, 0.1, 0.6, 0.2]\n",
    "forecast_errors = [expected[i]-predictions[i] for i in range(len(expected))] \n",
    "print('Forecast Errors: %s' % forecast_errors)"
   ]
  },
  {
   "cell_type": "markdown",
   "metadata": {},
   "source": [
    "### Mean Forecast Error (or Forecast Bias)"
   ]
  },
  {
   "cell_type": "markdown",
   "metadata": {},
   "source": [
    "<div class=\"alert alert-block alert-info\">\n",
    "<font color=black><br>\n",
    "\n",
    "- Forecast errors can be positive and negative. \n",
    "- This means that when the average of these values is calculated, an ideal mean forecast error would be zero. \n",
    "- A mean forecast error value other than zero suggests a tendency of the model to over forecast (negative error) or under forecast (positive error). \n",
    "- As such, the mean forecast error is also called the **forecast bias**. \n",
    "- In this case the result is negative, meaning that we have OVER forecast.\n",
    "\n",
    "<br></font>\n",
    "</div>"
   ]
  },
  {
   "cell_type": "code",
   "execution_count": 2,
   "metadata": {},
   "outputs": [
    {
     "name": "stdout",
     "output_type": "stream",
     "text": [
      "Bias: -0.100000\n"
     ]
    }
   ],
   "source": [
    "expected = [0.0, 0.5, 0.0, 0.5, 0.0]\n",
    "predictions = [0.2, 0.4, 0.1, 0.6, 0.2]\n",
    "forecast_errors = [expected[i]-predictions[i] for i in range(len(expected))] \n",
    "bias = sum(forecast_errors) * 1.0/len(expected)\n",
    "print('Bias: %f' % bias)"
   ]
  },
  {
   "cell_type": "markdown",
   "metadata": {},
   "source": [
    "### Mean Absolute Error"
   ]
  },
  {
   "cell_type": "markdown",
   "metadata": {},
   "source": [
    "<div class=\"alert alert-block alert-info\">\n",
    "<font color=black><br>\n",
    "\n",
    "- This error values are in the original units of the predicted values. \n",
    "- A mean absolute error of zero indicates no error.\n",
    "\n",
    "<br></font>\n",
    "</div>"
   ]
  },
  {
   "cell_type": "code",
   "execution_count": 5,
   "metadata": {},
   "outputs": [
    {
     "name": "stdout",
     "output_type": "stream",
     "text": [
      "MAE: 0.140000\n"
     ]
    }
   ],
   "source": [
    "expected = [0.0, 0.5, 0.0, 0.5, 0.0]\n",
    "predictions = [0.2, 0.4, 0.1, 0.6, 0.2]\n",
    "mae = mean_absolute_error(expected, predictions) \n",
    "print('MAE: %f' % mae)"
   ]
  },
  {
   "cell_type": "markdown",
   "metadata": {},
   "source": [
    "### Mean Squared Error"
   ]
  },
  {
   "cell_type": "markdown",
   "metadata": {},
   "source": [
    "<div class=\"alert alert-block alert-info\">\n",
    "<font color=black><br>\n",
    "\n",
    "- The mean squared error, or MSE, is calculated as the average of the squared forecast error values. \n",
    "- Squaring the forecast error values forces them to be positive; it also has the effect of putting more weight on large errors. \n",
    "- Very large or outlier forecast errors are squared, which in turn has the effect of dragging the mean of the squared forecast errors out resulting in a larger mean squared error score. \n",
    "- In effect, the score gives worse performance to those models that make large wrong forecasts\n",
    "\n",
    "<br></font>\n",
    "</div>"
   ]
  },
  {
   "cell_type": "code",
   "execution_count": 7,
   "metadata": {},
   "outputs": [
    {
     "name": "stdout",
     "output_type": "stream",
     "text": [
      "MSE: 0.022000\n"
     ]
    }
   ],
   "source": [
    "expected = [0.0, 0.5, 0.0, 0.5, 0.0] \n",
    "predictions = [0.2, 0.4, 0.1, 0.6, 0.2]\n",
    "mse = mean_squared_error(expected, predictions) \n",
    "print('MSE: %f' % mse)"
   ]
  },
  {
   "cell_type": "markdown",
   "metadata": {},
   "source": [
    "### Root Mean Squared Error"
   ]
  },
  {
   "cell_type": "markdown",
   "metadata": {},
   "source": [
    "<div class=\"alert alert-block alert-info\">\n",
    "<font color=black><br>\n",
    "\n",
    "- The mean squared error described above is in the squared units of the predictions. \n",
    "- It can be transformed back into the original units of the predictions by taking the square root of the mean squared error score.\n",
    "\n",
    "<br></font>\n",
    "</div>"
   ]
  },
  {
   "cell_type": "code",
   "execution_count": 11,
   "metadata": {},
   "outputs": [
    {
     "name": "stdout",
     "output_type": "stream",
     "text": [
      "RMSE: 0.148324\n"
     ]
    }
   ],
   "source": [
    "expected = [0.0, 0.5, 0.0, 0.5, 0.0]\n",
    "predictions = [0.2, 0.4, 0.1, 0.6, 0.2]\n",
    "mse = mean_squared_error(expected, predictions) \n",
    "rmse = sqrt(mse)\n",
    "print('RMSE: %f' % rmse)"
   ]
  },
  {
   "cell_type": "markdown",
   "metadata": {},
   "source": [
    "# Mean Absolute Percentage Error"
   ]
  },
  {
   "cell_type": "code",
   "execution_count": 6,
   "metadata": {},
   "outputs": [
    {
     "name": "stdout",
     "output_type": "stream",
     "text": [
      "inf\n"
     ]
    },
    {
     "name": "stderr",
     "output_type": "stream",
     "text": [
      "<ipython-input-6-08c52ed92f2d>:2: RuntimeWarning: divide by zero encountered in true_divide\n",
      "  return np.mean(np.abs((y_true - y_pred) / y_true)) * 100\n"
     ]
    }
   ],
   "source": [
    "def mean_absolute_percentage_error(y_true, y_pred):\n",
    "    return np.mean(np.abs((y_true - y_pred) / y_true)) * 100\n",
    "\n",
    "expected = np.array([0.0, 0.5, 0.0, 0.5, 0.0])\n",
    "predictions = np.array([0.2, 0.4, 0.1, 0.6, 0.2])\n",
    "\n",
    "print(mean_absolute_percentage_error(expected, predictions))"
   ]
  },
  {
   "cell_type": "markdown",
   "metadata": {},
   "source": [
    "# Conclusions"
   ]
  },
  {
   "cell_type": "markdown",
   "metadata": {},
   "source": [
    "<div class=\"alert alert-block alert-danger\">\n",
    "<font color=black><br>\n",
    "\n",
    "- We have seen there are quite a lot of options, **but why**?\n",
    "- I can provided one tentative answer to this questions. I'd say because there is a distinction between loss and evalution function.\n",
    "- **Loss function** is what we are driving to zero and it has to have some mathemtical property which do not have to be the same for the evaluation function.\n",
    "- An **evaluation function** does not have to be minimise, instead it has to provide an easy way to interprete the result.\n",
    "\n",
    "<br></font>\n",
    "</div>"
   ]
  },
  {
   "cell_type": "markdown",
   "metadata": {},
   "source": [
    "# References"
   ]
  },
  {
   "cell_type": "markdown",
   "metadata": {},
   "source": [
    "<div class=\"alert alert-warning\">\n",
    "<font color=black>\n",
    "\n",
    "- https://machinelearningmastery.com/?s=time+series&post_type=post&submit=Search\n",
    "\n",
    "</font>\n",
    "</div>"
   ]
  },
  {
   "cell_type": "code",
   "execution_count": null,
   "metadata": {},
   "outputs": [],
   "source": []
  }
 ],
 "metadata": {
  "hide_input": false,
  "kernelspec": {
   "display_name": "trainingAI",
   "language": "python",
   "name": "trainingai"
  },
  "language_info": {
   "codemirror_mode": {
    "name": "ipython",
    "version": 3
   },
   "file_extension": ".py",
   "mimetype": "text/x-python",
   "name": "python",
   "nbconvert_exporter": "python",
   "pygments_lexer": "ipython3",
   "version": "3.8.5"
  }
 },
 "nbformat": 4,
 "nbformat_minor": 2
}
