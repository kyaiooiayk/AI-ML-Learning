{
 "cells": [
  {
   "cell_type": "markdown",
   "metadata": {},
   "source": [
    "# Introduction"
   ]
  },
  {
   "cell_type": "markdown",
   "metadata": {},
   "source": [
    "<div class=\"alert alert-block alert-warning\">\n",
    "<font color=black><br>\n",
    "\n",
    "**What?** Three methods to reframe time series\n",
    "\n",
    "<br></font>\n",
    "</div>"
   ]
  },
  {
   "cell_type": "markdown",
   "metadata": {},
   "source": [
    "# Why reframing time series?"
   ]
  },
  {
   "cell_type": "markdown",
   "metadata": {},
   "source": [
    "<div class=\"alert alert-block alert-info\">\n",
    "<font color=black><br>\n",
    "\n",
    "- There are two main reasons:\n",
    "    - To simplify the prediction problem and\n",
    "    - Expose more or different information to be modeled.\n",
    "\n",
    "- Given a time series describing the temperature:\n",
    "    - **Regression framing** – predict the tomorrow temperature given the day temperature the day before\n",
    "    - **Classification framings** - Given the minimum temperature the day before, predict the temperature as either cold, moderate, or hot\n",
    "    - **Time horizon framings** – predict the minimum temperature for the next 7 days\n",
    "\n",
    "    \n",
    "<br></font>\n",
    "</div>"
   ]
  },
  {
   "cell_type": "markdown",
   "metadata": {},
   "source": [
    "# Import modules"
   ]
  },
  {
   "cell_type": "code",
   "execution_count": 2,
   "metadata": {},
   "outputs": [],
   "source": [
    "from pandas import read_csv\n",
    "from pandas import DataFrame\n",
    "from pandas import concat"
   ]
  },
  {
   "cell_type": "markdown",
   "metadata": {},
   "source": [
    "# Import dataset"
   ]
  },
  {
   "cell_type": "markdown",
   "metadata": {},
   "source": [
    "<div class=\"alert alert-block alert-info\">\n",
    "<font color=black><br>\n",
    "\n",
    "-  Minimum daily temperature forecast.\n",
    "\n",
    "<br></font>\n",
    "</div>"
   ]
  },
  {
   "cell_type": "code",
   "execution_count": 3,
   "metadata": {},
   "outputs": [],
   "source": [
    "series = read_csv('../DATASETS/daily-min-temperatures.csv', header=0, index_col=0, parse_dates=True, squeeze=True)"
   ]
  },
  {
   "cell_type": "markdown",
   "metadata": {},
   "source": [
    "# Regression Framings"
   ]
  },
  {
   "cell_type": "markdown",
   "metadata": {},
   "source": [
    "<div class=\"alert alert-block alert-info\">\n",
    "<font color=black><br>\n",
    "\n",
    "- Most time series prediction problems are regression problems, requiring the prediction of a real-valued output.\n",
    "- Below is an example of reframing the Minimum Daily Temperatures forecast problem to predict the daily temperature rounded to the nearest 5 degrees.\n",
    "\n",
    "<br></font>\n",
    "</div>"
   ]
  },
  {
   "cell_type": "code",
   "execution_count": 4,
   "metadata": {},
   "outputs": [
    {
     "name": "stdout",
     "output_type": "stream",
     "text": [
      "      t   t+1\n",
      "0   NaN  20.0\n",
      "1  20.7  15.0\n",
      "2  17.9  15.0\n",
      "3  18.8  10.0\n",
      "4  14.6  15.0\n"
     ]
    }
   ],
   "source": [
    "# create lagged dataset\n",
    "values = DataFrame(series.values)\n",
    "dataframe = concat([values.shift(1), values], axis=1)\n",
    "dataframe.columns = ['t', 't+1']\n",
    "\n",
    "# round forecast to nearest 5\n",
    "for i in range(len(dataframe['t+1'])):\n",
    "    dataframe['t+1'][i] = int(dataframe['t+1'][i] / 5) * 5.0 \n",
    "print(dataframe.head(5))"
   ]
  },
  {
   "cell_type": "markdown",
   "metadata": {},
   "source": [
    "# Classification Framings"
   ]
  },
  {
   "cell_type": "markdown",
   "metadata": {},
   "source": [
    "<div class=\"alert alert-block alert-info\">\n",
    "<font color=black><br>\n",
    "\n",
    "- Classification involves predicting categorical or label outputs (like hot and cold). \n",
    "- Below is an example of transforming the Minimum Daily Temperatures forecast problem to a classification problem where each temperature value is an ordinal value of cold, moderate, or hot.\n",
    "- **Given the minimum temperature the day before in degrees Celsius, the goal is to predict the temperature as either cold, moderate, or hot (0, 1, 2 respectively)**.\n",
    "\n",
    "<br></font>\n",
    "</div>"
   ]
  },
  {
   "cell_type": "code",
   "execution_count": 5,
   "metadata": {},
   "outputs": [
    {
     "name": "stdout",
     "output_type": "stream",
     "text": [
      "      t  t+1\n",
      "0   NaN  1.0\n",
      "1  20.7  1.0\n",
      "2  17.9  1.0\n",
      "3  18.8  1.0\n",
      "4  14.6  1.0\n"
     ]
    }
   ],
   "source": [
    "# Create lagged dataset\n",
    "values = DataFrame(series.values)\n",
    "dataframe = concat([values.shift(1), values], axis=1) \n",
    "dataframe.columns = ['t', 't+1']\n",
    "\n",
    "# make discrete\n",
    "for i in range(len(dataframe['t+1'])):\n",
    "    value = dataframe['t+1'][i] \n",
    "    if value < 10.0:\n",
    "        dataframe['t+1'][i] = 0 \n",
    "    elif value >= 25.0:\n",
    "        dataframe['t+1'][i] = 2 \n",
    "    else:\n",
    "        dataframe['t+1'][i] = 1 \n",
    "print(dataframe.head(5))"
   ]
  },
  {
   "cell_type": "markdown",
   "metadata": {},
   "source": [
    "# Time Horizon Framings"
   ]
  },
  {
   "cell_type": "markdown",
   "metadata": {},
   "source": [
    "<div class=\"alert alert-block alert-info\">\n",
    "<font color=black><br>\n",
    "\n",
    "- Another axis that can be varied is the time horizon. \n",
    "- The time horizon is the number of time steps in the future that are being predicted. \n",
    "- The example below transforms the Minimum Daily Temperatures forecast problem **to predict the minimum temperature for the next 7 days**.\n",
    "\n",
    "<br></font>\n",
    "</div>"
   ]
  },
  {
   "cell_type": "code",
   "execution_count": 6,
   "metadata": {},
   "outputs": [
    {
     "name": "stdout",
     "output_type": "stream",
     "text": [
      "       t   t+1   t+2   t+3   t+4   t+5   t+6   t+7\n",
      "0    NaN  20.7  17.9  18.8  14.6  15.8  15.8  15.8\n",
      "1   20.7  17.9  18.8  14.6  15.8  15.8  15.8  17.4\n",
      "2   17.9  18.8  14.6  15.8  15.8  15.8  17.4  21.8\n",
      "3   18.8  14.6  15.8  15.8  15.8  17.4  21.8  20.0\n",
      "4   14.6  15.8  15.8  15.8  17.4  21.8  20.0  16.2\n",
      "5   15.8  15.8  15.8  17.4  21.8  20.0  16.2  13.3\n",
      "6   15.8  15.8  17.4  21.8  20.0  16.2  13.3  16.7\n",
      "7   15.8  17.4  21.8  20.0  16.2  13.3  16.7  21.5\n",
      "8   17.4  21.8  20.0  16.2  13.3  16.7  21.5  25.0\n",
      "9   21.8  20.0  16.2  13.3  16.7  21.5  25.0  20.7\n",
      "10  20.0  16.2  13.3  16.7  21.5  25.0  20.7  20.6\n",
      "11  16.2  13.3  16.7  21.5  25.0  20.7  20.6  24.8\n",
      "12  13.3  16.7  21.5  25.0  20.7  20.6  24.8  17.7\n",
      "13  16.7  21.5  25.0  20.7  20.6  24.8  17.7  15.5\n"
     ]
    }
   ],
   "source": [
    "# create lagged dataset\n",
    "values = DataFrame(series.values)\n",
    "dataframe = concat([values.shift(1), values, values.shift(-1),\n",
    "  values.shift(-2), values.shift(-3), values.shift(-4), values.shift(-5),\n",
    "values.shift(-6)], axis=1)\n",
    "dataframe.columns = ['t', 't+1', 't+2', 't+3', 't+4', 't+5', 't+6', 't+7'] \n",
    "print(dataframe.head(14))"
   ]
  },
  {
   "cell_type": "markdown",
   "metadata": {},
   "source": [
    "# References"
   ]
  },
  {
   "cell_type": "markdown",
   "metadata": {},
   "source": [
    "<div class=\"alert alert-warning\">\n",
    "<font color=black>\n",
    "\n",
    "- https://machinelearningmastery.com/?s=time+series&post_type=post&submit=Search\n",
    "    \n",
    "</font>\n",
    "</div>"
   ]
  },
  {
   "cell_type": "code",
   "execution_count": null,
   "metadata": {},
   "outputs": [],
   "source": []
  }
 ],
 "metadata": {
  "hide_input": false,
  "kernelspec": {
   "display_name": "trainingAI",
   "language": "python",
   "name": "trainingai"
  },
  "language_info": {
   "codemirror_mode": {
    "name": "ipython",
    "version": 3
   },
   "file_extension": ".py",
   "mimetype": "text/x-python",
   "name": "python",
   "nbconvert_exporter": "python",
   "pygments_lexer": "ipython3",
   "version": "3.8.5"
  }
 },
 "nbformat": 4,
 "nbformat_minor": 2
}
