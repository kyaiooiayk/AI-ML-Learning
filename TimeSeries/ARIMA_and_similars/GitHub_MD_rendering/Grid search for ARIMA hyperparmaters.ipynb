{
 "cells": [
  {
   "cell_type": "markdown",
   "metadata": {},
   "source": [
    "# Introduction\n",
    "<hr style=\"border:2px solid black\"> </hr>"
   ]
  },
  {
   "cell_type": "markdown",
   "metadata": {},
   "source": [
    "\n",
    "**What?** Grid search for ARIMA hyperparmaters\n",
    "\n",
""   ]
  },
  {
   "cell_type": "markdown",
   "metadata": {},
   "source": [
    "# Import modules"
   ]
  },
  {
   "cell_type": "code",
   "execution_count": 1,
   "metadata": {},
   "outputs": [],
   "source": [
    "import warnings\n",
    "from math import sqrt\n",
    "from pandas import read_csv\n",
    "from datetime import datetime\n",
    "from statsmodels.tsa.arima_model import ARIMA\n",
    "from sklearn.metrics import mean_squared_error"
   ]
  },
  {
   "cell_type": "markdown",
   "metadata": {},
   "source": [
    "# Load dataset"
   ]
  },
  {
   "cell_type": "code",
   "execution_count": 2,
   "metadata": {},
   "outputs": [],
   "source": [
    "def parser(x):\n",
    "    return datetime.strptime('190'+x, '%Y-%m')\n",
    "\n",
    "\n",
    "series = read_csv('../DATASETS/shampoo.csv', header=0, index_col=0,\n",
    "                  parse_dates=True, squeeze=True, date_parser=parser)"
   ]
  },
  {
   "cell_type": "code",
   "execution_count": 3,
   "metadata": {},
   "outputs": [],
   "source": [
    "# Evaluate an ARIMA model for a given order (p,d,q)\n",
    "def evaluate_arima_model(X, arima_order):\n",
    "    # prepare training dataset\n",
    "    train_size = int(len(X) * 0.66)\n",
    "    train, test = X[0:train_size], X[train_size:]\n",
    "    history = [x for x in train]\n",
    "    # make predictions\n",
    "    predictions = list()\n",
    "    for t in range(len(test)):\n",
    "        model = ARIMA(history, order=arima_order)\n",
    "        model_fit = model.fit(disp=0)\n",
    "        yhat = model_fit.forecast()[0]\n",
    "        predictions.append(yhat)\n",
    "        history.append(test[t])\n",
    "    # calculate out of sample error\n",
    "    rmse = sqrt(mean_squared_error(test, predictions))\n",
    "    return rmse"
   ]
  },
  {
   "cell_type": "code",
   "execution_count": 4,
   "metadata": {},
   "outputs": [],
   "source": [
    "# evaluate combinations of p, d and q values for an ARIMA model\n",
    "def evaluate_models(dataset, p_values, d_values, q_values):\n",
    "    dataset = dataset.astype('float32')\n",
    "    best_score, best_cfg = float(\"inf\"), None\n",
    "    for p in p_values:\n",
    "        for d in d_values:\n",
    "            for q in q_values:\n",
    "                order = (p, d, q)\n",
    "                try:\n",
    "                    rmse = evaluate_arima_model(dataset, order)\n",
    "                    if rmse < best_score:\n",
    "                        best_score, best_cfg = rmse, order\n",
    "                    print('ARIMA%s RMSE=%.3f' % (order, rmse))\n",
    "                except:\n",
    "                    continue\n",
    "    print('Best ARIMA%s RMSE=%.3f' % (best_cfg, best_score))"
   ]
  },
  {
   "cell_type": "code",
   "execution_count": 5,
   "metadata": {
    "scrolled": false
   },
   "outputs": [
    {
     "name": "stdout",
     "output_type": "stream",
     "text": [
      "ARIMA(0, 0, 0) RMSE=228.966\n",
      "ARIMA(0, 0, 1) RMSE=195.308\n",
      "ARIMA(0, 0, 2) RMSE=154.886\n",
      "ARIMA(0, 1, 0) RMSE=134.176\n",
      "ARIMA(0, 1, 1) RMSE=97.766\n",
      "ARIMA(0, 1, 2) RMSE=79.415\n",
      "ARIMA(0, 2, 0) RMSE=259.499\n",
      "ARIMA(0, 2, 1) RMSE=135.357\n",
      "ARIMA(1, 0, 0) RMSE=152.030\n",
      "ARIMA(1, 0, 2) RMSE=85.387\n",
      "ARIMA(1, 1, 0) RMSE=84.388\n",
      "ARIMA(1, 1, 1) RMSE=83.688\n",
      "ARIMA(1, 2, 0) RMSE=136.411\n",
      "ARIMA(2, 0, 0) RMSE=100.879\n",
      "ARIMA(2, 1, 0) RMSE=75.432\n",
      "ARIMA(2, 1, 1) RMSE=88.089\n",
      "ARIMA(2, 2, 0) RMSE=99.302\n",
      "ARIMA(4, 0, 0) RMSE=113.063\n",
      "ARIMA(4, 1, 0) RMSE=81.545\n",
      "ARIMA(4, 1, 1) RMSE=82.440\n",
      "ARIMA(4, 2, 0) RMSE=87.157\n",
      "ARIMA(4, 2, 1) RMSE=68.519\n",
      "ARIMA(6, 1, 0) RMSE=82.523\n",
      "ARIMA(6, 1, 1) RMSE=66.692\n",
      "ARIMA(6, 2, 0) RMSE=79.127\n",
      "ARIMA(8, 1, 0) RMSE=81.110\n",
      "ARIMA(10, 1, 0) RMSE=86.853\n",
      "Best ARIMA(6, 1, 1) RMSE=66.692\n"
     ]
    }
   ],
   "source": [
    "# evaluate parameters\n",
    "p_values = [0, 1, 2, 4, 6, 8, 10]\n",
    "d_values = range(0, 3)\n",
    "q_values = range(0, 3)\n",
    "warnings.filterwarnings(\"ignore\")\n",
    "evaluate_models(series.values, p_values, d_values, q_values)"
   ]
  },
  {
   "cell_type": "markdown",
   "metadata": {},
   "source": [
    "# References"
   ]
  },
  {
   "cell_type": "markdown",
   "metadata": {},
   "source": [
    "\n",
    "- https://machinelearningmastery.com/?s=time+series&post_type=post&submit=Search\n",
    "\n",
""   ]
  },
  {
   "cell_type": "code",
   "execution_count": null,
   "metadata": {},
   "outputs": [],
   "source": []
  }
 ],
 "metadata": {
  "hide_input": false,
  "kernelspec": {
   "display_name": "trainingAI",
   "language": "python",
   "name": "trainingai"
  },
  "language_info": {
   "codemirror_mode": {
    "name": "ipython",
    "version": 3
   },
   "file_extension": ".py",
   "mimetype": "text/x-python",
   "name": "python",
   "nbconvert_exporter": "python",
   "pygments_lexer": "ipython3",
   "version": "3.8.5"
  }
 },
 "nbformat": 4,
 "nbformat_minor": 2
}
