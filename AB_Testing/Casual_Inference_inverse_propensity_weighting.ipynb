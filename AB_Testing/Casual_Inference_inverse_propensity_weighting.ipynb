{
 "cells": [
  {
   "cell_type": "markdown",
   "metadata": {},
   "source": [
    "# Introduction"
   ]
  },
  {
   "cell_type": "markdown",
   "metadata": {},
   "source": [
    "<div class=\"alert alert-warning\">\n",
    "<font color=black>\n",
    "\n",
    "**What?** Casual inference: inverse propensity weighting<br>\n",
    "\n",
    "</font>\n",
    "</div>"
   ]
  },
  {
   "cell_type": "markdown",
   "metadata": {},
   "source": [
    "# Import modules"
   ]
  },
  {
   "cell_type": "code",
   "execution_count": 1,
   "metadata": {
    "ExecuteTime": {
     "end_time": "2020-11-07T21:28:40.630483Z",
     "start_time": "2020-11-07T21:28:39.162179Z"
    }
   },
   "outputs": [],
   "source": [
    "import os\n",
    "import time\n",
    "import numpy as np\n",
    "import pandas as pd\n",
    "import seaborn as sns\n",
    "import matplotlib.pyplot as plt\n",
    "import statsmodels.formula.api as smf\n",
    "from joblib import Parallel, delayed\n",
    "from sklearn.compose import ColumnTransformer\n",
    "from sklearn.preprocessing import OneHotEncoder\n",
    "from sklearn.linear_model import LogisticRegression, LinearRegression\n",
    "from sklearn.model_selection import train_test_split\n",
    "# Getting rid of the warning messages\n",
    "import warnings\n",
    "warnings.filterwarnings(\"ignore\")"
   ]
  },
  {
   "cell_type": "markdown",
   "metadata": {},
   "source": [
    "# Inverse Propensity Weighting vs. Matching"
   ]
  },
  {
   "cell_type": "markdown",
   "metadata": {},
   "source": [
    "<div class=\"alert alert-block alert-info\">\n",
    "<font color=black><br>\n",
    "\n",
    "- The purpose of using propensity score is to balance the treatment/control groups on the observed covariates.<br> \n",
    "- The advantage with using weighting is that all individuals/records in our dataset can be leveraged.<br> \n",
    "- This is **different** from matching, where we might be discarding large amount of data in the control group.<br>\n",
    "\n",
    "<br></font>\n",
    "</div>"
   ]
  },
  {
   "cell_type": "markdown",
   "metadata": {},
   "source": [
    "# Load the dataset"
   ]
  },
  {
   "cell_type": "markdown",
   "metadata": {},
   "source": [
    "<div class=\"alert alert-block alert-info\">\n",
    "<font color=black><br>\n",
    "\n",
    "- Dataset [The National Study of Learning Mindsets](https://mindsetscholarsnetwork.org/about-the-network/current-initatives/national-mindset-study/).<br> \n",
    "- The background behind this data is an attempt to find out if instilling students with a growth mindset will improve their overall academic performance.<br> \n",
    "- In this dataset, the academic performance is recorded as a standardized `achievement_score`.<br>\n",
    "- We'll only work with a subset of the columns, feel free to experiment with others.<br>\n",
    "\n",
    "<br></font>\n",
    "</div>"
   ]
  },
  {
   "cell_type": "code",
   "execution_count": 2,
   "metadata": {
    "ExecuteTime": {
     "end_time": "2020-11-07T21:28:40.692041Z",
     "start_time": "2020-11-07T21:28:40.632774Z"
    }
   },
   "outputs": [
    {
     "name": "stdout",
     "output_type": "stream",
     "text": [
      "(10391, 10)\n"
     ]
    },
    {
     "data": {
      "text/html": [
       "<div>\n",
       "<style scoped>\n",
       "    .dataframe tbody tr th:only-of-type {\n",
       "        vertical-align: middle;\n",
       "    }\n",
       "\n",
       "    .dataframe tbody tr th {\n",
       "        vertical-align: top;\n",
       "    }\n",
       "\n",
       "    .dataframe thead th {\n",
       "        text-align: right;\n",
       "    }\n",
       "</style>\n",
       "<table border=\"1\" class=\"dataframe\">\n",
       "  <thead>\n",
       "    <tr style=\"text-align: right;\">\n",
       "      <th></th>\n",
       "      <th>achievement_score</th>\n",
       "      <th>intervention</th>\n",
       "      <th>school_mindset</th>\n",
       "      <th>school_achievement</th>\n",
       "      <th>school_ethnic_minority</th>\n",
       "      <th>school_poverty</th>\n",
       "      <th>school_size</th>\n",
       "      <th>ethnicity</th>\n",
       "      <th>gender</th>\n",
       "      <th>school_urbanicity</th>\n",
       "    </tr>\n",
       "  </thead>\n",
       "  <tbody>\n",
       "    <tr>\n",
       "      <th>0</th>\n",
       "      <td>0.277359</td>\n",
       "      <td>1</td>\n",
       "      <td>0.334544</td>\n",
       "      <td>0.648586</td>\n",
       "      <td>-1.310927</td>\n",
       "      <td>0.224077</td>\n",
       "      <td>-0.426757</td>\n",
       "      <td>4</td>\n",
       "      <td>2</td>\n",
       "      <td>4</td>\n",
       "    </tr>\n",
       "    <tr>\n",
       "      <th>1</th>\n",
       "      <td>-0.449646</td>\n",
       "      <td>1</td>\n",
       "      <td>0.334544</td>\n",
       "      <td>0.648586</td>\n",
       "      <td>-1.310927</td>\n",
       "      <td>0.224077</td>\n",
       "      <td>-0.426757</td>\n",
       "      <td>12</td>\n",
       "      <td>2</td>\n",
       "      <td>4</td>\n",
       "    </tr>\n",
       "    <tr>\n",
       "      <th>2</th>\n",
       "      <td>0.769703</td>\n",
       "      <td>1</td>\n",
       "      <td>0.334544</td>\n",
       "      <td>0.648586</td>\n",
       "      <td>-1.310927</td>\n",
       "      <td>0.224077</td>\n",
       "      <td>-0.426757</td>\n",
       "      <td>4</td>\n",
       "      <td>2</td>\n",
       "      <td>4</td>\n",
       "    </tr>\n",
       "    <tr>\n",
       "      <th>3</th>\n",
       "      <td>-0.121763</td>\n",
       "      <td>1</td>\n",
       "      <td>0.334544</td>\n",
       "      <td>0.648586</td>\n",
       "      <td>-1.310927</td>\n",
       "      <td>0.224077</td>\n",
       "      <td>-0.426757</td>\n",
       "      <td>4</td>\n",
       "      <td>2</td>\n",
       "      <td>4</td>\n",
       "    </tr>\n",
       "    <tr>\n",
       "      <th>4</th>\n",
       "      <td>1.526147</td>\n",
       "      <td>1</td>\n",
       "      <td>0.334544</td>\n",
       "      <td>0.648586</td>\n",
       "      <td>-1.310927</td>\n",
       "      <td>0.224077</td>\n",
       "      <td>-0.426757</td>\n",
       "      <td>4</td>\n",
       "      <td>1</td>\n",
       "      <td>4</td>\n",
       "    </tr>\n",
       "  </tbody>\n",
       "</table>\n",
       "</div>"
      ],
      "text/plain": [
       "   achievement_score  intervention  school_mindset  school_achievement  \\\n",
       "0           0.277359             1        0.334544            0.648586   \n",
       "1          -0.449646             1        0.334544            0.648586   \n",
       "2           0.769703             1        0.334544            0.648586   \n",
       "3          -0.121763             1        0.334544            0.648586   \n",
       "4           1.526147             1        0.334544            0.648586   \n",
       "\n",
       "   school_ethnic_minority  school_poverty  school_size  ethnicity  gender  \\\n",
       "0               -1.310927        0.224077    -0.426757          4       2   \n",
       "1               -1.310927        0.224077    -0.426757         12       2   \n",
       "2               -1.310927        0.224077    -0.426757          4       2   \n",
       "3               -1.310927        0.224077    -0.426757          4       2   \n",
       "4               -1.310927        0.224077    -0.426757          4       1   \n",
       "\n",
       "   school_urbanicity  \n",
       "0                  4  \n",
       "1                  4  \n",
       "2                  4  \n",
       "3                  4  \n",
       "4                  4  "
      ]
     },
     "execution_count": 2,
     "metadata": {},
     "output_type": "execute_result"
    }
   ],
   "source": [
    "cat_cols = ['ethnicity', 'gender', 'school_urbanicity']\n",
    "num_cols = ['school_mindset', 'school_achievement', 'school_ethnic_minority', 'school_poverty', 'school_size']\n",
    "treatment_col = 'intervention'\n",
    "label_col = 'achievement_score'\n",
    "\n",
    "use_cols = [label_col, treatment_col] + num_cols + cat_cols\n",
    "df = pd.read_csv('../DATASETS/learning_mindset.csv', usecols=use_cols)[use_cols]\n",
    "print(df.shape)\n",
    "df.head()"
   ]
  },
  {
   "cell_type": "markdown",
   "metadata": {},
   "source": [
    "<div class=\"alert alert-block alert-info\">\n",
    "<font color=black><br>\n",
    "\n",
    "- Our data will be fed into a logistic regression in the next section.\n",
    "- Here we one hot encode the categorical variables. \n",
    "- As the numeric features are already standardized, we leave them as is.\n",
    "\n",
    "<br></font>\n",
    "</div>"
   ]
  },
  {
   "cell_type": "code",
   "execution_count": 3,
   "metadata": {
    "ExecuteTime": {
     "end_time": "2020-11-07T21:28:40.738146Z",
     "start_time": "2020-11-07T21:28:40.697579Z"
    }
   },
   "outputs": [
    {
     "data": {
      "text/plain": [
       "ColumnTransformer(remainder='passthrough', sparse_threshold=0,\n",
       "                  transformers=[('one_hot',\n",
       "                                 OneHotEncoder(dtype=<class 'numpy.int32'>,\n",
       "                                               handle_unknown='ignore',\n",
       "                                               sparse=False),\n",
       "                                 ['ethnicity', 'gender', 'school_urbanicity'])])"
      ]
     },
     "execution_count": 3,
     "metadata": {},
     "output_type": "execute_result"
    }
   ],
   "source": [
    "one_hot_encoder = OneHotEncoder(handle_unknown='ignore', sparse=False, dtype=np.int32)\n",
    "column_transformer = ColumnTransformer(\n",
    "    transformers = [\n",
    "        ('one_hot', one_hot_encoder, cat_cols)\n",
    "    ],\n",
    "    sparse_threshold=0,\n",
    "    remainder='passthrough'\n",
    ")\n",
    "column_transformer.fit(df)"
   ]
  },
  {
   "cell_type": "code",
   "execution_count": 4,
   "metadata": {
    "ExecuteTime": {
     "end_time": "2020-11-07T21:28:40.788880Z",
     "start_time": "2020-11-07T21:28:40.740131Z"
    }
   },
   "outputs": [
    {
     "name": "stdout",
     "output_type": "stream",
     "text": [
      "(10391, 29)\n"
     ]
    },
    {
     "data": {
      "text/html": [
       "<div>\n",
       "<style scoped>\n",
       "    .dataframe tbody tr th:only-of-type {\n",
       "        vertical-align: middle;\n",
       "    }\n",
       "\n",
       "    .dataframe tbody tr th {\n",
       "        vertical-align: top;\n",
       "    }\n",
       "\n",
       "    .dataframe thead th {\n",
       "        text-align: right;\n",
       "    }\n",
       "</style>\n",
       "<table border=\"1\" class=\"dataframe\">\n",
       "  <thead>\n",
       "    <tr style=\"text-align: right;\">\n",
       "      <th></th>\n",
       "      <th>ethnicity_1</th>\n",
       "      <th>ethnicity_2</th>\n",
       "      <th>ethnicity_3</th>\n",
       "      <th>ethnicity_4</th>\n",
       "      <th>ethnicity_5</th>\n",
       "      <th>ethnicity_6</th>\n",
       "      <th>ethnicity_7</th>\n",
       "      <th>ethnicity_8</th>\n",
       "      <th>ethnicity_9</th>\n",
       "      <th>ethnicity_10</th>\n",
       "      <th>...</th>\n",
       "      <th>school_urbanicity_2</th>\n",
       "      <th>school_urbanicity_3</th>\n",
       "      <th>school_urbanicity_4</th>\n",
       "      <th>achievement_score</th>\n",
       "      <th>intervention</th>\n",
       "      <th>school_mindset</th>\n",
       "      <th>school_achievement</th>\n",
       "      <th>school_ethnic_minority</th>\n",
       "      <th>school_poverty</th>\n",
       "      <th>school_size</th>\n",
       "    </tr>\n",
       "  </thead>\n",
       "  <tbody>\n",
       "    <tr>\n",
       "      <th>0</th>\n",
       "      <td>0.0</td>\n",
       "      <td>0.0</td>\n",
       "      <td>0.0</td>\n",
       "      <td>1.0</td>\n",
       "      <td>0.0</td>\n",
       "      <td>0.0</td>\n",
       "      <td>0.0</td>\n",
       "      <td>0.0</td>\n",
       "      <td>0.0</td>\n",
       "      <td>0.0</td>\n",
       "      <td>...</td>\n",
       "      <td>0.0</td>\n",
       "      <td>0.0</td>\n",
       "      <td>1.0</td>\n",
       "      <td>0.277359</td>\n",
       "      <td>1.0</td>\n",
       "      <td>0.334544</td>\n",
       "      <td>0.648586</td>\n",
       "      <td>-1.310927</td>\n",
       "      <td>0.224077</td>\n",
       "      <td>-0.426757</td>\n",
       "    </tr>\n",
       "    <tr>\n",
       "      <th>1</th>\n",
       "      <td>0.0</td>\n",
       "      <td>0.0</td>\n",
       "      <td>0.0</td>\n",
       "      <td>0.0</td>\n",
       "      <td>0.0</td>\n",
       "      <td>0.0</td>\n",
       "      <td>0.0</td>\n",
       "      <td>0.0</td>\n",
       "      <td>0.0</td>\n",
       "      <td>0.0</td>\n",
       "      <td>...</td>\n",
       "      <td>0.0</td>\n",
       "      <td>0.0</td>\n",
       "      <td>1.0</td>\n",
       "      <td>-0.449646</td>\n",
       "      <td>1.0</td>\n",
       "      <td>0.334544</td>\n",
       "      <td>0.648586</td>\n",
       "      <td>-1.310927</td>\n",
       "      <td>0.224077</td>\n",
       "      <td>-0.426757</td>\n",
       "    </tr>\n",
       "    <tr>\n",
       "      <th>2</th>\n",
       "      <td>0.0</td>\n",
       "      <td>0.0</td>\n",
       "      <td>0.0</td>\n",
       "      <td>1.0</td>\n",
       "      <td>0.0</td>\n",
       "      <td>0.0</td>\n",
       "      <td>0.0</td>\n",
       "      <td>0.0</td>\n",
       "      <td>0.0</td>\n",
       "      <td>0.0</td>\n",
       "      <td>...</td>\n",
       "      <td>0.0</td>\n",
       "      <td>0.0</td>\n",
       "      <td>1.0</td>\n",
       "      <td>0.769703</td>\n",
       "      <td>1.0</td>\n",
       "      <td>0.334544</td>\n",
       "      <td>0.648586</td>\n",
       "      <td>-1.310927</td>\n",
       "      <td>0.224077</td>\n",
       "      <td>-0.426757</td>\n",
       "    </tr>\n",
       "    <tr>\n",
       "      <th>3</th>\n",
       "      <td>0.0</td>\n",
       "      <td>0.0</td>\n",
       "      <td>0.0</td>\n",
       "      <td>1.0</td>\n",
       "      <td>0.0</td>\n",
       "      <td>0.0</td>\n",
       "      <td>0.0</td>\n",
       "      <td>0.0</td>\n",
       "      <td>0.0</td>\n",
       "      <td>0.0</td>\n",
       "      <td>...</td>\n",
       "      <td>0.0</td>\n",
       "      <td>0.0</td>\n",
       "      <td>1.0</td>\n",
       "      <td>-0.121763</td>\n",
       "      <td>1.0</td>\n",
       "      <td>0.334544</td>\n",
       "      <td>0.648586</td>\n",
       "      <td>-1.310927</td>\n",
       "      <td>0.224077</td>\n",
       "      <td>-0.426757</td>\n",
       "    </tr>\n",
       "    <tr>\n",
       "      <th>4</th>\n",
       "      <td>0.0</td>\n",
       "      <td>0.0</td>\n",
       "      <td>0.0</td>\n",
       "      <td>1.0</td>\n",
       "      <td>0.0</td>\n",
       "      <td>0.0</td>\n",
       "      <td>0.0</td>\n",
       "      <td>0.0</td>\n",
       "      <td>0.0</td>\n",
       "      <td>0.0</td>\n",
       "      <td>...</td>\n",
       "      <td>0.0</td>\n",
       "      <td>0.0</td>\n",
       "      <td>1.0</td>\n",
       "      <td>1.526147</td>\n",
       "      <td>1.0</td>\n",
       "      <td>0.334544</td>\n",
       "      <td>0.648586</td>\n",
       "      <td>-1.310927</td>\n",
       "      <td>0.224077</td>\n",
       "      <td>-0.426757</td>\n",
       "    </tr>\n",
       "    <tr>\n",
       "      <th>...</th>\n",
       "      <td>...</td>\n",
       "      <td>...</td>\n",
       "      <td>...</td>\n",
       "      <td>...</td>\n",
       "      <td>...</td>\n",
       "      <td>...</td>\n",
       "      <td>...</td>\n",
       "      <td>...</td>\n",
       "      <td>...</td>\n",
       "      <td>...</td>\n",
       "      <td>...</td>\n",
       "      <td>...</td>\n",
       "      <td>...</td>\n",
       "      <td>...</td>\n",
       "      <td>...</td>\n",
       "      <td>...</td>\n",
       "      <td>...</td>\n",
       "      <td>...</td>\n",
       "      <td>...</td>\n",
       "      <td>...</td>\n",
       "      <td>...</td>\n",
       "    </tr>\n",
       "    <tr>\n",
       "      <th>10386</th>\n",
       "      <td>0.0</td>\n",
       "      <td>0.0</td>\n",
       "      <td>0.0</td>\n",
       "      <td>1.0</td>\n",
       "      <td>0.0</td>\n",
       "      <td>0.0</td>\n",
       "      <td>0.0</td>\n",
       "      <td>0.0</td>\n",
       "      <td>0.0</td>\n",
       "      <td>0.0</td>\n",
       "      <td>...</td>\n",
       "      <td>0.0</td>\n",
       "      <td>1.0</td>\n",
       "      <td>0.0</td>\n",
       "      <td>0.808867</td>\n",
       "      <td>0.0</td>\n",
       "      <td>1.185986</td>\n",
       "      <td>-1.129889</td>\n",
       "      <td>1.009875</td>\n",
       "      <td>1.005063</td>\n",
       "      <td>-1.174702</td>\n",
       "    </tr>\n",
       "    <tr>\n",
       "      <th>10387</th>\n",
       "      <td>0.0</td>\n",
       "      <td>0.0</td>\n",
       "      <td>0.0</td>\n",
       "      <td>1.0</td>\n",
       "      <td>0.0</td>\n",
       "      <td>0.0</td>\n",
       "      <td>0.0</td>\n",
       "      <td>0.0</td>\n",
       "      <td>0.0</td>\n",
       "      <td>0.0</td>\n",
       "      <td>...</td>\n",
       "      <td>0.0</td>\n",
       "      <td>1.0</td>\n",
       "      <td>0.0</td>\n",
       "      <td>-0.156063</td>\n",
       "      <td>0.0</td>\n",
       "      <td>1.185986</td>\n",
       "      <td>-1.129889</td>\n",
       "      <td>1.009875</td>\n",
       "      <td>1.005063</td>\n",
       "      <td>-1.174702</td>\n",
       "    </tr>\n",
       "    <tr>\n",
       "      <th>10388</th>\n",
       "      <td>0.0</td>\n",
       "      <td>0.0</td>\n",
       "      <td>0.0</td>\n",
       "      <td>0.0</td>\n",
       "      <td>0.0</td>\n",
       "      <td>0.0</td>\n",
       "      <td>0.0</td>\n",
       "      <td>0.0</td>\n",
       "      <td>0.0</td>\n",
       "      <td>0.0</td>\n",
       "      <td>...</td>\n",
       "      <td>0.0</td>\n",
       "      <td>1.0</td>\n",
       "      <td>0.0</td>\n",
       "      <td>0.370820</td>\n",
       "      <td>0.0</td>\n",
       "      <td>1.185986</td>\n",
       "      <td>-1.129889</td>\n",
       "      <td>1.009875</td>\n",
       "      <td>1.005063</td>\n",
       "      <td>-1.174702</td>\n",
       "    </tr>\n",
       "    <tr>\n",
       "      <th>10389</th>\n",
       "      <td>0.0</td>\n",
       "      <td>0.0</td>\n",
       "      <td>0.0</td>\n",
       "      <td>1.0</td>\n",
       "      <td>0.0</td>\n",
       "      <td>0.0</td>\n",
       "      <td>0.0</td>\n",
       "      <td>0.0</td>\n",
       "      <td>0.0</td>\n",
       "      <td>0.0</td>\n",
       "      <td>...</td>\n",
       "      <td>0.0</td>\n",
       "      <td>1.0</td>\n",
       "      <td>0.0</td>\n",
       "      <td>-0.396297</td>\n",
       "      <td>0.0</td>\n",
       "      <td>1.185986</td>\n",
       "      <td>-1.129889</td>\n",
       "      <td>1.009875</td>\n",
       "      <td>1.005063</td>\n",
       "      <td>-1.174702</td>\n",
       "    </tr>\n",
       "    <tr>\n",
       "      <th>10390</th>\n",
       "      <td>1.0</td>\n",
       "      <td>0.0</td>\n",
       "      <td>0.0</td>\n",
       "      <td>0.0</td>\n",
       "      <td>0.0</td>\n",
       "      <td>0.0</td>\n",
       "      <td>0.0</td>\n",
       "      <td>0.0</td>\n",
       "      <td>0.0</td>\n",
       "      <td>0.0</td>\n",
       "      <td>...</td>\n",
       "      <td>0.0</td>\n",
       "      <td>1.0</td>\n",
       "      <td>0.0</td>\n",
       "      <td>0.478970</td>\n",
       "      <td>0.0</td>\n",
       "      <td>1.185986</td>\n",
       "      <td>-1.129889</td>\n",
       "      <td>1.009875</td>\n",
       "      <td>1.005063</td>\n",
       "      <td>-1.174702</td>\n",
       "    </tr>\n",
       "  </tbody>\n",
       "</table>\n",
       "<p>10391 rows × 29 columns</p>\n",
       "</div>"
      ],
      "text/plain": [
       "       ethnicity_1  ethnicity_2  ethnicity_3  ethnicity_4  ethnicity_5  \\\n",
       "0              0.0          0.0          0.0          1.0          0.0   \n",
       "1              0.0          0.0          0.0          0.0          0.0   \n",
       "2              0.0          0.0          0.0          1.0          0.0   \n",
       "3              0.0          0.0          0.0          1.0          0.0   \n",
       "4              0.0          0.0          0.0          1.0          0.0   \n",
       "...            ...          ...          ...          ...          ...   \n",
       "10386          0.0          0.0          0.0          1.0          0.0   \n",
       "10387          0.0          0.0          0.0          1.0          0.0   \n",
       "10388          0.0          0.0          0.0          0.0          0.0   \n",
       "10389          0.0          0.0          0.0          1.0          0.0   \n",
       "10390          1.0          0.0          0.0          0.0          0.0   \n",
       "\n",
       "       ethnicity_6  ethnicity_7  ethnicity_8  ethnicity_9  ethnicity_10  ...  \\\n",
       "0              0.0          0.0          0.0          0.0           0.0  ...   \n",
       "1              0.0          0.0          0.0          0.0           0.0  ...   \n",
       "2              0.0          0.0          0.0          0.0           0.0  ...   \n",
       "3              0.0          0.0          0.0          0.0           0.0  ...   \n",
       "4              0.0          0.0          0.0          0.0           0.0  ...   \n",
       "...            ...          ...          ...          ...           ...  ...   \n",
       "10386          0.0          0.0          0.0          0.0           0.0  ...   \n",
       "10387          0.0          0.0          0.0          0.0           0.0  ...   \n",
       "10388          0.0          0.0          0.0          0.0           0.0  ...   \n",
       "10389          0.0          0.0          0.0          0.0           0.0  ...   \n",
       "10390          0.0          0.0          0.0          0.0           0.0  ...   \n",
       "\n",
       "       school_urbanicity_2  school_urbanicity_3  school_urbanicity_4  \\\n",
       "0                      0.0                  0.0                  1.0   \n",
       "1                      0.0                  0.0                  1.0   \n",
       "2                      0.0                  0.0                  1.0   \n",
       "3                      0.0                  0.0                  1.0   \n",
       "4                      0.0                  0.0                  1.0   \n",
       "...                    ...                  ...                  ...   \n",
       "10386                  0.0                  1.0                  0.0   \n",
       "10387                  0.0                  1.0                  0.0   \n",
       "10388                  0.0                  1.0                  0.0   \n",
       "10389                  0.0                  1.0                  0.0   \n",
       "10390                  0.0                  1.0                  0.0   \n",
       "\n",
       "       achievement_score  intervention  school_mindset  school_achievement  \\\n",
       "0               0.277359           1.0        0.334544            0.648586   \n",
       "1              -0.449646           1.0        0.334544            0.648586   \n",
       "2               0.769703           1.0        0.334544            0.648586   \n",
       "3              -0.121763           1.0        0.334544            0.648586   \n",
       "4               1.526147           1.0        0.334544            0.648586   \n",
       "...                  ...           ...             ...                 ...   \n",
       "10386           0.808867           0.0        1.185986           -1.129889   \n",
       "10387          -0.156063           0.0        1.185986           -1.129889   \n",
       "10388           0.370820           0.0        1.185986           -1.129889   \n",
       "10389          -0.396297           0.0        1.185986           -1.129889   \n",
       "10390           0.478970           0.0        1.185986           -1.129889   \n",
       "\n",
       "       school_ethnic_minority  school_poverty  school_size  \n",
       "0                   -1.310927        0.224077    -0.426757  \n",
       "1                   -1.310927        0.224077    -0.426757  \n",
       "2                   -1.310927        0.224077    -0.426757  \n",
       "3                   -1.310927        0.224077    -0.426757  \n",
       "4                   -1.310927        0.224077    -0.426757  \n",
       "...                       ...             ...          ...  \n",
       "10386                1.009875        1.005063    -1.174702  \n",
       "10387                1.009875        1.005063    -1.174702  \n",
       "10388                1.009875        1.005063    -1.174702  \n",
       "10389                1.009875        1.005063    -1.174702  \n",
       "10390                1.009875        1.005063    -1.174702  \n",
       "\n",
       "[10391 rows x 29 columns]"
      ]
     },
     "execution_count": 4,
     "metadata": {},
     "output_type": "execute_result"
    }
   ],
   "source": [
    "one_hot_encoder = column_transformer.named_transformers_['one_hot']\n",
    "one_hot_encoded_cols = one_hot_encoder.get_feature_names(cat_cols).tolist()\n",
    "columns = one_hot_encoded_cols + [label_col, treatment_col] + num_cols\n",
    "\n",
    "df = pd.DataFrame(column_transformer.transform(df), columns=columns)\n",
    "print(df.shape)\n",
    "df"
   ]
  },
  {
   "cell_type": "markdown",
   "metadata": {},
   "source": [
    "# Outcome Analysis"
   ]
  },
  {
   "cell_type": "markdown",
   "metadata": {},
   "source": [
    "<div class=\"alert alert-block alert-info\">\n",
    "<font color=black><br>\n",
    "\n",
    "- It's often times useful to establish some baseline.<br>\n",
    "- Here, we would like to gauge what would the result look like if we **don't** use propensity score weighting to control for potential biases with assignment of individuals to the control and treatment group.<br>\n",
    "\n",
    "<br></font>\n",
    "</div>"
   ]
  },
  {
   "cell_type": "code",
   "execution_count": 5,
   "metadata": {
    "ExecuteTime": {
     "end_time": "2020-11-07T21:28:41.340665Z",
     "start_time": "2020-11-07T21:28:40.791260Z"
    }
   },
   "outputs": [
    {
     "data": {
      "image/png": "[encoded data removed]",
      "text/plain": [
       "<Figure size 576x432 with 1 Axes>"
      ]
     },
     "metadata": {
      "needs_background": "light"
     },
     "output_type": "display_data"
    }
   ],
   "source": [
    "# change default style figure and font size\n",
    "plt.rcParams['figure.figsize'] = 8, 6\n",
    "plt.rcParams['font.size'] = 12\n",
    "\n",
    "# we can check the histogram of our label between the treatment and control\n",
    "plt.hist(df.loc[df[treatment_col] == 0.0, label_col], bins=20, alpha=0.3, label='control')\n",
    "plt.hist(df.loc[df[treatment_col] == 1.0, label_col], bins=20, alpha=0.3, label='treatment')\n",
    "plt.legend()\n",
    "plt.show()"
   ]
  },
  {
   "cell_type": "code",
   "execution_count": 6,
   "metadata": {
    "ExecuteTime": {
     "end_time": "2020-11-07T21:28:41.372449Z",
     "start_time": "2020-11-07T21:28:41.342273Z"
    }
   },
   "outputs": [
    {
     "name": "stdout",
     "output_type": "stream",
     "text": [
      "-0.15380303423613792 [0.47227167]\n"
     ]
    }
   ],
   "source": [
    "# fitting a linear regression to estimate the outcome\n",
    "linear = LinearRegression()\n",
    "linear.fit(df[[treatment_col]], df[label_col])\n",
    "print(linear.intercept_, linear.coef_)"
   ]
  },
  {
   "cell_type": "code",
   "execution_count": 7,
   "metadata": {
    "ExecuteTime": {
     "end_time": "2020-11-07T21:28:41.430110Z",
     "start_time": "2020-11-07T21:28:41.374713Z"
    }
   },
   "outputs": [
    {
     "data": {
      "text/html": [
       "<table class=\"simpletable\">\n",
       "<tr>\n",
       "        <td></td>          <th>coef</th>     <th>std err</th>      <th>t</th>      <th>P>|t|</th>  <th>[0.025</th>    <th>0.975]</th>  \n",
       "</tr>\n",
       "<tr>\n",
       "  <th>Intercept</th>    <td>   -0.1538</td> <td>    0.012</td> <td>  -13.201</td> <td> 0.000</td> <td>   -0.177</td> <td>   -0.131</td>\n",
       "</tr>\n",
       "<tr>\n",
       "  <th>intervention</th> <td>    0.4723</td> <td>    0.020</td> <td>   23.133</td> <td> 0.000</td> <td>    0.432</td> <td>    0.512</td>\n",
       "</tr>\n",
       "</table>"
      ],
      "text/plain": [
       "<class 'statsmodels.iolib.table.SimpleTable'>"
      ]
     },
     "execution_count": 7,
     "metadata": {},
     "output_type": "execute_result"
    }
   ],
   "source": [
    "smf.ols(f'{label_col} ~ {treatment_col}', data=df).fit().summary().tables[1]"
   ]
  },
  {
   "cell_type": "markdown",
   "metadata": {},
   "source": [
    "<div class=\"alert alert-block alert-info\">\n",
    "<font color=black><br>\n",
    "\n",
    "- By blindly comparing individuals with and without the intervention, we can see that, on average, those in the treatment group achieved a achievement score 0.4723 higher than the control. \n",
    "- Be aware that in this dataset is score was standardized, i.e. it means the treated is 0.4723 standard deviation higher than the untreated.\n",
    "- Upon establishing the baseline, our next task is to question these numbers. \n",
    "\n",
    "<br></font>\n",
    "</div>"
   ]
  },
  {
   "cell_type": "markdown",
   "metadata": {},
   "source": [
    "# Propensity Score Estimation"
   ]
  },
  {
   "cell_type": "markdown",
   "metadata": {},
   "source": [
    "<div class=\"alert alert-block alert-info\">\n",
    "<font color=black><br>\n",
    "\n",
    "- The idea behind propensity score is we don't need to directly control for our confounders $X$ to achieve conditional independence $(Y^1,Y^0) \\perp T \\text{ | } X$. Hence, $Y^1$ denotes the outcome if treatment, $T$, was applied, whereas $Y^0$ measures the outcome if individual was under the control group.\n",
    "- Instead, it is sufficient to control for a single variable, propensity score, $P(x)$, which is the conditional probability of the treatment, $P(T|X)$. Or in notations form, with our propensity score, we now have $(Y^1,Y^0) \\perp T \\text{ | } P(X)$.\n",
    "- Here, we'll use a logistic regression to estimate our propensity score. \n",
    "- Feel free to use other classification techniques. \n",
    "\n",
    "<br></font>\n",
    "</div>"
   ]
  },
  {
   "cell_type": "code",
   "execution_count": 8,
   "metadata": {
    "ExecuteTime": {
     "end_time": "2020-11-07T21:28:41.579213Z",
     "start_time": "2020-11-07T21:28:41.433543Z"
    }
   },
   "outputs": [
    {
     "name": "stdout",
     "output_type": "stream",
     "text": [
      "(10391, 30)\n"
     ]
    },
    {
     "data": {
      "text/html": [
       "<div>\n",
       "<style scoped>\n",
       "    .dataframe tbody tr th:only-of-type {\n",
       "        vertical-align: middle;\n",
       "    }\n",
       "\n",
       "    .dataframe tbody tr th {\n",
       "        vertical-align: top;\n",
       "    }\n",
       "\n",
       "    .dataframe thead th {\n",
       "        text-align: right;\n",
       "    }\n",
       "</style>\n",
       "<table border=\"1\" class=\"dataframe\">\n",
       "  <thead>\n",
       "    <tr style=\"text-align: right;\">\n",
       "      <th></th>\n",
       "      <th>ethnicity_1</th>\n",
       "      <th>ethnicity_2</th>\n",
       "      <th>ethnicity_3</th>\n",
       "      <th>ethnicity_4</th>\n",
       "      <th>ethnicity_5</th>\n",
       "      <th>ethnicity_6</th>\n",
       "      <th>ethnicity_7</th>\n",
       "      <th>ethnicity_8</th>\n",
       "      <th>ethnicity_9</th>\n",
       "      <th>ethnicity_10</th>\n",
       "      <th>...</th>\n",
       "      <th>school_urbanicity_3</th>\n",
       "      <th>school_urbanicity_4</th>\n",
       "      <th>achievement_score</th>\n",
       "      <th>intervention</th>\n",
       "      <th>school_mindset</th>\n",
       "      <th>school_achievement</th>\n",
       "      <th>school_ethnic_minority</th>\n",
       "      <th>school_poverty</th>\n",
       "      <th>school_size</th>\n",
       "      <th>propensity_score</th>\n",
       "    </tr>\n",
       "  </thead>\n",
       "  <tbody>\n",
       "    <tr>\n",
       "      <th>0</th>\n",
       "      <td>0.0</td>\n",
       "      <td>0.0</td>\n",
       "      <td>0.0</td>\n",
       "      <td>1.0</td>\n",
       "      <td>0.0</td>\n",
       "      <td>0.0</td>\n",
       "      <td>0.0</td>\n",
       "      <td>0.0</td>\n",
       "      <td>0.0</td>\n",
       "      <td>0.0</td>\n",
       "      <td>...</td>\n",
       "      <td>0.0</td>\n",
       "      <td>1.0</td>\n",
       "      <td>0.277359</td>\n",
       "      <td>1.0</td>\n",
       "      <td>0.334544</td>\n",
       "      <td>0.648586</td>\n",
       "      <td>-1.310927</td>\n",
       "      <td>0.224077</td>\n",
       "      <td>-0.426757</td>\n",
       "      <td>0.313030</td>\n",
       "    </tr>\n",
       "    <tr>\n",
       "      <th>1</th>\n",
       "      <td>0.0</td>\n",
       "      <td>0.0</td>\n",
       "      <td>0.0</td>\n",
       "      <td>0.0</td>\n",
       "      <td>0.0</td>\n",
       "      <td>0.0</td>\n",
       "      <td>0.0</td>\n",
       "      <td>0.0</td>\n",
       "      <td>0.0</td>\n",
       "      <td>0.0</td>\n",
       "      <td>...</td>\n",
       "      <td>0.0</td>\n",
       "      <td>1.0</td>\n",
       "      <td>-0.449646</td>\n",
       "      <td>1.0</td>\n",
       "      <td>0.334544</td>\n",
       "      <td>0.648586</td>\n",
       "      <td>-1.310927</td>\n",
       "      <td>0.224077</td>\n",
       "      <td>-0.426757</td>\n",
       "      <td>0.294726</td>\n",
       "    </tr>\n",
       "    <tr>\n",
       "      <th>2</th>\n",
       "      <td>0.0</td>\n",
       "      <td>0.0</td>\n",
       "      <td>0.0</td>\n",
       "      <td>1.0</td>\n",
       "      <td>0.0</td>\n",
       "      <td>0.0</td>\n",
       "      <td>0.0</td>\n",
       "      <td>0.0</td>\n",
       "      <td>0.0</td>\n",
       "      <td>0.0</td>\n",
       "      <td>...</td>\n",
       "      <td>0.0</td>\n",
       "      <td>1.0</td>\n",
       "      <td>0.769703</td>\n",
       "      <td>1.0</td>\n",
       "      <td>0.334544</td>\n",
       "      <td>0.648586</td>\n",
       "      <td>-1.310927</td>\n",
       "      <td>0.224077</td>\n",
       "      <td>-0.426757</td>\n",
       "      <td>0.313030</td>\n",
       "    </tr>\n",
       "    <tr>\n",
       "      <th>3</th>\n",
       "      <td>0.0</td>\n",
       "      <td>0.0</td>\n",
       "      <td>0.0</td>\n",
       "      <td>1.0</td>\n",
       "      <td>0.0</td>\n",
       "      <td>0.0</td>\n",
       "      <td>0.0</td>\n",
       "      <td>0.0</td>\n",
       "      <td>0.0</td>\n",
       "      <td>0.0</td>\n",
       "      <td>...</td>\n",
       "      <td>0.0</td>\n",
       "      <td>1.0</td>\n",
       "      <td>-0.121763</td>\n",
       "      <td>1.0</td>\n",
       "      <td>0.334544</td>\n",
       "      <td>0.648586</td>\n",
       "      <td>-1.310927</td>\n",
       "      <td>0.224077</td>\n",
       "      <td>-0.426757</td>\n",
       "      <td>0.313030</td>\n",
       "    </tr>\n",
       "    <tr>\n",
       "      <th>4</th>\n",
       "      <td>0.0</td>\n",
       "      <td>0.0</td>\n",
       "      <td>0.0</td>\n",
       "      <td>1.0</td>\n",
       "      <td>0.0</td>\n",
       "      <td>0.0</td>\n",
       "      <td>0.0</td>\n",
       "      <td>0.0</td>\n",
       "      <td>0.0</td>\n",
       "      <td>0.0</td>\n",
       "      <td>...</td>\n",
       "      <td>0.0</td>\n",
       "      <td>1.0</td>\n",
       "      <td>1.526147</td>\n",
       "      <td>1.0</td>\n",
       "      <td>0.334544</td>\n",
       "      <td>0.648586</td>\n",
       "      <td>-1.310927</td>\n",
       "      <td>0.224077</td>\n",
       "      <td>-0.426757</td>\n",
       "      <td>0.338112</td>\n",
       "    </tr>\n",
       "  </tbody>\n",
       "</table>\n",
       "<p>5 rows × 30 columns</p>\n",
       "</div>"
      ],
      "text/plain": [
       "   ethnicity_1  ethnicity_2  ethnicity_3  ethnicity_4  ethnicity_5  \\\n",
       "0          0.0          0.0          0.0          1.0          0.0   \n",
       "1          0.0          0.0          0.0          0.0          0.0   \n",
       "2          0.0          0.0          0.0          1.0          0.0   \n",
       "3          0.0          0.0          0.0          1.0          0.0   \n",
       "4          0.0          0.0          0.0          1.0          0.0   \n",
       "\n",
       "   ethnicity_6  ethnicity_7  ethnicity_8  ethnicity_9  ethnicity_10  ...  \\\n",
       "0          0.0          0.0          0.0          0.0           0.0  ...   \n",
       "1          0.0          0.0          0.0          0.0           0.0  ...   \n",
       "2          0.0          0.0          0.0          0.0           0.0  ...   \n",
       "3          0.0          0.0          0.0          0.0           0.0  ...   \n",
       "4          0.0          0.0          0.0          0.0           0.0  ...   \n",
       "\n",
       "   school_urbanicity_3  school_urbanicity_4  achievement_score  intervention  \\\n",
       "0                  0.0                  1.0           0.277359           1.0   \n",
       "1                  0.0                  1.0          -0.449646           1.0   \n",
       "2                  0.0                  1.0           0.769703           1.0   \n",
       "3                  0.0                  1.0          -0.121763           1.0   \n",
       "4                  0.0                  1.0           1.526147           1.0   \n",
       "\n",
       "   school_mindset  school_achievement  school_ethnic_minority  school_poverty  \\\n",
       "0        0.334544            0.648586               -1.310927        0.224077   \n",
       "1        0.334544            0.648586               -1.310927        0.224077   \n",
       "2        0.334544            0.648586               -1.310927        0.224077   \n",
       "3        0.334544            0.648586               -1.310927        0.224077   \n",
       "4        0.334544            0.648586               -1.310927        0.224077   \n",
       "\n",
       "   school_size  propensity_score  \n",
       "0    -0.426757          0.313030  \n",
       "1    -0.426757          0.294726  \n",
       "2    -0.426757          0.313030  \n",
       "3    -0.426757          0.313030  \n",
       "4    -0.426757          0.338112  \n",
       "\n",
       "[5 rows x 30 columns]"
      ]
     },
     "execution_count": 8,
     "metadata": {},
     "output_type": "execute_result"
    }
   ],
   "source": [
    "input_cols = one_hot_encoded_cols + num_cols\n",
    "\n",
    "logistic = LogisticRegression()\n",
    "logistic.fit(df[input_cols], df[treatment_col])\n",
    "\n",
    "propensity_score = 'propensity_score'\n",
    "df[propensity_score] = logistic.predict_proba(df[input_cols])[:, 1]\n",
    "print(df.shape)\n",
    "df.head()"
   ]
  },
  {
   "cell_type": "markdown",
   "metadata": {},
   "source": [
    "<div class=\"alert alert-block alert-info\">\n",
    "<font color=black><br>\n",
    "\n",
    "- It's important to check for score overlap between the treated and untreated population. \n",
    "- Looking at the distribution plot below, we can find both treated and untreated individuals in different regions.\n",
    "- In this case, we have a balanced dataset and our positivity assumption holds true. \n",
    "- Remember positivity refers to the scenario where all of the individuals have at least some chance of receiving either treatment and that appears to be the case here. \n",
    "- In summary, this would be a situation where we would feel comfortable to proceed with our propensity score matching.\n",
    "- Note that if we encounter a situation where the propensity score between the treatment and control does not overlap, then we should stop and better construct the prediction that controls for confounding, or in much simpler terms, see if we are missing any important features in our propensity score model. \n",
    "- This requires domain knowledge of the data that we are working with. Failing to check for positivity and lack of balance can introduce bias in our estimation as we will be extrapolating the effect to unknown regions.\n",
    "\n",
    "<br></font>\n",
    "</div>"
   ]
  },
  {
   "cell_type": "code",
   "execution_count": 9,
   "metadata": {
    "ExecuteTime": {
     "end_time": "2020-11-07T21:28:42.435174Z",
     "start_time": "2020-11-07T21:28:41.582092Z"
    }
   },
   "outputs": [
    {
     "data": {
      "image/png": "[encoded data removed]",
      "text/plain": [
       "<Figure size 576x432 with 1 Axes>"
      ]
     },
     "metadata": {
      "needs_background": "light"
     },
     "output_type": "display_data"
    }
   ],
   "source": [
    "control_score = df.loc[df[treatment_col] == 0.0, propensity_score]\n",
    "treatment_score = df.loc[df[treatment_col] == 1.0, propensity_score]\n",
    "\n",
    "sns.distplot(control_score, label='control')\n",
    "sns.distplot(treatment_score, label='treatment')\n",
    "plt.title('Propensity Score Distribution of Control vs Treatment')\n",
    "plt.ylabel('Density')\n",
    "plt.xlabel('Scores')\n",
    "plt.legend()\n",
    "plt.tight_layout()\n",
    "plt.show()"
   ]
  },
  {
   "cell_type": "markdown",
   "metadata": {},
   "source": [
    "# Outcome Analysis with Inverse Propensity Score Weighting"
   ]
  },
  {
   "cell_type": "markdown",
   "metadata": {},
   "source": [
    "<div class=\"alert alert-block alert-info\">\n",
    "<font color=black><br>\n",
    "\n",
    "- The final step in our analysis is to run our outcome model using the propensity score as weights, i.e. fit a weighted regression.\n",
    "- In order to use our propensity score as weights, we will need to apply some transformation known as **Inverse Propensity Weighting (IPW)**. \n",
    "- For individuals in the treatment group, $w = \\frac{1}{P(x)}$, whereas for individuals in the control group, $w = \\frac{1}{1 - P(x)}$.\n",
    "- To understand why applying inverse propensity weighting helps us de-bias our potentially biased data. \n",
    "- Say in the data we collected there are 200 records from group A and 2000 records from group B, to \"balance\" our dataset, we would like to \"up-weight\" the records from group A and \"down-weight\" the records from group B. If we were to weight each records in both groups by number of inverse records, $1 / 200$ for group A, and $1 / 2000$ for group B, we would end up with effectively 1 record on both group.\n",
    "- Coming back to our example, we are taking all the individuals that are in the treatment group and scaling them with the inverse propensity of being treated $w = \\frac{1}{P(x)}$. What this effectively does is it makes those with a very low probability of treatment have a high weight, in other words, we have a individual in the treatment group that looks like he/she should belong to the control group, hence we will give a higher weight to this individual. What this does is create a population with the same size as the original, but where everyone is treated. We can apply the same reasoning for the control group.\n",
    "\n",
    "<br></font>\n",
    "</div>"
   ]
  },
  {
   "cell_type": "code",
   "execution_count": 10,
   "metadata": {
    "ExecuteTime": {
     "end_time": "2020-11-07T21:28:42.470247Z",
     "start_time": "2020-11-07T21:28:42.437599Z"
    }
   },
   "outputs": [
    {
     "name": "stdout",
     "output_type": "stream",
     "text": [
      "Original Sample Size 10391\n",
      "Treated Population Sample Size 10390.32177048764\n",
      "Untreated Population Sample Size 10390.613009872111\n"
     ]
    }
   ],
   "source": [
    "treatment_weight = 1.0 / treatment_score\n",
    "control_weight = 1.0 / (1.0 - control_score)\n",
    "\n",
    "print('Original Sample Size', df.shape[0])\n",
    "print('Treated Population Sample Size', treatment_weight.sum())\n",
    "print('Untreated Population Sample Size', control_weight.sum())"
   ]
  },
  {
   "cell_type": "code",
   "execution_count": 11,
   "metadata": {
    "ExecuteTime": {
     "end_time": "2020-11-07T21:28:42.508466Z",
     "start_time": "2020-11-07T21:28:42.472468Z"
    }
   },
   "outputs": [],
   "source": [
    "sample_weight = 'sample_weight'\n",
    "df[sample_weight] = np.where(\n",
    "    df[treatment_col] == 1.0,\n",
    "    1.0 / df[propensity_score],\n",
    "    1.0 / (1.0 - df[propensity_score])\n",
    ")"
   ]
  },
  {
   "cell_type": "markdown",
   "metadata": {},
   "source": [
    "Once the sample weight are created, we can re-estimate the outcome with a weighted Linear Regression."
   ]
  },
  {
   "cell_type": "code",
   "execution_count": 12,
   "metadata": {
    "ExecuteTime": {
     "end_time": "2020-11-07T21:28:42.572127Z",
     "start_time": "2020-11-07T21:28:42.510974Z"
    }
   },
   "outputs": [
    {
     "data": {
      "text/html": [
       "<table class=\"simpletable\">\n",
       "<tr>\n",
       "        <td></td>          <th>coef</th>     <th>std err</th>      <th>t</th>      <th>P>|t|</th>  <th>[0.025</th>    <th>0.975]</th>  \n",
       "</tr>\n",
       "<tr>\n",
       "  <th>Intercept</th>    <td>   -0.1463</td> <td>    0.014</td> <td>  -10.771</td> <td> 0.000</td> <td>   -0.173</td> <td>   -0.120</td>\n",
       "</tr>\n",
       "<tr>\n",
       "  <th>intervention</th> <td>    0.4430</td> <td>    0.019</td> <td>   23.055</td> <td> 0.000</td> <td>    0.405</td> <td>    0.481</td>\n",
       "</tr>\n",
       "</table>"
      ],
      "text/plain": [
       "<class 'statsmodels.iolib.table.SimpleTable'>"
      ]
     },
     "execution_count": 12,
     "metadata": {},
     "output_type": "execute_result"
    }
   ],
   "source": [
    "smf.wls(f'{label_col} ~ {treatment_col}', data=df, weights=df[sample_weight]).fit().summary().tables[1]"
   ]
  },
  {
   "cell_type": "code",
   "execution_count": 13,
   "metadata": {
    "ExecuteTime": {
     "end_time": "2020-11-07T21:28:42.615998Z",
     "start_time": "2020-11-07T21:28:42.574811Z"
    }
   },
   "outputs": [
    {
     "name": "stdout",
     "output_type": "stream",
     "text": [
      "-0.14633238200283927 [0.44298379]\n"
     ]
    }
   ],
   "source": [
    "linear = LinearRegression()\n",
    "linear.fit(df[[treatment_col]], df[label_col], sample_weight=df[sample_weight])\n",
    "print(linear.intercept_, linear.coef_)"
   ]
  },
  {
   "cell_type": "markdown",
   "metadata": {},
   "source": [
    "<div class=\"alert alert-block alert-info\">\n",
    "<font color=black><br>\n",
    "\n",
    "- Even though scikit-learn's LinearRegression by default doesn't give us an estimated standard error, we can estimate this using bootstrapping. \n",
    "- After repeating this step for lots of times, we will get a distribution of the outcome estimation. \n",
    "- We will also use this time to organize the overall workflow into one single code cell.\n",
    "\n",
    "<br></font>\n",
    "</div>"
   ]
  },
  {
   "cell_type": "code",
   "execution_count": 14,
   "metadata": {
    "ExecuteTime": {
     "end_time": "2020-11-07T21:28:42.654750Z",
     "start_time": "2020-11-07T21:28:42.618472Z"
    }
   },
   "outputs": [],
   "source": [
    "def run_propensity_score_estimation(df, input_cols, treatment_col, label_col):\n",
    "\n",
    "    # df is our pre-processed data\n",
    "    df = df.sample(frac=1, replace=True)\n",
    "\n",
    "    # estimate the propensity score\n",
    "    logistic = LogisticRegression()\n",
    "    logistic.fit(df[input_cols], df[treatment_col])\n",
    "    propensity_score = logistic.predict_proba(df[input_cols])[:, 1]\n",
    "\n",
    "    # calculate the inverse propensity weight\n",
    "    sample_weight = np.where(\n",
    "        df[treatment_col] == 1.0,\n",
    "        1.0 / propensity_score,\n",
    "        1.0 / (1.0 - propensity_score)\n",
    "    )\n",
    "\n",
    "    # estimate the outcome using weighted regression\n",
    "    linear = LinearRegression()\n",
    "    linear.fit(df[[treatment_col]], df[label_col], sample_weight=sample_weight)\n",
    "    return linear.coef_[0]"
   ]
  },
  {
   "cell_type": "code",
   "execution_count": 15,
   "metadata": {
    "ExecuteTime": {
     "end_time": "2020-11-07T21:29:41.423629Z",
     "start_time": "2020-11-07T21:28:42.657074Z"
    }
   },
   "outputs": [
    {
     "name": "stdout",
     "output_type": "stream",
     "text": [
      "ATE: 0.44316067964475614\n",
      "95% C.I.: (0.40296349415700955, 0.48174597763178034)\n"
     ]
    }
   ],
   "source": [
    "np.random.seed(88)\n",
    "\n",
    "# the bootstrap approach of computing standard error can be computationally expensive on large datasets.\n",
    "bootstrap_sample = 1000\n",
    "parallel = Parallel(n_jobs=4)\n",
    "ates = parallel(delayed(run_propensity_score_estimation)(df,\n",
    "                                                         input_cols,\n",
    "                                                         treatment_col,\n",
    "                                                         label_col)\n",
    "                for _ in range(bootstrap_sample))\n",
    "\n",
    "ates = np.array(ates)\n",
    "print(f\"ATE: {ates.mean()}\")\n",
    "print(f\"95% C.I.: {(np.percentile(ates, 2.5), np.percentile(ates, 97.5))}\")"
   ]
  },
  {
   "cell_type": "markdown",
   "metadata": {},
   "source": [
    "# Reference"
   ]
  },
  {
   "cell_type": "markdown",
   "metadata": {},
   "source": [
    "- [Github: Python Causality Handbook - Propensity Score](https://matheusfacure.github.io/python-causality-handbook/11-Propensity-Score.html)\n",
    "- [Github: Python Causality Handbook - Beyond Confounders](https://matheusfacure.github.io/python-causality-handbook/07-Beyond-Confounders.html)\n",
    "- [A Practical Guide for Using Propensity Score Weighting in R](http://www.math.umd.edu/~slud/s818M-MissingData/PropensityScoreWeightingR.pdf)\n",
    "- [Source code used](http://nbviewer.jupyter.org/github/ethen8181/machine-learning/blob/master/ab_tests/causal_inference/inverse_propensity_weighting.ipynb)"
   ]
  },
  {
   "cell_type": "markdown",
   "metadata": {},
   "source": [
    "# Conclusion"
   ]
  },
  {
   "cell_type": "markdown",
   "metadata": {},
   "source": [
    "<div class=\"alert alert-block alert-danger\">\n",
    "<font color=black><br>\n",
    "\n",
    "- Aim to include confounding variables, variables that effects both the treatment and the outcome.<br>\n",
    "- It's a good idea to add variables that predicts the outcome.<br>\n",
    "- It's a bad idea to add variables that only predicts the treatment, this correlation with the treatment will make it harder for us to detect the true effect of the treatment.<br>\n",
    "\n",
    "<br></font>\n",
    "</div>"
   ]
  },
  {
   "cell_type": "code",
   "execution_count": null,
   "metadata": {},
   "outputs": [],
   "source": []
  }
 ],
 "metadata": {
  "hide_input": false,
  "kernelspec": {
   "display_name": "trainingAI",
   "language": "python",
   "name": "trainingai"
  },
  "language_info": {
   "codemirror_mode": {
    "name": "ipython",
    "version": 3
   },
   "file_extension": ".py",
   "mimetype": "text/x-python",
   "name": "python",
   "nbconvert_exporter": "python",
   "pygments_lexer": "ipython3",
   "version": "3.8.5"
  },
  "toc": {
   "nav_menu": {},
   "number_sections": true,
   "sideBar": true,
   "skip_h1_title": false,
   "title_cell": "Table of Contents",
   "title_sidebar": "Contents",
   "toc_cell": true,
   "toc_position": {
    "height": "calc(100% - 180px)",
    "left": "10px",
    "top": "150px",
    "width": "229.594px"
   },
   "toc_section_display": true,
   "toc_window_display": true
  },
  "varInspector": {
   "cols": {
    "lenName": 16,
    "lenType": 16,
    "lenVar": 40
   },
   "kernels_config": {
    "python": {
     "delete_cmd_postfix": "",
     "delete_cmd_prefix": "del ",
     "library": "var_list.py",
     "varRefreshCmd": "print(var_dic_list())"
    },
    "r": {
     "delete_cmd_postfix": ") ",
     "delete_cmd_prefix": "rm(",
     "library": "var_list.r",
     "varRefreshCmd": "cat(var_dic_list()) "
    }
   },
   "types_to_exclude": [
    "module",
    "function",
    "builtin_function_or_method",
    "instance",
    "_Feature"
   ],
   "window_display": false
  }
 },
 "nbformat": 4,
 "nbformat_minor": 4
}
