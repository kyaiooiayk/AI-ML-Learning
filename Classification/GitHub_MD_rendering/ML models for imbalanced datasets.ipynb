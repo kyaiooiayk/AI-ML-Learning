{
 "cells": [
  {
   "cell_type": "markdown",
   "metadata": {},
   "source": [
    "# Introduction\n",
    "<hr style = \"border:2px solid black\" ></hr>"
   ]
  },
  {
   "cell_type": "markdown",
   "metadata": {},
   "source": [
    "\n",
    "**What?** ML models for imbalanced datasets\n",
    "\n",
""   ]
  },
  {
   "cell_type": "markdown",
   "metadata": {},
   "source": [
    "# Import modules\n",
    "<hr style = \"border:2px solid black\" ></hr>"
   ]
  },
  {
   "cell_type": "code",
   "execution_count": 1,
   "metadata": {
    "ExecuteTime": {
     "end_time": "2022-01-22T15:39:50.295893Z",
     "start_time": "2022-01-22T15:39:49.101659Z"
    }
   },
   "outputs": [],
   "source": [
    "import pandas as pd\n",
    "from sklearn.model_selection import train_test_split\n",
    "from sklearn.ensemble import RandomForestClassifier\n",
    "import matplotlib.pyplot as plt\n",
    "from sklearn.metrics import matthews_corrcoef\n",
    "from sklearn.model_selection import cross_validate\n",
    "from sklearn.metrics import make_scorer, recall_score, matthews_corrcoef\n",
    "import numpy as np\n",
    "import matplotlib.pyplot as plt\n",
    "from matplotlib import colors"
   ]
  },
  {
   "cell_type": "markdown",
   "metadata": {},
   "source": [
    "# Auxiliary functions\n",
    "<hr style = \"border:2px solid black\" ></hr>"
   ]
  },
  {
   "cell_type": "code",
   "execution_count": 2,
   "metadata": {
    "ExecuteTime": {
     "end_time": "2022-01-22T15:39:50.348017Z",
     "start_time": "2022-01-22T15:39:50.298128Z"
    }
   },
   "outputs": [],
   "source": [
    "# Custom function for making polar plot\n",
    "def make_polar_plot(data, plotlabel):\n",
    "    N = len(data)\n",
    "    theta = np.linspace(0.0, 2 * np.pi, N, endpoint=False)\n",
    "    radii = data\n",
    "    width = 2 * np.pi / N\n",
    "\n",
    "    ax = plt.subplot(111, polar=True)\n",
    "\n",
    "    bars = ax.bar(theta, radii, width=width, bottom=0.0)\n",
    "    ax.xaxis.set_ticks(theta)\n",
    "\n",
    "    #ax.set_xticklabels(radii.index, fontsize=14)\n",
    "    ax.set_xticklabels(['', '', ''])\n",
    "    ax.tick_params(axis='x', which='major')\n",
    "\n",
    "    cmap = colors.ListedColormap(['#F8766D', '#7CAE00', '#00BFC4'])\n",
    "\n",
    "    for r, bar in zip(theta, bars):\n",
    "        #bar.set_facecolor(plt.cm.hsv(r / np.pi / 2))\n",
    "        bar.set_facecolor(cmap(r / np.pi / 2))\n",
    "        bar.set_alpha(0.7)\n",
    "        bar.set_edgecolor('black')\n",
    "\n",
    "    #ax.legend(bars, radii.index, loc='lower right', bbox_to_anchor=(1.3, 0) )\n",
    "\n",
    "    ax.set_title(plotlabel, fontsize=14,\n",
    "                 fontweight='bold', pad=5)  # Training set\n",
    "\n",
    "    txt = plotlabel.split()\n",
    "    txt2 = [x.capitalize() for x in txt]\n",
    "    txt3 = ''.join(txt2)\n",
    "\n",
    "    plt.tight_layout()"
   ]
  },
  {
   "cell_type": "markdown",
   "metadata": {
    "id": "9R-SY-ZmgYK_"
   },
   "source": [
    "# Load the data\n",
    "<hr style = \"border:2px solid black\" ></hr>"
   ]
  },
  {
   "cell_type": "code",
   "execution_count": 3,
   "metadata": {
    "ExecuteTime": {
     "end_time": "2022-01-22T15:39:50.807890Z",
     "start_time": "2022-01-22T15:39:50.350797Z"
    },
    "colab": {
     "base_uri": "https://localhost:8080/",
     "height": 439
    },
    "id": "IGbr9AzuKKFH",
    "outputId": "5820968d-1cbc-424f-9737-71b473002d02"
   },
   "outputs": [
    {
     "data": {
      "text/html": [
       "<style scoped>\n",
       "    .dataframe tbody tr th:only-of-type {\n",
       "        vertical-align: middle;\n",
       "    }\n",
       "\n",
       "    .dataframe tbody tr th {\n",
       "        vertical-align: top;\n",
       "    }\n",
       "\n",
       "    .dataframe thead th {\n",
       "        text-align: right;\n",
       "    }\n",
       "</style>\n",
       "<table border=\"1\" class=\"dataframe\">\n",
       "  <thead>\n",
       "    <tr style=\"text-align: right;\">\n",
       "      <th></th>\n",
       "      <th>PubchemFP0</th>\n",
       "      <th>PubchemFP1</th>\n",
       "      <th>PubchemFP2</th>\n",
       "      <th>PubchemFP3</th>\n",
       "      <th>PubchemFP4</th>\n",
       "      <th>PubchemFP5</th>\n",
       "      <th>PubchemFP6</th>\n",
       "      <th>PubchemFP7</th>\n",
       "      <th>PubchemFP8</th>\n",
       "      <th>PubchemFP9</th>\n",
       "      <th>...</th>\n",
       "      <th>PubchemFP872</th>\n",
       "      <th>PubchemFP873</th>\n",
       "      <th>PubchemFP874</th>\n",
       "      <th>PubchemFP875</th>\n",
       "      <th>PubchemFP876</th>\n",
       "      <th>PubchemFP877</th>\n",
       "      <th>PubchemFP878</th>\n",
       "      <th>PubchemFP879</th>\n",
       "      <th>PubchemFP880</th>\n",
       "      <th>Activity</th>\n",
       "    </tr>\n",
       "  </thead>\n",
       "  <tbody>\n",
       "    <tr>\n",
       "      <th>0</th>\n",
       "      <td>1</td>\n",
       "      <td>1</td>\n",
       "      <td>1</td>\n",
       "      <td>0</td>\n",
       "      <td>0</td>\n",
       "      <td>0</td>\n",
       "      <td>0</td>\n",
       "      <td>0</td>\n",
       "      <td>0</td>\n",
       "      <td>1</td>\n",
       "      <td>...</td>\n",
       "      <td>0</td>\n",
       "      <td>0</td>\n",
       "      <td>0</td>\n",
       "      <td>0</td>\n",
       "      <td>0</td>\n",
       "      <td>0</td>\n",
       "      <td>0</td>\n",
       "      <td>0</td>\n",
       "      <td>0</td>\n",
       "      <td>active</td>\n",
       "    </tr>\n",
       "    <tr>\n",
       "      <th>1</th>\n",
       "      <td>0</td>\n",
       "      <td>0</td>\n",
       "      <td>0</td>\n",
       "      <td>0</td>\n",
       "      <td>0</td>\n",
       "      <td>0</td>\n",
       "      <td>0</td>\n",
       "      <td>0</td>\n",
       "      <td>0</td>\n",
       "      <td>1</td>\n",
       "      <td>...</td>\n",
       "      <td>0</td>\n",
       "      <td>0</td>\n",
       "      <td>0</td>\n",
       "      <td>0</td>\n",
       "      <td>0</td>\n",
       "      <td>0</td>\n",
       "      <td>0</td>\n",
       "      <td>0</td>\n",
       "      <td>0</td>\n",
       "      <td>active</td>\n",
       "    </tr>\n",
       "    <tr>\n",
       "      <th>2</th>\n",
       "      <td>1</td>\n",
       "      <td>1</td>\n",
       "      <td>1</td>\n",
       "      <td>0</td>\n",
       "      <td>0</td>\n",
       "      <td>0</td>\n",
       "      <td>0</td>\n",
       "      <td>0</td>\n",
       "      <td>0</td>\n",
       "      <td>1</td>\n",
       "      <td>...</td>\n",
       "      <td>0</td>\n",
       "      <td>0</td>\n",
       "      <td>0</td>\n",
       "      <td>0</td>\n",
       "      <td>0</td>\n",
       "      <td>0</td>\n",
       "      <td>0</td>\n",
       "      <td>0</td>\n",
       "      <td>0</td>\n",
       "      <td>active</td>\n",
       "    </tr>\n",
       "    <tr>\n",
       "      <th>3</th>\n",
       "      <td>1</td>\n",
       "      <td>1</td>\n",
       "      <td>1</td>\n",
       "      <td>0</td>\n",
       "      <td>0</td>\n",
       "      <td>0</td>\n",
       "      <td>0</td>\n",
       "      <td>0</td>\n",
       "      <td>0</td>\n",
       "      <td>1</td>\n",
       "      <td>...</td>\n",
       "      <td>0</td>\n",
       "      <td>0</td>\n",
       "      <td>0</td>\n",
       "      <td>0</td>\n",
       "      <td>0</td>\n",
       "      <td>0</td>\n",
       "      <td>0</td>\n",
       "      <td>0</td>\n",
       "      <td>0</td>\n",
       "      <td>active</td>\n",
       "    </tr>\n",
       "    <tr>\n",
       "      <th>4</th>\n",
       "      <td>0</td>\n",
       "      <td>0</td>\n",
       "      <td>0</td>\n",
       "      <td>0</td>\n",
       "      <td>0</td>\n",
       "      <td>0</td>\n",
       "      <td>0</td>\n",
       "      <td>0</td>\n",
       "      <td>0</td>\n",
       "      <td>1</td>\n",
       "      <td>...</td>\n",
       "      <td>0</td>\n",
       "      <td>0</td>\n",
       "      <td>0</td>\n",
       "      <td>0</td>\n",
       "      <td>0</td>\n",
       "      <td>0</td>\n",
       "      <td>0</td>\n",
       "      <td>0</td>\n",
       "      <td>0</td>\n",
       "      <td>active</td>\n",
       "    </tr>\n",
       "    <tr>\n",
       "      <th>...</th>\n",
       "      <td>...</td>\n",
       "      <td>...</td>\n",
       "      <td>...</td>\n",
       "      <td>...</td>\n",
       "      <td>...</td>\n",
       "      <td>...</td>\n",
       "      <td>...</td>\n",
       "      <td>...</td>\n",
       "      <td>...</td>\n",
       "      <td>...</td>\n",
       "      <td>...</td>\n",
       "      <td>...</td>\n",
       "      <td>...</td>\n",
       "      <td>...</td>\n",
       "      <td>...</td>\n",
       "      <td>...</td>\n",
       "      <td>...</td>\n",
       "      <td>...</td>\n",
       "      <td>...</td>\n",
       "      <td>...</td>\n",
       "      <td>...</td>\n",
       "    </tr>\n",
       "    <tr>\n",
       "      <th>573</th>\n",
       "      <td>1</td>\n",
       "      <td>1</td>\n",
       "      <td>1</td>\n",
       "      <td>0</td>\n",
       "      <td>0</td>\n",
       "      <td>0</td>\n",
       "      <td>0</td>\n",
       "      <td>0</td>\n",
       "      <td>0</td>\n",
       "      <td>1</td>\n",
       "      <td>...</td>\n",
       "      <td>0</td>\n",
       "      <td>0</td>\n",
       "      <td>0</td>\n",
       "      <td>0</td>\n",
       "      <td>0</td>\n",
       "      <td>0</td>\n",
       "      <td>0</td>\n",
       "      <td>0</td>\n",
       "      <td>0</td>\n",
       "      <td>inactive</td>\n",
       "    </tr>\n",
       "    <tr>\n",
       "      <th>574</th>\n",
       "      <td>1</td>\n",
       "      <td>1</td>\n",
       "      <td>0</td>\n",
       "      <td>0</td>\n",
       "      <td>0</td>\n",
       "      <td>0</td>\n",
       "      <td>0</td>\n",
       "      <td>0</td>\n",
       "      <td>0</td>\n",
       "      <td>1</td>\n",
       "      <td>...</td>\n",
       "      <td>0</td>\n",
       "      <td>0</td>\n",
       "      <td>0</td>\n",
       "      <td>0</td>\n",
       "      <td>0</td>\n",
       "      <td>0</td>\n",
       "      <td>0</td>\n",
       "      <td>0</td>\n",
       "      <td>0</td>\n",
       "      <td>inactive</td>\n",
       "    </tr>\n",
       "    <tr>\n",
       "      <th>575</th>\n",
       "      <td>1</td>\n",
       "      <td>1</td>\n",
       "      <td>1</td>\n",
       "      <td>0</td>\n",
       "      <td>0</td>\n",
       "      <td>0</td>\n",
       "      <td>0</td>\n",
       "      <td>0</td>\n",
       "      <td>0</td>\n",
       "      <td>1</td>\n",
       "      <td>...</td>\n",
       "      <td>0</td>\n",
       "      <td>0</td>\n",
       "      <td>0</td>\n",
       "      <td>0</td>\n",
       "      <td>0</td>\n",
       "      <td>0</td>\n",
       "      <td>0</td>\n",
       "      <td>0</td>\n",
       "      <td>0</td>\n",
       "      <td>inactive</td>\n",
       "    </tr>\n",
       "    <tr>\n",
       "      <th>576</th>\n",
       "      <td>1</td>\n",
       "      <td>1</td>\n",
       "      <td>0</td>\n",
       "      <td>0</td>\n",
       "      <td>0</td>\n",
       "      <td>0</td>\n",
       "      <td>0</td>\n",
       "      <td>0</td>\n",
       "      <td>0</td>\n",
       "      <td>1</td>\n",
       "      <td>...</td>\n",
       "      <td>0</td>\n",
       "      <td>0</td>\n",
       "      <td>0</td>\n",
       "      <td>0</td>\n",
       "      <td>0</td>\n",
       "      <td>0</td>\n",
       "      <td>0</td>\n",
       "      <td>0</td>\n",
       "      <td>0</td>\n",
       "      <td>inactive</td>\n",
       "    </tr>\n",
       "    <tr>\n",
       "      <th>577</th>\n",
       "      <td>1</td>\n",
       "      <td>1</td>\n",
       "      <td>0</td>\n",
       "      <td>0</td>\n",
       "      <td>0</td>\n",
       "      <td>0</td>\n",
       "      <td>0</td>\n",
       "      <td>0</td>\n",
       "      <td>0</td>\n",
       "      <td>1</td>\n",
       "      <td>...</td>\n",
       "      <td>0</td>\n",
       "      <td>0</td>\n",
       "      <td>0</td>\n",
       "      <td>0</td>\n",
       "      <td>0</td>\n",
       "      <td>0</td>\n",
       "      <td>0</td>\n",
       "      <td>0</td>\n",
       "      <td>0</td>\n",
       "      <td>inactive</td>\n",
       "    </tr>\n",
       "  </tbody>\n",
       "</table>\n",
       "<p>578 rows × 882 columns</p>\n",
""      ],
      "text/plain": [
       "     PubchemFP0  PubchemFP1  PubchemFP2  PubchemFP3  PubchemFP4  PubchemFP5  \\\n",
       "0             1           1           1           0           0           0   \n",
       "1             0           0           0           0           0           0   \n",
       "2             1           1           1           0           0           0   \n",
       "3             1           1           1           0           0           0   \n",
       "4             0           0           0           0           0           0   \n",
       "..          ...         ...         ...         ...         ...         ...   \n",
       "573           1           1           1           0           0           0   \n",
       "574           1           1           0           0           0           0   \n",
       "575           1           1           1           0           0           0   \n",
       "576           1           1           0           0           0           0   \n",
       "577           1           1           0           0           0           0   \n",
       "\n",
       "     PubchemFP6  PubchemFP7  PubchemFP8  PubchemFP9  ...  PubchemFP872  \\\n",
       "0             0           0           0           1  ...             0   \n",
       "1             0           0           0           1  ...             0   \n",
       "2             0           0           0           1  ...             0   \n",
       "3             0           0           0           1  ...             0   \n",
       "4             0           0           0           1  ...             0   \n",
       "..          ...         ...         ...         ...  ...           ...   \n",
       "573           0           0           0           1  ...             0   \n",
       "574           0           0           0           1  ...             0   \n",
       "575           0           0           0           1  ...             0   \n",
       "576           0           0           0           1  ...             0   \n",
       "577           0           0           0           1  ...             0   \n",
       "\n",
       "     PubchemFP873  PubchemFP874  PubchemFP875  PubchemFP876  PubchemFP877  \\\n",
       "0               0             0             0             0             0   \n",
       "1               0             0             0             0             0   \n",
       "2               0             0             0             0             0   \n",
       "3               0             0             0             0             0   \n",
       "4               0             0             0             0             0   \n",
       "..            ...           ...           ...           ...           ...   \n",
       "573             0             0             0             0             0   \n",
       "574             0             0             0             0             0   \n",
       "575             0             0             0             0             0   \n",
       "576             0             0             0             0             0   \n",
       "577             0             0             0             0             0   \n",
       "\n",
       "     PubchemFP878  PubchemFP879  PubchemFP880  Activity  \n",
       "0               0             0             0    active  \n",
       "1               0             0             0    active  \n",
       "2               0             0             0    active  \n",
       "3               0             0             0    active  \n",
       "4               0             0             0    active  \n",
       "..            ...           ...           ...       ...  \n",
       "573             0             0             0  inactive  \n",
       "574             0             0             0  inactive  \n",
       "575             0             0             0  inactive  \n",
       "576             0             0             0  inactive  \n",
       "577             0             0             0  inactive  \n",
       "\n",
       "[578 rows x 882 columns]"
      ]
     },
     "execution_count": 3,
     "metadata": {},
     "output_type": "execute_result"
    }
   ],
   "source": [
    "df = pd.read_csv(\n",
    "    'https://raw.githubusercontent.com/dataprofessor/data/master/hcv_classification.csv', index_col=False)\n",
    "df"
   ]
  },
  {
   "cell_type": "code",
   "execution_count": 4,
   "metadata": {
    "ExecuteTime": {
     "end_time": "2022-01-22T15:39:50.813855Z",
     "start_time": "2022-01-22T15:39:50.809375Z"
    },
    "id": "rzDaIo_L-upA"
   },
   "outputs": [],
   "source": [
    "X = df.drop(['Activity'], axis=1)\n",
    "y = df['Activity']"
   ]
  },
  {
   "cell_type": "markdown",
   "metadata": {
    "id": "A2NNvmc8grik"
   },
   "source": [
    "# Class distribution\n",
    "<hr style = \"border:2px solid black\" ></hr>"
   ]
  },
  {
   "cell_type": "code",
   "execution_count": 5,
   "metadata": {
    "ExecuteTime": {
     "end_time": "2022-01-22T15:39:50.818768Z",
     "start_time": "2022-01-22T15:39:50.815172Z"
    },
    "colab": {
     "base_uri": "https://localhost:8080/"
    },
    "id": "KbgTftGQKtH4",
    "outputId": "c81ed9a8-43cd-4ac7-d761-842cf34c63d7"
   },
   "outputs": [
    {
     "data": {
      "text/plain": [
       "active      412\n",
       "inactive    166\n",
       "Name: Activity, dtype: int64"
      ]
     },
     "execution_count": 5,
     "metadata": {},
     "output_type": "execute_result"
    }
   ],
   "source": [
    "activity_count = y.value_counts()\n",
    "activity_count"
   ]
  },
  {
   "cell_type": "code",
   "execution_count": 6,
   "metadata": {
    "ExecuteTime": {
     "end_time": "2022-01-22T15:39:50.918591Z",
     "start_time": "2022-01-22T15:39:50.820104Z"
    },
    "colab": {
     "base_uri": "https://localhost:8080/",
     "height": 265
    },
    "id": "YM0hGKo6LH4T",
    "outputId": "e88fb340-5667-424b-8cbb-ab1cc0b0ede0"
   },
   "outputs": [
    {
     "data": {
      "text/plain": [
       "<AxesSubplot:ylabel='Activity'>"
      ]
     },
     "execution_count": 6,
     "metadata": {},
     "output_type": "execute_result"
    },
    {
     "data": {
      "image/png": "[encoded data removed]",
      "text/plain": [
       "<Figure size 432x288 with 1 Axes>"
      ]
     },
     "metadata": {},
     "output_type": "display_data"
    }
   ],
   "source": [
    "# Show pie plot (Approach 1)\n",
    "y.value_counts().plot.pie(autopct='%.2f')"
   ]
  },
  {
   "cell_type": "code",
   "execution_count": 7,
   "metadata": {
    "ExecuteTime": {
     "end_time": "2022-01-22T15:39:50.998443Z",
     "start_time": "2022-01-22T15:39:50.921406Z"
    },
    "colab": {
     "base_uri": "https://localhost:8080/",
     "height": 350
    },
    "id": "ITo2bYdkNAyn",
    "outputId": "d62fe743-0377-47dc-c82b-b6202963e1fd"
   },
   "outputs": [
    {
     "data": {
      "text/plain": [
       "([<matplotlib.patches.Wedge at 0x7fb3ee5d2140>,\n",
       "  <matplotlib.patches.Wedge at 0x7fb3ee5d2860>],\n",
       " [Text(-0.6818247054992794, 0.863200481331435, 'active'),\n",
       "  Text(0.6818247054992798, -0.8632004813314348, 'inactive')],\n",
       " [Text(-0.3719043848177887, 0.4708366261807827, '71.28'),\n",
       "  Text(0.3719043848177889, -0.47083662618078254, '28.72')])"
      ]
     },
     "execution_count": 7,
     "metadata": {},
     "output_type": "execute_result"
    },
    {
     "data": {
      "image/png": "[encoded data removed]",
      "text/plain": [
       "<Figure size 432x288 with 1 Axes>"
      ]
     },
     "metadata": {},
     "output_type": "display_data"
    }
   ],
   "source": [
    "# Show pie plot (Approach 2)\n",
    "\n",
    "fig1, ax1 = plt.subplots()\n",
    "ax1.pie(y.value_counts(), autopct='%.2f', labels=activity_count.index)"
   ]
  },
  {
   "cell_type": "code",
   "execution_count": 8,
   "metadata": {
    "ExecuteTime": {
     "end_time": "2022-01-22T15:39:51.006300Z",
     "start_time": "2022-01-22T15:39:51.001058Z"
    },
    "colab": {
     "base_uri": "https://localhost:8080/"
    },
    "id": "B7vaPsdtb6yo",
    "outputId": "dadbf0bc-be00-435b-aba0-35a84e0e8823"
   },
   "outputs": [
    {
     "data": {
      "text/plain": [
       "Index(['active', 'inactive'], dtype='object')"
      ]
     },
     "execution_count": 8,
     "metadata": {},
     "output_type": "execute_result"
    }
   ],
   "source": [
    "activity_count.index"
   ]
  },
  {
   "cell_type": "markdown",
   "metadata": {
    "id": "CzAfcmYPCQ7T"
   },
   "source": [
    "# Data splitting\n",
    "<hr style = \"border:2px solid black\" ></hr>"
   ]
  },
  {
   "cell_type": "code",
   "execution_count": 9,
   "metadata": {
    "ExecuteTime": {
     "end_time": "2022-01-22T15:39:51.021646Z",
     "start_time": "2022-01-22T15:39:51.013417Z"
    },
    "id": "Agda0CIMAq4f"
   },
   "outputs": [],
   "source": [
    "X_train, X_test, y_train, y_test = train_test_split(X, y, test_size=0.2, random_state=42)"
   ]
  },
  {
   "cell_type": "code",
   "execution_count": 10,
   "metadata": {
    "ExecuteTime": {
     "end_time": "2022-01-22T15:39:51.031906Z",
     "start_time": "2022-01-22T15:39:51.024598Z"
    },
    "colab": {
     "base_uri": "https://localhost:8080/"
    },
    "id": "QeD4QKpgAq7i",
    "outputId": "17bf899e-7122-4398-9f1e-a639b5f7f7bd"
   },
   "outputs": [
    {
     "data": {
      "text/plain": [
       "((462, 881), (462,), (116, 881), (116,))"
      ]
     },
     "execution_count": 10,
     "metadata": {},
     "output_type": "execute_result"
    }
   ],
   "source": [
    "X_train.shape, y_train.shape, X_test.shape, y_test.shape"
   ]
  },
  {
   "cell_type": "code",
   "execution_count": 11,
   "metadata": {
    "ExecuteTime": {
     "end_time": "2022-01-22T15:39:51.118100Z",
     "start_time": "2022-01-22T15:39:51.035373Z"
    },
    "colab": {
     "base_uri": "https://localhost:8080/",
     "height": 265
    },
    "id": "nmsLc0-3DtNF",
    "outputId": "12e3451b-4d80-4212-be07-d2f936480fe6"
   },
   "outputs": [
    {
     "data": {
      "text/plain": [
       "<AxesSubplot:ylabel='Activity'>"
      ]
     },
     "execution_count": 11,
     "metadata": {},
     "output_type": "execute_result"
    },
    {
     "data": {
      "image/png": "[encoded data removed]",
      "text/plain": [
       "<Figure size 432x288 with 1 Axes>"
      ]
     },
     "metadata": {},
     "output_type": "display_data"
    }
   ],
   "source": [
    "# Pie chart of the training set\n",
    "y_train.value_counts().plot.pie(autopct='%.2f')"
   ]
  },
  {
   "cell_type": "code",
   "execution_count": 12,
   "metadata": {
    "ExecuteTime": {
     "end_time": "2022-01-22T15:39:51.127161Z",
     "start_time": "2022-01-22T15:39:51.120697Z"
    },
    "colab": {
     "base_uri": "https://localhost:8080/"
    },
    "id": "2bmXwX9pEAG4",
    "outputId": "d948891d-2b88-4ace-de64-a64d92393b61"
   },
   "outputs": [
    {
     "data": {
      "text/plain": [
       "active      330\n",
       "inactive    132\n",
       "Name: Activity, dtype: int64"
      ]
     },
     "execution_count": 12,
     "metadata": {},
     "output_type": "execute_result"
    }
   ],
   "source": [
    "y_train.value_counts()"
   ]
  },
  {
   "cell_type": "markdown",
   "metadata": {
    "id": "WqpU647eE3x0"
   },
   "source": [
    "# Class balancing\n",
    "<hr style = \"border:2px solid black\" ></hr>"
   ]
  },
  {
   "cell_type": "markdown",
   "metadata": {
    "id": "z9Iaj_7Z_1tD"
   },
   "source": [
    "## Random Undersampling\n",
    "\n",
    "``'not minority'`` = resample all classes but the minority class"
   ]
  },
  {
   "cell_type": "code",
   "execution_count": 13,
   "metadata": {
    "ExecuteTime": {
     "end_time": "2022-01-22T15:39:51.356730Z",
     "start_time": "2022-01-22T15:39:51.130015Z"
    },
    "colab": {
     "base_uri": "https://localhost:8080/",
     "height": 264
    },
    "id": "UmASVvdo9ZXT",
    "outputId": "53b10d78-1c14-422a-fb54-289ae5859b64"
   },
   "outputs": [
    {
     "data": {
      "image/png": "[encoded data removed]",
      "text/plain": [
       "<Figure size 432x288 with 1 Axes>"
      ]
     },
     "metadata": {},
     "output_type": "display_data"
    }
   ],
   "source": [
    "from imblearn.under_sampling import RandomUnderSampler\n",
    "\n",
    "rus = RandomUnderSampler(sampling_strategy=1) # Numerical value\n",
    "# rus = RandomUnderSampler(sampling_strategy=\"not minority\") # String\n",
    "X_train_rus, y_train_rus = rus.fit_resample(X_train, y_train)\n",
    "\n",
    "ax = y_train_rus.value_counts().plot.pie(autopct='%.2f')\n",
    "_ = ax.set_title(\"Under-sampling\")"
   ]
  },
  {
   "cell_type": "code",
   "execution_count": 14,
   "metadata": {
    "ExecuteTime": {
     "end_time": "2022-01-22T15:39:51.362352Z",
     "start_time": "2022-01-22T15:39:51.358512Z"
    },
    "colab": {
     "base_uri": "https://localhost:8080/"
    },
    "id": "WDfajzxR_GDa",
    "outputId": "159baddb-abad-484d-81c8-003bfc285992"
   },
   "outputs": [
    {
     "data": {
      "text/plain": [
       "active      132\n",
       "inactive    132\n",
       "Name: Activity, dtype: int64"
      ]
     },
     "execution_count": 14,
     "metadata": {},
     "output_type": "execute_result"
    }
   ],
   "source": [
    "# Class distribution\n",
    "y_train_rus.value_counts()"
   ]
  },
  {
   "cell_type": "markdown",
   "metadata": {
    "id": "cmkd6twKDCTP"
   },
   "source": [
    "## Random Oversampling\n",
    "\n",
    "``\"not majority\"`` = resample all classes but the majority class\n",
    "\n"
   ]
  },
  {
   "cell_type": "code",
   "execution_count": 15,
   "metadata": {
    "ExecuteTime": {
     "end_time": "2022-01-22T15:39:51.562561Z",
     "start_time": "2022-01-22T15:39:51.363962Z"
    },
    "colab": {
     "base_uri": "https://localhost:8080/",
     "height": 264
    },
    "id": "8r6dnTdcDSds",
    "outputId": "2703beed-5fe3-49d4-e70c-916e5e0af5aa"
   },
   "outputs": [
    {
     "data": {
      "image/png": "[encoded data removed]",
      "text/plain": [
       "<Figure size 432x288 with 1 Axes>"
      ]
     },
     "metadata": {},
     "output_type": "display_data"
    }
   ],
   "source": [
    "from imblearn.over_sampling import RandomOverSampler\n",
    "\n",
    "#ros = RandomOverSampler(sampling_strategy=1) # Float\n",
    "ros = RandomOverSampler(sampling_strategy=\"not majority\") # String\n",
    "X_train_ros, y_train_ros = ros.fit_resample(X_train, y_train)\n",
    "\n",
    "ax = y_train_ros.value_counts().plot.pie(autopct='%.2f')\n",
    "_ = ax.set_title(\"Over-sampling\")"
   ]
  },
  {
   "cell_type": "code",
   "execution_count": 16,
   "metadata": {
    "ExecuteTime": {
     "end_time": "2022-01-22T15:39:51.568488Z",
     "start_time": "2022-01-22T15:39:51.564320Z"
    },
    "colab": {
     "base_uri": "https://localhost:8080/"
    },
    "id": "jfguxlUEDbow",
    "outputId": "1b02908b-be36-4336-a60f-151cc619e731"
   },
   "outputs": [
    {
     "data": {
      "text/plain": [
       "active      330\n",
       "inactive    330\n",
       "Name: Activity, dtype: int64"
      ]
     },
     "execution_count": 16,
     "metadata": {},
     "output_type": "execute_result"
    }
   ],
   "source": [
    "y_train_ros.value_counts()"
   ]
  },
  {
   "cell_type": "markdown",
   "metadata": {
    "id": "-qeS6soPWviH"
   },
   "source": [
    "---"
   ]
  },
  {
   "cell_type": "markdown",
   "metadata": {
    "id": "GvUYSd-IWuhq"
   },
   "source": [
    "# Model building\n",
    "<hr style = \"border:2px solid black\" ></hr>"
   ]
  },
  {
   "cell_type": "markdown",
   "metadata": {
    "id": "cw8kuB8NYbI7"
   },
   "source": [
    "## Model building without class balancing"
   ]
  },
  {
   "cell_type": "code",
   "execution_count": 17,
   "metadata": {
    "ExecuteTime": {
     "end_time": "2022-01-22T15:39:52.584011Z",
     "start_time": "2022-01-22T15:39:51.570234Z"
    },
    "colab": {
     "base_uri": "https://localhost:8080/",
     "height": 142
    },
    "id": "Z0Nse0leZW1D",
    "outputId": "c07e135e-d400-45ef-9c99-5590b7599ce9"
   },
   "outputs": [
    {
     "data": {
      "text/html": [
       "<style scoped>\n",
       "    .dataframe tbody tr th:only-of-type {\n",
       "        vertical-align: middle;\n",
       "    }\n",
       "\n",
       "    .dataframe tbody tr th {\n",
       "        vertical-align: top;\n",
       "    }\n",
       "\n",
       "    .dataframe thead th {\n",
       "        text-align: right;\n",
       "    }\n",
       "</style>\n",
       "<table border=\"1\" class=\"dataframe\">\n",
       "  <thead>\n",
       "    <tr style=\"text-align: right;\">\n",
       "      <th></th>\n",
       "      <th>Performance_metric_names</th>\n",
       "      <th>Performance_metric_values</th>\n",
       "    </tr>\n",
       "  </thead>\n",
       "  <tbody>\n",
       "    <tr>\n",
       "      <th>0</th>\n",
       "      <td>MCC_train</td>\n",
       "      <td>1.000000</td>\n",
       "    </tr>\n",
       "    <tr>\n",
       "      <th>1</th>\n",
       "      <td>MCC_CV</td>\n",
       "      <td>0.755845</td>\n",
       "    </tr>\n",
       "    <tr>\n",
       "      <th>2</th>\n",
       "      <td>MCC_test</td>\n",
       "      <td>0.721667</td>\n",
       "    </tr>\n",
       "  </tbody>\n",
       "</table>\n",
""      ],
      "text/plain": [
       "  Performance_metric_names  Performance_metric_values\n",
       "0                MCC_train                   1.000000\n",
       "1                   MCC_CV                   0.755845\n",
       "2                 MCC_test                   0.721667"
      ]
     },
     "execution_count": 17,
     "metadata": {},
     "output_type": "execute_result"
    }
   ],
   "source": [
    "model = RandomForestClassifier(random_state=42)\n",
    "model.fit(X_train, y_train)\n",
    "\n",
    "# Training Cross-validation Models\n",
    "from sklearn.metrics import make_scorer, recall_score, matthews_corrcoef\n",
    "from sklearn.model_selection import cross_validate\n",
    "\n",
    "model_cv = RandomForestClassifier(random_state=42)\n",
    "cv_scoring = {'MCC': make_scorer(matthews_corrcoef)}\n",
    "cv = cross_validate(model_cv, X_train, y_train, cv=5, scoring=cv_scoring)\n",
    "\n",
    "# Apply model to make prediction\n",
    "from sklearn.metrics import matthews_corrcoef\n",
    "\n",
    "y_train_pred = model.predict(X_train)\n",
    "y_test_pred = model.predict(X_test)\n",
    "  \n",
    "mcc_train = matthews_corrcoef(y_train, y_train_pred)\n",
    "mcc_test = matthews_corrcoef(y_test, y_test_pred)\n",
    "mcc_cv = cv['test_MCC'].mean()\n",
    "\n",
    "# Display model performance results\n",
    "df_labels = pd.Series(['MCC_train', 'MCC_CV', 'MCC_test'], name = 'Performance_metric_names')\n",
    "df_values = pd.Series([mcc_train, mcc_cv, mcc_test], name = 'Performance_metric_values')\n",
    "df1 = pd.concat([df_labels, df_values], axis=1)\n",
    "df1"
   ]
  },
  {
   "cell_type": "markdown",
   "metadata": {
    "id": "s7cuwLaQhyEz"
   },
   "source": [
    "## Model building with undersampled balanced class"
   ]
  },
  {
   "cell_type": "code",
   "execution_count": 18,
   "metadata": {
    "ExecuteTime": {
     "end_time": "2022-01-22T15:39:53.521142Z",
     "start_time": "2022-01-22T15:39:52.585881Z"
    },
    "colab": {
     "base_uri": "https://localhost:8080/",
     "height": 142
    },
    "id": "JmeL88xkh4JM",
    "outputId": "cb72a2fc-9382-4055-8e27-5752e9789222"
   },
   "outputs": [
    {
     "data": {
      "text/html": [
       "<style scoped>\n",
       "    .dataframe tbody tr th:only-of-type {\n",
       "        vertical-align: middle;\n",
       "    }\n",
       "\n",
       "    .dataframe tbody tr th {\n",
       "        vertical-align: top;\n",
       "    }\n",
       "\n",
       "    .dataframe thead th {\n",
       "        text-align: right;\n",
       "    }\n",
       "</style>\n",
       "<table border=\"1\" class=\"dataframe\">\n",
       "  <thead>\n",
       "    <tr style=\"text-align: right;\">\n",
       "      <th></th>\n",
       "      <th>Performance_metric_names</th>\n",
       "      <th>Performance_metric_values</th>\n",
       "    </tr>\n",
       "  </thead>\n",
       "  <tbody>\n",
       "    <tr>\n",
       "      <th>0</th>\n",
       "      <td>MCC_train</td>\n",
       "      <td>1.000000</td>\n",
       "    </tr>\n",
       "    <tr>\n",
       "      <th>1</th>\n",
       "      <td>MCC_CV</td>\n",
       "      <td>0.792929</td>\n",
       "    </tr>\n",
       "    <tr>\n",
       "      <th>2</th>\n",
       "      <td>MCC_test</td>\n",
       "      <td>0.728203</td>\n",
       "    </tr>\n",
       "  </tbody>\n",
       "</table>\n",
""      ],
      "text/plain": [
       "  Performance_metric_names  Performance_metric_values\n",
       "0                MCC_train                   1.000000\n",
       "1                   MCC_CV                   0.792929\n",
       "2                 MCC_test                   0.728203"
      ]
     },
     "execution_count": 18,
     "metadata": {},
     "output_type": "execute_result"
    }
   ],
   "source": [
    "model = RandomForestClassifier(random_state=42)\n",
    "model.fit(X_train_rus, y_train_rus)\n",
    "\n",
    "# Training Cross-validation Models\n",
    "from sklearn.metrics import make_scorer, recall_score, matthews_corrcoef\n",
    "from sklearn.model_selection import cross_validate\n",
    "\n",
    "model_cv = RandomForestClassifier(random_state=42)\n",
    "cv_scoring = {'MCC': make_scorer(matthews_corrcoef)}\n",
    "cv = cross_validate(model_cv, X_train_rus, y_train_rus, cv=5, scoring=cv_scoring)\n",
    "\n",
    "# Apply model to make prediction\n",
    "from sklearn.metrics import matthews_corrcoef\n",
    "\n",
    "y_train_pred = model.predict(X_train_rus)\n",
    "y_test_pred = model.predict(X_test)\n",
    "  \n",
    "mcc_train = matthews_corrcoef(y_train_rus, y_train_pred)\n",
    "mcc_test = matthews_corrcoef(y_test, y_test_pred)\n",
    "mcc_cv = cv['test_MCC'].mean()\n",
    "\n",
    "# Display model performance results\n",
    "df_labels = pd.Series(['MCC_train', 'MCC_CV', 'MCC_test'], name = 'Performance_metric_names')\n",
    "df_values = pd.Series([mcc_train, mcc_cv, mcc_test], name = 'Performance_metric_values')\n",
    "df2 = pd.concat([df_labels, df_values], axis=1)\n",
    "df2"
   ]
  },
  {
   "cell_type": "markdown",
   "metadata": {
    "id": "QkcLwvTVlLXV"
   },
   "source": [
    "## Model building with oversampled balanced class"
   ]
  },
  {
   "cell_type": "code",
   "execution_count": 19,
   "metadata": {
    "ExecuteTime": {
     "end_time": "2022-01-22T15:39:54.480757Z",
     "start_time": "2022-01-22T15:39:53.523303Z"
    },
    "colab": {
     "base_uri": "https://localhost:8080/",
     "height": 142
    },
    "id": "eMywELFolNaW",
    "outputId": "a17bdfc8-070d-457b-efa2-ffc56deeaf06"
   },
   "outputs": [
    {
     "data": {
      "text/html": [
       "<style scoped>\n",
       "    .dataframe tbody tr th:only-of-type {\n",
       "        vertical-align: middle;\n",
       "    }\n",
       "\n",
       "    .dataframe tbody tr th {\n",
       "        vertical-align: top;\n",
       "    }\n",
       "\n",
       "    .dataframe thead th {\n",
       "        text-align: right;\n",
       "    }\n",
       "</style>\n",
       "<table border=\"1\" class=\"dataframe\">\n",
       "  <thead>\n",
       "    <tr style=\"text-align: right;\">\n",
       "      <th></th>\n",
       "      <th>Performance_metric_names</th>\n",
       "      <th>Performance_metric_values</th>\n",
       "    </tr>\n",
       "  </thead>\n",
       "  <tbody>\n",
       "    <tr>\n",
       "      <th>0</th>\n",
       "      <td>MCC_train</td>\n",
       "      <td>1.000000</td>\n",
       "    </tr>\n",
       "    <tr>\n",
       "      <th>1</th>\n",
       "      <td>MCC_CV</td>\n",
       "      <td>0.903361</td>\n",
       "    </tr>\n",
       "    <tr>\n",
       "      <th>2</th>\n",
       "      <td>MCC_test</td>\n",
       "      <td>0.721667</td>\n",
       "    </tr>\n",
       "  </tbody>\n",
       "</table>\n",
""      ],
      "text/plain": [
       "  Performance_metric_names  Performance_metric_values\n",
       "0                MCC_train                   1.000000\n",
       "1                   MCC_CV                   0.903361\n",
       "2                 MCC_test                   0.721667"
      ]
     },
     "execution_count": 19,
     "metadata": {},
     "output_type": "execute_result"
    }
   ],
   "source": [
    "model = RandomForestClassifier(random_state=42)\n",
    "model.fit(X_train_ros, y_train_ros)\n",
    "\n",
    "# Training Cross-validation Models\n",
    "from sklearn.metrics import make_scorer, recall_score, matthews_corrcoef\n",
    "from sklearn.model_selection import cross_validate\n",
    "\n",
    "model_cv = RandomForestClassifier(random_state=42)\n",
    "cv_scoring = {'MCC': make_scorer(matthews_corrcoef)}\n",
    "cv = cross_validate(model_cv, X_train_ros, y_train_ros, cv=5, scoring=cv_scoring)\n",
    "\n",
    "# Apply model to make prediction\n",
    "from sklearn.metrics import matthews_corrcoef\n",
    "\n",
    "y_train_pred = model.predict(X_train_ros)\n",
    "y_test_pred = model.predict(X_test)\n",
    "  \n",
    "mcc_train = matthews_corrcoef(y_train_ros, y_train_pred)\n",
    "mcc_test = matthews_corrcoef(y_test, y_test_pred)\n",
    "mcc_cv = cv['test_MCC'].mean()\n",
    "\n",
    "# Display model performance results\n",
    "df_labels = pd.Series(['MCC_train', 'MCC_CV', 'MCC_test'], name = 'Performance_metric_names')\n",
    "df_values = pd.Series([mcc_train, mcc_cv, mcc_test], name = 'Performance_metric_values')\n",
    "df3 = pd.concat([df_labels, df_values], axis=1)\n",
    "df3"
   ]
  },
  {
   "cell_type": "markdown",
   "metadata": {
    "id": "m7UudE3HYVMT"
   },
   "source": [
    "## Model building with Class weight balancing"
   ]
  },
  {
   "cell_type": "code",
   "execution_count": 20,
   "metadata": {
    "ExecuteTime": {
     "end_time": "2022-01-22T15:39:55.302194Z",
     "start_time": "2022-01-22T15:39:54.482080Z"
    },
    "colab": {
     "base_uri": "https://localhost:8080/",
     "height": 142
    },
    "id": "8CRjM0CHD8oe",
    "outputId": "80a0a0f1-370c-4038-9525-7801232ddf2e"
   },
   "outputs": [
    {
     "data": {
      "text/html": [
       "<style scoped>\n",
       "    .dataframe tbody tr th:only-of-type {\n",
       "        vertical-align: middle;\n",
       "    }\n",
       "\n",
       "    .dataframe tbody tr th {\n",
       "        vertical-align: top;\n",
       "    }\n",
       "\n",
       "    .dataframe thead th {\n",
       "        text-align: right;\n",
       "    }\n",
       "</style>\n",
       "<table border=\"1\" class=\"dataframe\">\n",
       "  <thead>\n",
       "    <tr style=\"text-align: right;\">\n",
       "      <th></th>\n",
       "      <th>Performance_metric_names</th>\n",
       "      <th>Performance_metric_values</th>\n",
       "    </tr>\n",
       "  </thead>\n",
       "  <tbody>\n",
       "    <tr>\n",
       "      <th>0</th>\n",
       "      <td>MCC_train</td>\n",
       "      <td>1.000000</td>\n",
       "    </tr>\n",
       "    <tr>\n",
       "      <th>1</th>\n",
       "      <td>MCC_CV</td>\n",
       "      <td>0.762438</td>\n",
       "    </tr>\n",
       "    <tr>\n",
       "      <th>2</th>\n",
       "      <td>MCC_test</td>\n",
       "      <td>0.676106</td>\n",
       "    </tr>\n",
       "  </tbody>\n",
       "</table>\n",
""      ],
      "text/plain": [
       "  Performance_metric_names  Performance_metric_values\n",
       "0                MCC_train                   1.000000\n",
       "1                   MCC_CV                   0.762438\n",
       "2                 MCC_test                   0.676106"
      ]
     },
     "execution_count": 20,
     "metadata": {},
     "output_type": "execute_result"
    }
   ],
   "source": [
    "model = RandomForestClassifier(\n",
    "    random_state=42, class_weight='balanced')  # Class weight balancing\n",
    "model.fit(X_train, y_train)\n",
    "\n",
    "# Training Cross-validation Models\n",
    "\n",
    "model_cv = RandomForestClassifier(\n",
    "    random_state=42, class_weight='balanced')  # Class weight balancing\n",
    "cv_scoring = {'MCC': make_scorer(matthews_corrcoef)}\n",
    "cv = cross_validate(model_cv, X_train, y_train, cv=5, scoring=cv_scoring)\n",
    "\n",
    "# Apply model to make prediction\n",
    "\n",
    "y_train_pred = model.predict(X_train)\n",
    "y_test_pred = model.predict(X_test)\n",
    "\n",
    "mcc_train = matthews_corrcoef(y_train, y_train_pred)\n",
    "mcc_test = matthews_corrcoef(y_test, y_test_pred)\n",
    "mcc_cv = cv['test_MCC'].mean()\n",
    "\n",
    "# Display model performance results\n",
    "df_labels = pd.Series(['MCC_train', 'MCC_CV', 'MCC_test'],\n",
    "                      name='Performance_metric_names')\n",
    "df_values = pd.Series([mcc_train, mcc_cv, mcc_test],\n",
    "                      name='Performance_metric_values')\n",
    "df4 = pd.concat([df_labels, df_values], axis=1)\n",
    "df4"
   ]
  },
  {
   "cell_type": "markdown",
   "metadata": {
    "id": "U8032Y92Gvmf"
   },
   "source": [
    "# Summary\n",
    "<hr style = \"border:2px solid black\" ></hr>"
   ]
  },
  {
   "cell_type": "code",
   "execution_count": 21,
   "metadata": {
    "ExecuteTime": {
     "end_time": "2022-01-22T15:39:55.312567Z",
     "start_time": "2022-01-22T15:39:55.304402Z"
    },
    "colab": {
     "base_uri": "https://localhost:8080/",
     "height": 173
    },
    "id": "2qZMMvpQwHLs",
    "outputId": "9f198242-211b-428a-cfde-36353ea046e6"
   },
   "outputs": [
    {
     "data": {
      "text/html": [
       "<style scoped>\n",
       "    .dataframe tbody tr th:only-of-type {\n",
       "        vertical-align: middle;\n",
       "    }\n",
       "\n",
       "    .dataframe tbody tr th {\n",
       "        vertical-align: top;\n",
       "    }\n",
       "\n",
       "    .dataframe thead th {\n",
       "        text-align: right;\n",
       "    }\n",
       "</style>\n",
       "<table border=\"1\" class=\"dataframe\">\n",
       "  <thead>\n",
       "    <tr style=\"text-align: right;\">\n",
       "      <th></th>\n",
       "      <th>Training</th>\n",
       "      <th>CV</th>\n",
       "      <th>Test</th>\n",
       "    </tr>\n",
       "  </thead>\n",
       "  <tbody>\n",
       "    <tr>\n",
       "      <th>No class balancing</th>\n",
       "      <td>1.0</td>\n",
       "      <td>0.755845</td>\n",
       "      <td>0.721667</td>\n",
       "    </tr>\n",
       "    <tr>\n",
       "      <th>Class balancing (undersampling)</th>\n",
       "      <td>1.0</td>\n",
       "      <td>0.792929</td>\n",
       "      <td>0.728203</td>\n",
       "    </tr>\n",
       "    <tr>\n",
       "      <th>Class balancing (oversampling)</th>\n",
       "      <td>1.0</td>\n",
       "      <td>0.903361</td>\n",
       "      <td>0.721667</td>\n",
       "    </tr>\n",
       "    <tr>\n",
       "      <th>Class balancing (class weights)</th>\n",
       "      <td>1.0</td>\n",
       "      <td>0.762438</td>\n",
       "      <td>0.676106</td>\n",
       "    </tr>\n",
       "  </tbody>\n",
       "</table>\n",
""      ],
      "text/plain": [
       "                                 Training        CV      Test\n",
       "No class balancing                    1.0  0.755845  0.721667\n",
       "Class balancing (undersampling)       1.0  0.792929  0.728203\n",
       "Class balancing (oversampling)        1.0  0.903361  0.721667\n",
       "Class balancing (class weights)       1.0  0.762438  0.676106"
      ]
     },
     "execution_count": 21,
     "metadata": {},
     "output_type": "execute_result"
    }
   ],
   "source": [
    "df = pd.concat([df1.Performance_metric_values,\n",
    "                df2.Performance_metric_values,\n",
    "                df3.Performance_metric_values,\n",
    "                df4.Performance_metric_values], axis=1)\n",
    "df.columns = ['No class balancing', 'Class balancing (undersampling)', 'Class balancing (oversampling)', 'Class balancing (class weights)']\n",
    "df = df.T\n",
    "df.columns = ['Training', 'CV', 'Test']\n",
    "df"
   ]
  },
  {
   "cell_type": "code",
   "execution_count": 22,
   "metadata": {
    "ExecuteTime": {
     "end_time": "2022-01-22T15:39:55.642068Z",
     "start_time": "2022-01-22T15:39:55.314533Z"
    },
    "colab": {
     "base_uri": "https://localhost:8080/",
     "height": 298
    },
    "id": "BcFByzNIwRht",
    "outputId": "45c169d1-3036-4929-d890-3280de49aa5a"
   },
   "outputs": [
    {
     "data": {
      "image/png": "[encoded data removed]",
      "text/plain": [
       "<Figure size 432x288 with 1 Axes>"
      ]
     },
     "metadata": {
      "needs_background": "light"
     },
     "output_type": "display_data"
    }
   ],
   "source": [
    "# No class balancing\n",
    "data = df.iloc[0,:]\n",
    "\n",
    "N = len(data)\n",
    "theta = np.linspace(0.0, 2 * np.pi, N, endpoint=False)\n",
    "radii = data\n",
    "width = 2 * np.pi / N\n",
    "\n",
    "ax = plt.subplot(111, polar=True)\n",
    "\n",
    "bars = ax.bar(theta, radii, width=width, bottom=0.0)\n",
    "ax.xaxis.set_ticks(theta)\n",
    "\n",
    "#ax.set_xticklabels(radii.index, fontsize=14)\n",
    "ax.set_xticklabels(['','',''])\n",
    "ax.tick_params(axis='x', which='major')\n",
    "\n",
    "cmap = colors.ListedColormap(['#F8766D', '#7CAE00', '#00BFC4'])\n",
    "\n",
    "for r, bar in zip(theta, bars):\n",
    "    #bar.set_facecolor(plt.cm.hsv(r / np.pi / 2))\n",
    "    bar.set_facecolor(cmap(r / np.pi / 2))\n",
    "    bar.set_alpha(0.8)\n",
    "    bar.set_edgecolor('black')\n",
    "\n",
    "ax.legend(bars, radii.index, loc='lower right', bbox_to_anchor=(1.3, 0) )\n",
    "\n",
    "ax.set_title('No class balancing', fontsize=14, fontweight='bold', pad=5) # Training set\n",
    "\n",
    "plt.tight_layout()"
   ]
  },
  {
   "cell_type": "code",
   "execution_count": 23,
   "metadata": {
    "ExecuteTime": {
     "end_time": "2022-01-22T15:39:55.647000Z",
     "start_time": "2022-01-22T15:39:55.643863Z"
    },
    "colab": {
     "base_uri": "https://localhost:8080/"
    },
    "id": "gl-L0TAggSE2",
    "outputId": "82c962a8-c540-4f83-dedb-9fdf61b5fd77"
   },
   "outputs": [
    {
     "data": {
      "text/plain": [
       "array([0.       , 2.0943951, 4.1887902])"
      ]
     },
     "execution_count": 23,
     "metadata": {},
     "output_type": "execute_result"
    }
   ],
   "source": [
    "theta"
   ]
  },
  {
   "cell_type": "code",
   "execution_count": 24,
   "metadata": {
    "ExecuteTime": {
     "end_time": "2022-01-22T15:39:55.652449Z",
     "start_time": "2022-01-22T15:39:55.648779Z"
    },
    "colab": {
     "base_uri": "https://localhost:8080/"
    },
    "id": "3zDXOQxtgUa4",
    "outputId": "4ef00284-307e-49fc-cd99-992e00bc2b7b"
   },
   "outputs": [
    {
     "data": {
      "text/plain": [
       "Training    1.000000\n",
       "CV          0.755845\n",
       "Test        0.721667\n",
       "Name: No class balancing, dtype: float64"
      ]
     },
     "execution_count": 24,
     "metadata": {},
     "output_type": "execute_result"
    }
   ],
   "source": [
    "radii"
   ]
  },
  {
   "cell_type": "code",
   "execution_count": null,
   "metadata": {
    "ExecuteTime": {
     "end_time": "2022-01-22T15:17:08.681168Z",
     "start_time": "2022-01-22T15:17:08.676249Z"
    },
    "id": "0CjExFIG23T3"
   },
   "outputs": [],
   "source": []
  },
  {
   "cell_type": "code",
   "execution_count": 25,
   "metadata": {
    "ExecuteTime": {
     "end_time": "2022-01-22T15:39:55.940737Z",
     "start_time": "2022-01-22T15:39:55.654278Z"
    },
    "colab": {
     "base_uri": "https://localhost:8080/",
     "height": 298
    },
    "id": "hYwTbWKW3BfK",
    "outputId": "1b768be4-b519-484c-b1f6-2dc25cf105de"
   },
   "outputs": [
    {
     "data": {
      "image/png": "[encoded data removed]",
      "text/plain": [
       "<Figure size 432x288 with 1 Axes>"
      ]
     },
     "metadata": {
      "needs_background": "light"
     },
     "output_type": "display_data"
    }
   ],
   "source": [
    "# No class balancing\n",
    "data = df.iloc[0,:]\n",
    "\n",
    "make_polar_plot(data, 'No class balancing')"
   ]
  },
  {
   "cell_type": "code",
   "execution_count": 26,
   "metadata": {
    "ExecuteTime": {
     "end_time": "2022-01-22T15:39:56.250140Z",
     "start_time": "2022-01-22T15:39:55.942708Z"
    },
    "colab": {
     "base_uri": "https://localhost:8080/",
     "height": 298
    },
    "id": "0DtYfi4P3Biu",
    "outputId": "a9bedd28-d8ed-4de2-b2fb-970938e640c9"
   },
   "outputs": [
    {
     "data": {
      "image/png": "[encoded data removed]",
      "text/plain": [
       "<Figure size 432x288 with 1 Axes>"
      ]
     },
     "metadata": {
      "needs_background": "light"
     },
     "output_type": "display_data"
    }
   ],
   "source": [
    "# Class balancing (undersampling)\n",
    "data = df.iloc[1,:]\n",
    "\n",
    "make_polar_plot(data, 'Class balancing undersampling')"
   ]
  },
  {
   "cell_type": "code",
   "execution_count": 27,
   "metadata": {
    "ExecuteTime": {
     "end_time": "2022-01-22T15:39:56.546405Z",
     "start_time": "2022-01-22T15:39:56.257381Z"
    },
    "colab": {
     "base_uri": "https://localhost:8080/",
     "height": 298
    },
    "id": "h-4p4BNEKckq",
    "outputId": "1b6ad661-dbf6-4b3f-8c5c-dc1c00010c3d"
   },
   "outputs": [
    {
     "data": {
      "image/png": "[encoded data removed]",
      "text/plain": [
       "<Figure size 432x288 with 1 Axes>"
      ]
     },
     "metadata": {
      "needs_background": "light"
     },
     "output_type": "display_data"
    }
   ],
   "source": [
    "# Class balancing (oversampling)\n",
    "data = df.iloc[2,:]\n",
    "\n",
    "make_polar_plot(data, 'Class balancing oversampling')"
   ]
  },
  {
   "cell_type": "code",
   "execution_count": 28,
   "metadata": {
    "ExecuteTime": {
     "end_time": "2022-01-22T15:39:56.828914Z",
     "start_time": "2022-01-22T15:39:56.548304Z"
    },
    "colab": {
     "base_uri": "https://localhost:8080/",
     "height": 298
    },
    "id": "LYXI0wzaLKhR",
    "outputId": "3360f5e9-4624-44e4-d5fe-6cca2fc89385"
   },
   "outputs": [
    {
     "data": {
      "image/png": "[encoded data removed]",
      "text/plain": [
       "<Figure size 432x288 with 1 Axes>"
      ]
     },
     "metadata": {
      "needs_background": "light"
     },
     "output_type": "display_data"
    }
   ],
   "source": [
    "# Class balancing (class weights)\n",
    "data = df.iloc[3,:]\n",
    "\n",
    "make_polar_plot(data, 'Class balancing class weights')"
   ]
  },
  {
   "cell_type": "markdown",
   "metadata": {},
   "source": [
    "# References\n",
    "<hr style = \"border:2px solid black\" ></hr>"
   ]
  },
  {
   "cell_type": "markdown",
   "metadata": {},
   "source": [
    "\n",
    "- https://github.com/dataprofessor/machine-learning-for-imbalanced-data\n",
    "\n",
""   ]
  },
  {
   "cell_type": "code",
   "execution_count": null,
   "metadata": {},
   "outputs": [],
   "source": []
  }
 ],
 "metadata": {
  "colab": {
   "collapsed_sections": [],
   "name": "How-to-build-machine-learning-models-for-imbalanced-datasets.ipynb",
   "provenance": []
  },
  "kernelspec": {
   "display_name": "trainingAI",
   "language": "python",
   "name": "trainingai"
  },
  "language_info": {
   "codemirror_mode": {
    "name": "ipython",
    "version": 3
   },
   "file_extension": ".py",
   "mimetype": "text/x-python",
   "name": "python",
   "nbconvert_exporter": "python",
   "pygments_lexer": "ipython3",
   "version": "3.10.0"
  },
  "toc": {
   "base_numbering": 1,
   "nav_menu": {},
   "number_sections": true,
   "sideBar": true,
   "skip_h1_title": false,
   "title_cell": "Table of Contents",
   "title_sidebar": "Contents",
   "toc_cell": false,
   "toc_position": {},
   "toc_section_display": true,
   "toc_window_display": true
  },
  "varInspector": {
   "cols": {
    "lenName": 16,
    "lenType": 16,
    "lenVar": 40
   },
   "kernels_config": {
    "python": {
     "delete_cmd_postfix": "",
     "delete_cmd_prefix": "del ",
     "library": "var_list.py",
     "varRefreshCmd": "print(var_dic_list())"
    },
    "r": {
     "delete_cmd_postfix": ") ",
     "delete_cmd_prefix": "rm(",
     "library": "var_list.r",
     "varRefreshCmd": "cat(var_dic_list()) "
    }
   },
   "types_to_exclude": [
    "module",
    "function",
    "builtin_function_or_method",
    "instance",
    "_Feature"
   ],
   "window_display": false
  }
 },
 "nbformat": 4,
 "nbformat_minor": 1
}
