{
 "cells": [
  {
   "cell_type": "markdown",
   "id": "ordered-reality",
   "metadata": {},
   "source": [
    "# Introduction\n",
    "<hr style=\"border:2px solid black\"> </hr>"
   ]
  },
  {
   "cell_type": "markdown",
   "id": "studied-career",
   "metadata": {},
   "source": [
    "<div class=\"alert alert-warning\">\n",
    "<font color=black>\n",
    "\n",
    "**What?** How to use return_state or return_sequences in Keras?\n",
    "\n",
    "</font>\n",
    "</div>"
   ]
  },
  {
   "cell_type": "markdown",
   "id": "clear-juvenile",
   "metadata": {},
   "source": [
    "# Import modules\n",
    "<hr style=\"border:2px solid black\"> </hr>"
   ]
  },
  {
   "cell_type": "code",
   "execution_count": 1,
   "id": "innovative-italic",
   "metadata": {},
   "outputs": [],
   "source": [
    "from keras.models import Model\n",
    "from keras.layers import Input\n",
    "from keras.layers import LSTM\n",
    "from numpy import array\n",
    "import keras"
   ]
  },
  {
   "cell_type": "markdown",
   "id": "sized-qualification",
   "metadata": {},
   "source": [
    "# Return sequences\n",
    "<hr style=\"border:2px solid black\"> </hr>"
   ]
  },
  {
   "cell_type": "markdown",
   "id": "hearing-press",
   "metadata": {},
   "source": [
    "<div class=\"alert alert-info\">\n",
    "<font color=black>\n",
    "\n",
    "- `return_sequences=True` returns all the hidden states a(t1), a(t2), ....a(T).\n",
    "- `return_sequences=False` is the **default** option and returns last hidden state output a(T). \n",
    "    \n",
    "- Conceptually we would need:\n",
    "    - The **last hidden state output** offers the last abstract representation of the input sequence. In cases such as classification and regression this is all we need.\n",
    "    - In other cases, we need the full sequence as the output. One example is the encoder-decoder case.\n",
    "    \n",
    "</font>\n",
    "</div>"
   ]
  },
  {
   "cell_type": "code",
   "execution_count": 5,
   "id": "major-healthcare",
   "metadata": {},
   "outputs": [],
   "source": [
    "# Constant initialiser so the results are reproducible\n",
    "k_init = keras.initializers.Constant(value=0.1)\n",
    "b_init = keras.initializers.Constant(value=0)\n",
    "r_init = keras.initializers.Constant(value=0.1)\n",
    "\n",
    "# LSTM units\n",
    "units = 1\n",
    "\n",
    "# Define model\n",
    "inputs1 = Input(shape=(3, 2))"
   ]
  },
  {
   "cell_type": "code",
   "execution_count": 10,
   "id": "buried-finger",
   "metadata": {
    "cell_style": "split"
   },
   "outputs": [
    {
     "name": "stdout",
     "output_type": "stream",
     "text": [
      "[[[0.00772376]\n",
      "  [0.01633997]\n",
      "  [0.02572775]]] (1, 3, 1)\n"
     ]
    }
   ],
   "source": [
    "# Define the model\n",
    "lstm1 = LSTM(units, return_sequences=True, kernel_initializer=k_init,\n",
    "             bias_initializer=b_init, recurrent_initializer=r_init)(inputs1)\n",
    "model = Model(inputs=inputs1, outputs=lstm1)\n",
    "\n",
    "# Define input data\n",
    "data = array([0.1, 0.2, 0.3, 0.1, 0.2, 0.3]).reshape((1, 3, 2))\n",
    "\n",
    "# Make and show prediction\n",
    "output = model.predict(data)\n",
    "print(output, output.shape)"
   ]
  },
  {
   "cell_type": "code",
   "execution_count": 11,
   "id": "advised-listing",
   "metadata": {
    "cell_style": "split"
   },
   "outputs": [
    {
     "name": "stdout",
     "output_type": "stream",
     "text": [
      "[[0.02572775]] (1, 1)\n"
     ]
    }
   ],
   "source": [
    "# Define model\n",
    "lstm1 = LSTM(units, kernel_initializer=k_init,\n",
    "             bias_initializer=b_init, recurrent_initializer=r_init)(inputs1)\n",
    "model = Model(inputs=inputs1, outputs=lstm1)\n",
    "\n",
    "# Define input data\n",
    "data = array([0.1, 0.2, 0.3, 0.1, 0.2, 0.3]).reshape((1, 3, 2))\n",
    "\n",
    "# Dake and show prediction\n",
    "preds = model.predict(data)\n",
    "print(preds, preds.shape)"
   ]
  },
  {
   "cell_type": "markdown",
   "id": "bacterial-twins",
   "metadata": {},
   "source": [
    "<div class=\"alert alert-info\">\n",
    "<font color=black>\n",
    "\n",
    "-  We can see the output array's shape of the LSTM layer is `(1,3,1)` which stands for `(#Samples, #Time steps, #LSTM units)`. \n",
    "- Compared to when return_sequences is set to False, the shape will be `(#Samples, #LSTM units)`, which only returns the last time step hidden state.\n",
    "\n",
    "</font>\n",
    "</div>"
   ]
  },
  {
   "cell_type": "markdown",
   "id": "greenhouse-mediterranean",
   "metadata": {},
   "source": [
    "# Return states\n",
    "<hr style=\"border:2px solid black\"> </hr>"
   ]
  },
  {
   "cell_type": "markdown",
   "id": "treated-victoria",
   "metadata": {},
   "source": [
    "<div class=\"alert alert-info\">\n",
    "<font color=black>\n",
    "\n",
    "- In Keras we can output RNN's last cell state in addition to its hidden states by setting `return_state=True`. \n",
    "- Return sequences refer to return the cell state c<t>. For GRU, as we discussed in \"RNN in a nutshell\" section, `a<t>=c<t>`, so you can get around without this parameter. But for LSTM, hidden state and cell state are not the same.\n",
    "- The output of the LSTM layer has three components, they are `(a<T>, a<T>, c<T>)`, \"T\" stands for the last timestep, each one has the shape `(#Samples, #LSTM units)`.\n",
    "- The major reason you want to set the return_state is an RNN may need to have its cell state initialized with previous time step while the weights are shared, such as in an encoder-decoder model.\n",
    "    \n",
    "</font>\n",
    "</div>"
   ]
  },
  {
   "cell_type": "code",
   "execution_count": 12,
   "id": "emerging-tongue",
   "metadata": {},
   "outputs": [
    {
     "name": "stdout",
     "output_type": "stream",
     "text": [
      "[array([[0.02572775]], dtype=float32), array([[0.02572775]], dtype=float32), array([[0.05020291]], dtype=float32)]\n",
      "(1, 1)\n",
      "(1, 1)\n",
      "(1, 1)\n"
     ]
    }
   ],
   "source": [
    "# define model\n",
    "inputs1 = Input(shape=(3, 2))\n",
    "lstm1, state_h, state_c = LSTM(units, return_state=True, kernel_initializer=k_init, bias_initializer=b_init, recurrent_initializer=r_init)(inputs1)\n",
    "model = Model(inputs=inputs1, outputs=[lstm1, state_h, state_c])\n",
    "# define input data\n",
    "data = array([0.1, 0.2, 0.3, 0.1, 0.2, 0.3]).reshape((1,3,2))\n",
    "\n",
    "# make and show prediction\n",
    "output = model.predict(data)\n",
    "print(output)\n",
    "for a in output:\n",
    "    print(a.shape) "
   ]
  },
  {
   "cell_type": "markdown",
   "id": "ahead-saying",
   "metadata": {},
   "source": [
    "# References\n",
    "<hr style=\"border:2px solid black\"> </hr>"
   ]
  },
  {
   "cell_type": "markdown",
   "id": "experienced-enzyme",
   "metadata": {},
   "source": [
    "<div class=\"alert alert-warning\">\n",
    "<font color=black>\n",
    "\n",
    "- https://www.dlology.com/blog/how-to-use-return_state-or-return_sequences-in-keras/\n",
    "\n",
    "</font>\n",
    "</div>"
   ]
  },
  {
   "cell_type": "code",
   "execution_count": null,
   "id": "incredible-bullet",
   "metadata": {},
   "outputs": [],
   "source": []
  }
 ],
 "metadata": {
  "hide_input": false,
  "kernelspec": {
   "display_name": "trainingAI",
   "language": "python",
   "name": "trainingai"
  },
  "language_info": {
   "codemirror_mode": {
    "name": "ipython",
    "version": 3
   },
   "file_extension": ".py",
   "mimetype": "text/x-python",
   "name": "python",
   "nbconvert_exporter": "python",
   "pygments_lexer": "ipython3",
   "version": "3.8.5"
  }
 },
 "nbformat": 4,
 "nbformat_minor": 5
}
