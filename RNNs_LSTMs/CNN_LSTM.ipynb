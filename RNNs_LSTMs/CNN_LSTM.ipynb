{
 "cells": [
  {
   "cell_type": "code",
   "execution_count": null,
   "metadata": {},
   "outputs": [],
   "source": [
    "\"\"\"\n",
    "What? CNN LSTMs\n",
    "\n",
    "The CNN LSTM architecture involves using Convolutional Neural Network (CNN) layers for feature extraction on input \n",
    "data combined with LSTMs to support sequence prediction. CNN LSTMs were developed for visual time series prediction \n",
    "problems and the application of generating textual descriptions from sequences of images (e.g. videos).\n",
    "\n",
    "https://machinelearningmastery.com/cnn-long-short-term-memory-networks/\n",
    "\"\"\""
   ]
  },
  {
   "cell_type": "code",
   "execution_count": 24,
   "metadata": {},
   "outputs": [],
   "source": [
    "# Import python modules\n",
    "from numpy import zeros, array\n",
    "from random import randint\n",
    "from random import random\n",
    "from matplotlib import pyplot\n",
    "from keras.models import Sequential\n",
    "from keras.layers import Conv2D\n",
    "from keras.layers import MaxPooling2D\n",
    "from keras.layers import LSTM\n",
    "from keras.layers import Dense\n",
    "from keras.layers import Flatten\n",
    "from keras.layers import TimeDistributed"
   ]
  },
  {
   "cell_type": "markdown",
   "metadata": {},
   "source": [
    "### Moving Square Video Prediction Problem"
   ]
  },
  {
   "cell_type": "code",
   "execution_count": null,
   "metadata": {},
   "outputs": [],
   "source": [
    "\"\"\"\n",
    "The problem involves the generation of a sequence of frames. In each image a line is drawn from left to right or \n",
    "right to left. Each frame shows the extension of the line by one pixel. The task is for the model to classify whether\n",
    "the line moved left or right in the sequence of frames. Technically, the problem is a sequence classification problem\n",
    "framed with a many-to-one prediction model.\n",
    "\"\"\""
   ]
  },
  {
   "cell_type": "markdown",
   "metadata": {},
   "source": [
    "### Image Initialization"
   ]
  },
  {
   "cell_type": "code",
   "execution_count": null,
   "metadata": {},
   "outputs": [],
   "source": [
    "\"\"\"\n",
    "We can start off by defining a 2D NumPy array filled with zero values. We will make the images symmetrical, and in \n",
    "this case, 10 pixels by 10 pixels.\n",
    "\"\"\""
   ]
  },
  {
   "cell_type": "code",
   "execution_count": 2,
   "metadata": {},
   "outputs": [],
   "source": [
    "frame = zeros((10,10))"
   ]
  },
  {
   "cell_type": "code",
   "execution_count": null,
   "metadata": {},
   "outputs": [],
   "source": [
    "\"\"\"\n",
    "Next, we can select the row for the first step of the line. We will use the randint() function to select a uniformly\n",
    "random integer between 0 and 9.\n",
    "\"\"\""
   ]
  },
  {
   "cell_type": "code",
   "execution_count": 11,
   "metadata": {},
   "outputs": [],
   "source": [
    "step = randint(0, 10-1)"
   ]
  },
  {
   "cell_type": "code",
   "execution_count": null,
   "metadata": {},
   "outputs": [],
   "source": [
    "\"\"\"\n",
    "We can now select whether we are drawing the line left or right across the image. We will use the random() function \n",
    "to decide. If right, we will start at the left, or column 0, and if left we will start on the right, or column 9.\n",
    "\"\"\""
   ]
  },
  {
   "cell_type": "code",
   "execution_count": 6,
   "metadata": {},
   "outputs": [],
   "source": [
    "right = 1 if random() < 0.5 else 0\n",
    "col = 0 if right else size-1"
   ]
  },
  {
   "cell_type": "code",
   "execution_count": 7,
   "metadata": {},
   "outputs": [],
   "source": [
    "# We can now mark the start of the line.\n",
    "frame[step, col] = 1"
   ]
  },
  {
   "cell_type": "markdown",
   "metadata": {},
   "source": [
    "### Adding Steps"
   ]
  },
  {
   "cell_type": "code",
   "execution_count": null,
   "metadata": {},
   "outputs": [],
   "source": [
    "\"\"\"\n",
    "Now we need a process to add steps to the line. The next step must be a function of the previous step. We will \n",
    "constrain it to be in the next column along (left or right) and be in the same row, the row above or the row below.\n",
    "We will further constrain the movement by the bounds of the image, e.g. no movements below row zero or above row 9.\n",
    "\"\"\""
   ]
  },
  {
   "cell_type": "code",
   "execution_count": 12,
   "metadata": {},
   "outputs": [],
   "source": [
    "lower = max(0, last_step-1)\n",
    "upper = min(10-1, last_step+1)\n",
    "step = randint(lower, upper)"
   ]
  },
  {
   "cell_type": "code",
   "execution_count": 13,
   "metadata": {
    "code_folding": []
   },
   "outputs": [
    {
     "ename": "NameError",
     "evalue": "name 'i' is not defined",
     "output_type": "error",
     "traceback": [
      "\u001b[0;31m---------------------------------------------------------------------------\u001b[0m",
      "\u001b[0;31mNameError\u001b[0m                                 Traceback (most recent call last)",
      "\u001b[0;32m<ipython-input-13-8563cac57ffe>\u001b[0m in \u001b[0;36m<module>\u001b[0;34m\u001b[0m\n\u001b[1;32m      1\u001b[0m \u001b[0;31m# Next, we can make a copy of the last image and mark the new position for the next column along.\u001b[0m\u001b[0;34m\u001b[0m\u001b[0;34m\u001b[0m\u001b[0;34m\u001b[0m\u001b[0m\n\u001b[0;32m----> 2\u001b[0;31m \u001b[0mcolumn\u001b[0m \u001b[0;34m=\u001b[0m \u001b[0mi\u001b[0m \u001b[0;32mif\u001b[0m \u001b[0mright\u001b[0m \u001b[0;32melse\u001b[0m \u001b[0msize\u001b[0m\u001b[0;34m-\u001b[0m\u001b[0;36m1\u001b[0m\u001b[0;34m-\u001b[0m\u001b[0mi\u001b[0m\u001b[0;34m\u001b[0m\u001b[0;34m\u001b[0m\u001b[0m\n\u001b[0m\u001b[1;32m      3\u001b[0m \u001b[0mframe\u001b[0m \u001b[0;34m=\u001b[0m \u001b[0mlast_frame\u001b[0m\u001b[0;34m.\u001b[0m\u001b[0mcopy\u001b[0m\u001b[0;34m(\u001b[0m\u001b[0;34m)\u001b[0m\u001b[0;34m\u001b[0m\u001b[0;34m\u001b[0m\u001b[0m\n\u001b[1;32m      4\u001b[0m \u001b[0mframe\u001b[0m\u001b[0;34m[\u001b[0m\u001b[0mstep\u001b[0m\u001b[0;34m,\u001b[0m \u001b[0mcolumn\u001b[0m\u001b[0;34m]\u001b[0m \u001b[0;34m=\u001b[0m \u001b[0;36m1\u001b[0m\u001b[0;34m\u001b[0m\u001b[0;34m\u001b[0m\u001b[0m\n",
      "\u001b[0;31mNameError\u001b[0m: name 'i' is not defined"
     ]
    }
   ],
   "source": [
    "# Next, we can make a copy of the last image and mark the new position for the next column along.\n",
    "column = i if right else size-1-i\n",
    "frame = last_frame.copy()\n",
    "frame[step, column] = 1"
   ]
  },
  {
   "cell_type": "code",
   "execution_count": null,
   "metadata": {},
   "outputs": [],
   "source": [
    "\"\"\"\n",
    "something has GONE wrong here, there is something missing in the code\n",
    "\"\"\""
   ]
  },
  {
   "cell_type": "markdown",
   "metadata": {},
   "source": [
    "### Instance Generator"
   ]
  },
  {
   "cell_type": "code",
   "execution_count": null,
   "metadata": {},
   "outputs": [],
   "source": [
    "\"\"\"\n",
    "We can capture all of the above behavior in two small functions. The build frames() function takes an argument to \n",
    "define the size of the images and returns a sequence of images and whether the line moves right (1) or left (0). \n",
    "This function calls another function next frame() to create each subsequent frame after the first frame as the line\n",
    "moves across the image. To make the problem concrete, we can plot one sequence. We will generate a small sequence \n",
    "with each image 5x5 pixels and with 5 frames and plot the frames side by side\n",
    "\"\"\""
   ]
  },
  {
   "cell_type": "code",
   "execution_count": 18,
   "metadata": {},
   "outputs": [
    {
     "data": {
      "image/png": "[encoded data removed]",
      "text/plain": [
       "<Figure size 432x288 with 5 Axes>"
      ]
     },
     "metadata": {
      "needs_background": "light"
     },
     "output_type": "display_data"
    }
   ],
   "source": [
    "# generate the next frame in the sequence\n",
    "def next_frame(last_step, last_frame, column):\n",
    "    # define the scope of the next step\n",
    "    lower = max(0, last_step-1)\n",
    "    upper = min(last_frame.shape[0]-1, last_step+1)\n",
    "    # choose the row index for the next step\n",
    "    step = randint(lower, upper)\n",
    "    # copy the prior frame\n",
    "    frame = last_frame.copy()\n",
    "    # add the new step\n",
    "    frame[step, column] = 1\n",
    "    return frame, step\n",
    "\n",
    "# generate a sequence of frames of a dot moving across an image\n",
    "def build_frames(size):\n",
    "    frames = list()\n",
    "    # create the first frame\n",
    "    frame = zeros((size,size))\n",
    "    step = randint(0, size-1)\n",
    "    # decide if we are heading left or right\n",
    "    right = 1 if random() < 0.5 else 0\n",
    "    col = 0 if right else size-1\n",
    "    frame[step, col] = 1\n",
    "    frames.append(frame)\n",
    "    # create all remaining frames\n",
    "    for i in range(1, size):\n",
    "        col = i if right else size-1-i\n",
    "        frame, step = next_frame(step, frame, col)\n",
    "        frames.append(frame)\n",
    "    return frames, right\n",
    "\n",
    "# generate sequence of frames\n",
    "size = 5\n",
    "frames, right = build_frames(size)\n",
    "# plot all feames\n",
    "pyplot.figure()\n",
    "for i in range(size):\n",
    "    # create a grayscale subplot for each frame\n",
    "    pyplot.subplot(1, size, i+1)\n",
    "    pyplot.imshow(frames[i], cmap= \"Greys\" )\n",
    "    # turn of the scale to make it cleaer\n",
    "    ax = pyplot.gca()\n",
    "    ax.get_xaxis().set_visible(False)\n",
    "    ax.get_yaxis().set_visible(False)\n",
    "# show the plot\n",
    "pyplot.show()"
   ]
  },
  {
   "cell_type": "markdown",
   "metadata": {},
   "source": [
    "### Prepare Input for Model"
   ]
  },
  {
   "cell_type": "code",
   "execution_count": 19,
   "metadata": {},
   "outputs": [],
   "source": [
    "\"\"\"\n",
    "Finally, we will prepare a function to generate multiple sequences with the correct shape ready for fitting and\n",
    "evaluating an LSTM model.\n",
    "\"\"\"\n",
    "\n",
    "# generate multiple sequences of frames and reshape for network input\n",
    "def generate_examples(size, n_patterns):\n",
    "    X, y = list(), list()\n",
    "    for _ in range(n_patterns):\n",
    "        frames, right = build_frames(size)\n",
    "        X.append(frames)\n",
    "        y.append(right)\n",
    "    # resize as [samples, timesteps, width, height, channels]\n",
    "    X = array(X).reshape(n_patterns, size, size, size, 1)\n",
    "    y = array(y).reshape(n_patterns, 1)\n",
    "    return X, y"
   ]
  },
  {
   "cell_type": "markdown",
   "metadata": {},
   "source": [
    "### Define and Compile the Model"
   ]
  },
  {
   "cell_type": "code",
   "execution_count": 22,
   "metadata": {},
   "outputs": [
    {
     "name": "stdout",
     "output_type": "stream",
     "text": [
      "Model: \"sequential\"\n",
      "_________________________________________________________________\n",
      "Layer (type)                 Output Shape              Param #   \n",
      "=================================================================\n",
      "time_distributed (TimeDistri (None, None, 49, 49, 2)   10        \n",
      "_________________________________________________________________\n",
      "time_distributed_1 (TimeDist (None, None, 24, 24, 2)   0         \n",
      "_________________________________________________________________\n",
      "time_distributed_2 (TimeDist (None, None, 1152)        0         \n",
      "_________________________________________________________________\n",
      "lstm (LSTM)                  (None, 50)                240600    \n",
      "_________________________________________________________________\n",
      "dense (Dense)                (None, 1)                 51        \n",
      "=================================================================\n",
      "Total params: 240,661\n",
      "Trainable params: 240,661\n",
      "Non-trainable params: 0\n",
      "_________________________________________________________________\n",
      "None\n"
     ]
    }
   ],
   "source": [
    "# configure problem\n",
    "size = 50\n",
    "# define the model\n",
    "model = Sequential()\n",
    "model.add(TimeDistributed(Conv2D(2, (2,2), activation= \"relu\" ),\n",
    "    input_shape=(None,size,size,1)))\n",
    "model.add(TimeDistributed(MaxPooling2D(pool_size=(2, 2))))\n",
    "model.add(TimeDistributed(Flatten()))\n",
    "model.add(LSTM(50))\n",
    "model.add(Dense(1, activation= \"sigmoid\" ))\n",
    "model.compile(loss= \"binary_crossentropy\" , optimizer= \"adam\" , metrics=[\"acc\"])\n",
    "print(model.summary())"
   ]
  },
  {
   "cell_type": "markdown",
   "metadata": {},
   "source": [
    "### Fit the Model"
   ]
  },
  {
   "cell_type": "code",
   "execution_count": null,
   "metadata": {},
   "outputs": [],
   "source": [
    "\"\"\"\n",
    "Here we will train the model on a single epoch of 5,000 randomly generated sequences. Ideally, the internal state \n",
    "of the LSTM would be reset at the end of each sequence.\n",
    "\"\"\""
   ]
  },
  {
   "cell_type": "code",
   "execution_count": 26,
   "metadata": {},
   "outputs": [
    {
     "name": "stdout",
     "output_type": "stream",
     "text": [
      "157/157 [==============================] - 41s 263ms/step - loss: 0.1958 - acc: 0.9274\n"
     ]
    },
    {
     "data": {
      "text/plain": [
       "<tensorflow.python.keras.callbacks.History at 0x1456fe160>"
      ]
     },
     "execution_count": 26,
     "metadata": {},
     "output_type": "execute_result"
    }
   ],
   "source": [
    "# fit model\n",
    "X, y = generate_examples(size, 5000)\n",
    "model.fit(X, y, batch_size=32, epochs=1, verbose=1)"
   ]
  },
  {
   "cell_type": "markdown",
   "metadata": {},
   "source": [
    "### Evaluate the Model"
   ]
  },
  {
   "cell_type": "code",
   "execution_count": null,
   "metadata": {},
   "outputs": [],
   "source": [
    "\"\"\"\n",
    "Now that the model is fit, we can estimate the skill of the model on new random sequences. Here, we can generate \n",
    "100 new random sequences and evaluate the accuracy of the model. Running the example prints both the loss and \n",
    "accuracy of the fit model. Here, we can see the model achieves 100% accuracy. Your results may vary and if you \n",
    "do not see 100% accuracy, try running the example a few times.\n",
    "\"\"\""
   ]
  },
  {
   "cell_type": "code",
   "execution_count": 28,
   "metadata": {},
   "outputs": [
    {
     "name": "stdout",
     "output_type": "stream",
     "text": [
      "loss: 0.016118, acc: 100.000000\n"
     ]
    }
   ],
   "source": [
    "# evaluate model\n",
    "X, y = generate_examples(size, 100)\n",
    "loss, acc = model.evaluate(X, y, verbose=0)\n",
    "print(\"loss: %f, acc: %f\" % (loss, acc*100))"
   ]
  },
  {
   "cell_type": "markdown",
   "metadata": {},
   "source": [
    "### Make Predictions With the Model"
   ]
  },
  {
   "cell_type": "code",
   "execution_count": null,
   "metadata": {},
   "outputs": [],
   "source": [
    "\"\"\"\n",
    "Here we generate a new single random sequence and predict whether the line is moving left or right\n",
    "\"\"\""
   ]
  },
  {
   "cell_type": "code",
   "execution_count": 30,
   "metadata": {},
   "outputs": [
    {
     "name": "stdout",
     "output_type": "stream",
     "text": [
      "WARNING:tensorflow:From <ipython-input-30-5cb0b70d5a0e>:3: Sequential.predict_classes (from tensorflow.python.keras.engine.sequential) is deprecated and will be removed after 2021-01-01.\n",
      "Instructions for updating:\n",
      "Please use instead:* `np.argmax(model.predict(x), axis=-1)`,   if your model does multi-class classification   (e.g. if it uses a `softmax` last-layer activation).* `(model.predict(x) > 0.5).astype(\"int32\")`,   if your model does binary classification   (e.g. if it uses a `sigmoid` last-layer activation).\n",
      "Expected: Right, Predicted: Right\n"
     ]
    }
   ],
   "source": [
    "# prediction on new data\n",
    "X, y = generate_examples(size, 1)\n",
    "yhat = model.predict_classes(X, verbose=0)\n",
    "expected = \"Right\" if y[0]==1 else \"Left\"\n",
    "predicted = \"Right\" if yhat[0]==1 else \"Left\"\n",
    "print(\"Expected: %s, Predicted: %s\"  % (expected, predicted))"
   ]
  },
  {
   "cell_type": "code",
   "execution_count": null,
   "metadata": {},
   "outputs": [],
   "source": []
  }
 ],
 "metadata": {
  "hide_input": false,
  "kernelspec": {
   "display_name": "trainingAI",
   "language": "python",
   "name": "trainingai"
  },
  "language_info": {
   "codemirror_mode": {
    "name": "ipython",
    "version": 3
   },
   "file_extension": ".py",
   "mimetype": "text/x-python",
   "name": "python",
   "nbconvert_exporter": "python",
   "pygments_lexer": "ipython3",
   "version": "3.8.5"
  }
 },
 "nbformat": 4,
 "nbformat_minor": 2
}
